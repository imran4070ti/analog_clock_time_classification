{
 "cells": [
  {
   "cell_type": "markdown",
   "metadata": {},
   "source": [
    "### Import Necessary Modules"
   ]
  },
  {
   "cell_type": "code",
   "execution_count": 56,
   "metadata": {},
   "outputs": [],
   "source": [
    "import torch\n",
    "import cv2\n",
    "import argparse\n",
    "from torchvision.datasets import ImageFolder\n",
    "import torch.nn as nn\n",
    "import torch.nn.functional as F\n",
    "from PIL import Image\n",
    "from torchvision import models, transforms\n",
    "from torchvision.models.swin_transformer import Swin_V2_B_Weights\n",
    "import numpy as np\n",
    "import matplotlib\n",
    "import matplotlib.pyplot as plt\n",
    "import requests\n",
    "import warnings\n",
    "from torch.utils.data import DataLoader\n",
    "import matplotlib.style\n",
    "from tqdm.auto import tqdm\n",
    "import torch.optim as optim\n",
    "import os\n",
    "import seaborn as sns\n",
    "from sklearn.metrics import precision_score, recall_score, f1_score, confusion_matrix, ConfusionMatrixDisplay\n",
    "import numpy as np\n",
    "from PIL import ImageFile\n",
    "ImageFile.LOAD_TRUNCATED_IMAGES = True\n",
    "\n",
    "matplotlib.style.use('ggplot')\n",
    "%matplotlib inline"
   ]
  },
  {
   "cell_type": "code",
   "execution_count": 57,
   "metadata": {},
   "outputs": [],
   "source": [
    "device = 'cuda' if torch.cuda.is_available() else 'cpu'"
   ]
  },
  {
   "cell_type": "markdown",
   "metadata": {},
   "source": [
    "### Resnet50 and Resnet18 Models for Classification"
   ]
  },
  {
   "cell_type": "code",
   "execution_count": 58,
   "metadata": {},
   "outputs": [],
   "source": [
    "class ResNetModel50(nn.Module):\n",
    "    def __init__(self, num_classes=2, weights=None):\n",
    "        super(ResNetModel50, self).__init__()\n",
    "        self.resnet = models.resnet50(weights=weights)\n",
    "        # Modify the final layer to fit your task\n",
    "        num_ftrs = self.resnet.fc.in_features\n",
    "\n",
    "        if num_classes == 2:\n",
    "            # Binary classification\n",
    "            self.resnet.fc = nn.Sequential(\n",
    "                nn.Linear(num_ftrs, 128),\n",
    "                nn.ReLU(),\n",
    "                nn.Linear(128, 1),  # Single output for binary classification\n",
    "                nn.Sigmoid()         # Sigmoid activation for binary classification\n",
    "            )\n",
    "        else:\n",
    "            # Multi-class classification\n",
    "            self.resnet.fc = nn.Sequential(\n",
    "                nn.Linear(num_ftrs, 128),\n",
    "                nn.ReLU(),\n",
    "                nn.Linear(128, num_classes)  # Output size matches the number of classes\n",
    "                # No activation function here because CrossEntropyLoss expects raw logits\n",
    "            )\n",
    "\n",
    "    def forward(self, x):\n",
    "        # Input shape: [batch_size, channels, height, width]\n",
    "        output = self.resnet(x)\n",
    "        return output\n",
    "\n",
    "class ResNetModel18(nn.Module):\n",
    "    def __init__(self, num_classes=2, weights=None):\n",
    "        super(ResNetModel18, self).__init__()\n",
    "        self.resnet = models.resnet18(weights=weights)\n",
    "        # Modify the final layer to fit your task\n",
    "        num_ftrs = self.resnet.fc.in_features\n",
    "\n",
    "        if num_classes == 2:\n",
    "            # Binary classification\n",
    "            self.resnet.fc = nn.Sequential(\n",
    "                nn.Linear(num_ftrs, 128),\n",
    "                nn.ReLU(),\n",
    "                nn.Linear(128, 1),  # Single output for binary classification\n",
    "                nn.Sigmoid()         # Sigmoid activation for binary classification\n",
    "            )\n",
    "        else:\n",
    "            # Multi-class classification\n",
    "            self.resnet.fc = nn.Sequential(\n",
    "                nn.Linear(num_ftrs, 128),\n",
    "                nn.ReLU(),\n",
    "                nn.Linear(128, num_classes)  # Output size matches the number of classes\n",
    "                # No activation function here because CrossEntropyLoss expects raw logits\n",
    "            )\n",
    "\n",
    "    def forward(self, x):\n",
    "        # Input shape: [batch_size, channels, height, width]\n",
    "        output = self.resnet(x)\n",
    "        return output"
   ]
  },
  {
   "cell_type": "code",
   "execution_count": 59,
   "metadata": {},
   "outputs": [],
   "source": [
    "train_transform = transforms.Compose([\n",
    "    transforms.ToTensor(),\n",
    "    transforms.Resize((224, 224)),\n",
    "    transforms.RandomRotation(degrees=(-90, 90)),\n",
    "    transforms.RandomRotation(degrees=(-180, 180)),\n",
    "    transforms.RandomRotation(degrees=(-270, 270)),\n",
    "    transforms.Normalize(mean=[0.485, 0.456, 0.406], std=[0.229, 0.224, 0.225]),\n",
    "    transforms.RandomAffine(degrees=0, translate=(0.1, 0.1), scale=(0.8, 1.2), shear=10),\n",
    "    transforms.RandomHorizontalFlip(),\n",
    "    transforms.RandomVerticalFlip(),\n",
    "])\n",
    "\n",
    "valid_transform = transforms.Compose([\n",
    "    transforms.Resize((224, 224)),\n",
    "    transforms.ToTensor(),\n",
    "    transforms.Normalize(mean=[0.485, 0.456, 0.406], std=[0.229, 0.224, 0.225])\n",
    "])"
   ]
  },
  {
   "cell_type": "code",
   "execution_count": 61,
   "metadata": {},
   "outputs": [],
   "source": [
    "# Datasets\n",
    "train_dataset = ImageFolder(root='/media/imran4070/SSD/imran/datasets/classification/time/train', transform=train_transform)\n",
    "valid_dataset = ImageFolder(root='/media/imran4070/SSD/imran/datasets/classification/time/valid', transform=valid_transform)\n",
    "test_dataset = ImageFolder(root='/media/imran4070/SSD/imran/datasets/classification/time/test', transform=valid_transform)\n"
   ]
  },
  {
   "cell_type": "code",
   "execution_count": 62,
   "metadata": {},
   "outputs": [
    {
     "data": {
      "text/plain": [
       "144"
      ]
     },
     "execution_count": 62,
     "metadata": {},
     "output_type": "execute_result"
    }
   ],
   "source": [
    "len(train_dataset.classes)"
   ]
  },
  {
   "cell_type": "code",
   "execution_count": 63,
   "metadata": {},
   "outputs": [],
   "source": [
    "batch_size = 512"
   ]
  },
  {
   "cell_type": "code",
   "execution_count": 64,
   "metadata": {},
   "outputs": [],
   "source": [
    "# Dataloader\n",
    "train_loader = DataLoader(train_dataset, batch_size=batch_size, shuffle=True)\n",
    "valid_loader = DataLoader(valid_dataset, batch_size=batch_size)\n",
    "test_loader = DataLoader(test_dataset, batch_size=batch_size)"
   ]
  },
  {
   "cell_type": "code",
   "execution_count": 65,
   "metadata": {},
   "outputs": [],
   "source": [
    "def save_model(epochs, model, optimizer, criterion, save_dir = './outputs', is_best = False):\n",
    "    os.makedirs(save_dir, exist_ok=True)\n",
    "    if is_best:\n",
    "        save_path = os.path.join(save_dir, 'best.pth')\n",
    "        torch.save({\n",
    "            'epoch':epochs,\n",
    "            'state_dict':model.state_dict(),\n",
    "            'optimizer_state_dict':optimizer.state_dict(),\n",
    "            'loss':criterion\n",
    "        }, save_path)\n",
    "        print(f'Best model saved as {save_path}')\n",
    "    else:\n",
    "        save_path = os.path.join(save_dir, 'latest.pth')\n",
    "        torch.save({\n",
    "            'epoch':epochs,\n",
    "            'state_dict':model.state_dict(),\n",
    "            'optimizer_state_dict':optimizer.state_dict(),\n",
    "            'loss':criterion\n",
    "        }, save_path)\n",
    "        print(f'Latest model saved as {save_path}')"
   ]
  },
  {
   "cell_type": "code",
   "execution_count": 66,
   "metadata": {},
   "outputs": [],
   "source": [
    "def save_plots(train_acc, valid_acc, train_loss, valid_loss, save_dir = './outputs'):\n",
    "    os.makedirs(save_dir, exist_ok=True)\n",
    "    # accuracy plots\n",
    "    plt.figure(figsize=(10,7))\n",
    "    plt.plot(train_acc, color='green', linestyle='-', label='train accuracy')\n",
    "    plt.plot(valid_acc, color='blue', linestyle='-', label='validation accuracy')\n",
    "    plt.xlabel('Epochs')\n",
    "    plt.ylabel('Accuracy')\n",
    "    plt.legend()\n",
    "    plt.savefig(os.path.join(save_dir,'accuracy.png'))\n",
    "\n",
    "    # loss plots\n",
    "    plt.figure(figsize=(10, 7))\n",
    "    plt.plot(train_loss, color='red', linestyle='-', label='train loss')\n",
    "    plt.plot(valid_loss, color='yellow', linestyle='-', label='validation loss')\n",
    "    plt.xlabel('Epochs')\n",
    "    plt.ylabel('Loss')\n",
    "    plt.legend()\n",
    "    plt.savefig(os.path.join(save_dir,'loss.png'))"
   ]
  },
  {
   "cell_type": "code",
   "execution_count": 69,
   "metadata": {},
   "outputs": [
    {
     "name": "stderr",
     "output_type": "stream",
     "text": [
      "/home/imran4070/anaconda3/envs/torch_tf/lib/python3.10/site-packages/torchvision/models/_utils.py:223: UserWarning: Arguments other than a weight enum or `None` for 'weights' are deprecated since 0.13 and may be removed in the future. The current behavior is equivalent to passing `weights=ResNet18_Weights.IMAGENET1K_V1`. You can also use `weights=ResNet18_Weights.DEFAULT` to get the most up-to-date weights.\n",
      "  warnings.warn(msg)\n"
     ]
    }
   ],
   "source": [
    "model = ResNetModel18(num_classes=144, weights=True)\n",
    "model.to(device);"
   ]
  },
  {
   "cell_type": "code",
   "execution_count": 70,
   "metadata": {},
   "outputs": [],
   "source": [
    "# parameters\n",
    "learning_rate = 1e-3\n",
    "epochs = 300\n",
    "optimizer = optim.Adam(model.parameters(), lr = learning_rate)\n",
    "criterion = nn.CrossEntropyLoss()"
   ]
  },
  {
   "cell_type": "markdown",
   "metadata": {},
   "source": [
    "### Training Function"
   ]
  },
  {
   "cell_type": "code",
   "execution_count": 71,
   "metadata": {},
   "outputs": [],
   "source": [
    "def train(model, train_loader, optimizer, criterion):\n",
    "    model.train()\n",
    "    print('Training....')\n",
    "    train_running_loss = 0.0\n",
    "    train_running_correct = 0\n",
    "    counter = 0\n",
    "\n",
    "    for i, data in tqdm(enumerate(train_loader), total=len(train_loader)):\n",
    "        counter += 1\n",
    "        image, labels = data\n",
    "        image = image.to(device)\n",
    "        labels = labels.to(device)\n",
    "        optimizer.zero_grad()\n",
    "        outputs = model(image)\n",
    "        loss = criterion(outputs, labels)\n",
    "        train_running_loss += loss.item()\n",
    "        _, preds = torch.max(outputs.data, 1)\n",
    "        train_running_correct += (preds == labels).sum().item()\n",
    "        loss.backward()\n",
    "        optimizer.step()\n",
    "    epoch_loss = train_running_loss/counter\n",
    "    epoch_accuracy = 100. * (train_running_correct/len(train_loader.dataset))\n",
    "    return epoch_loss, epoch_accuracy\n",
    "\n"
   ]
  },
  {
   "cell_type": "markdown",
   "metadata": {},
   "source": [
    "### Validation Function"
   ]
  },
  {
   "cell_type": "code",
   "execution_count": 72,
   "metadata": {},
   "outputs": [],
   "source": [
    "def validate(model, valid_loader, criterion):\n",
    "    model.eval()\n",
    "    print('Validating....')\n",
    "    valid_running_loss = 0.0\n",
    "    valid_running_correct = 0\n",
    "    counter = 0\n",
    "    with torch.no_grad():\n",
    "        for i, data in tqdm(enumerate(valid_loader), total=len(valid_loader)):\n",
    "            counter += 1\n",
    "            image, labels = data\n",
    "            image = image.to(device)\n",
    "            labels = labels.to(device)\n",
    "            outputs = model(image)\n",
    "            loss = criterion(outputs, labels)\n",
    "            valid_running_loss += loss.item()\n",
    "            _, preds = torch.max(outputs.data, 1)\n",
    "            valid_running_correct += (preds == labels).sum().item()\n",
    "        epoch_loss = valid_running_loss/counter\n",
    "        epoch_accuracy = 100. * (valid_running_correct/len(valid_loader.dataset))\n",
    "        return epoch_loss, epoch_accuracy\n"
   ]
  },
  {
   "cell_type": "code",
   "execution_count": 73,
   "metadata": {},
   "outputs": [],
   "source": [
    "save_dir = './resnet18_outputs'\n",
    "os.makedirs(save_dir, exist_ok=True)"
   ]
  },
  {
   "cell_type": "code",
   "execution_count": 74,
   "metadata": {},
   "outputs": [
    {
     "name": "stdout",
     "output_type": "stream",
     "text": [
      "[INFO]: Epoch 1/300\n",
      "Training....\n"
     ]
    },
    {
     "name": "stderr",
     "output_type": "stream",
     "text": [
      "100%|██████████| 23/23 [00:34<00:00,  1.50s/it]\n"
     ]
    },
    {
     "name": "stdout",
     "output_type": "stream",
     "text": [
      "Validating....\n"
     ]
    },
    {
     "name": "stderr",
     "output_type": "stream",
     "text": [
      "100%|██████████| 3/3 [00:01<00:00,  2.64it/s]\n"
     ]
    },
    {
     "name": "stdout",
     "output_type": "stream",
     "text": [
      "Training loss: 4.928\tTraining Accuracy: 0.87\n",
      "Validation loss: 5.248\tValidation Accuracy: 1.53\n",
      "Best model saved as ./resnet18_outputs/best.pth\n",
      "Latest model saved as ./resnet18_outputs/latest.pth\n",
      "\n",
      "[INFO]: Epoch 2/300\n",
      "Training....\n"
     ]
    },
    {
     "name": "stderr",
     "output_type": "stream",
     "text": [
      "100%|██████████| 23/23 [00:37<00:00,  1.61s/it]\n"
     ]
    },
    {
     "name": "stdout",
     "output_type": "stream",
     "text": [
      "Validating....\n"
     ]
    },
    {
     "name": "stderr",
     "output_type": "stream",
     "text": [
      "100%|██████████| 3/3 [00:01<00:00,  2.92it/s]\n"
     ]
    },
    {
     "name": "stdout",
     "output_type": "stream",
     "text": [
      "Training loss: 4.345\tTraining Accuracy: 2.43\n",
      "Validation loss: 3.882\tValidation Accuracy: 4.24\n",
      "Best model saved as ./resnet18_outputs/best.pth\n",
      "Latest model saved as ./resnet18_outputs/latest.pth\n",
      "\n",
      "[INFO]: Epoch 3/300\n",
      "Training....\n"
     ]
    },
    {
     "name": "stderr",
     "output_type": "stream",
     "text": [
      "100%|██████████| 23/23 [00:39<00:00,  1.74s/it]\n"
     ]
    },
    {
     "name": "stdout",
     "output_type": "stream",
     "text": [
      "Validating....\n"
     ]
    },
    {
     "name": "stderr",
     "output_type": "stream",
     "text": [
      "100%|██████████| 3/3 [00:01<00:00,  2.89it/s]\n"
     ]
    },
    {
     "name": "stdout",
     "output_type": "stream",
     "text": [
      "Training loss: 3.498\tTraining Accuracy: 5.38\n",
      "Validation loss: 3.126\tValidation Accuracy: 8.06\n",
      "Best model saved as ./resnet18_outputs/best.pth\n",
      "Latest model saved as ./resnet18_outputs/latest.pth\n",
      "\n",
      "[INFO]: Epoch 4/300\n",
      "Training....\n"
     ]
    },
    {
     "name": "stderr",
     "output_type": "stream",
     "text": [
      "100%|██████████| 23/23 [00:32<00:00,  1.43s/it]\n"
     ]
    },
    {
     "name": "stdout",
     "output_type": "stream",
     "text": [
      "Validating....\n"
     ]
    },
    {
     "name": "stderr",
     "output_type": "stream",
     "text": [
      "100%|██████████| 3/3 [00:01<00:00,  2.91it/s]\n"
     ]
    },
    {
     "name": "stdout",
     "output_type": "stream",
     "text": [
      "Training loss: 3.045\tTraining Accuracy: 8.40\n",
      "Validation loss: 3.157\tValidation Accuracy: 6.67\n",
      "Latest model saved as ./resnet18_outputs/latest.pth\n",
      "\n",
      "[INFO]: Epoch 5/300\n",
      "Training....\n"
     ]
    },
    {
     "name": "stderr",
     "output_type": "stream",
     "text": [
      "100%|██████████| 23/23 [00:35<00:00,  1.56s/it]\n"
     ]
    },
    {
     "name": "stdout",
     "output_type": "stream",
     "text": [
      "Validating....\n"
     ]
    },
    {
     "name": "stderr",
     "output_type": "stream",
     "text": [
      "100%|██████████| 3/3 [00:01<00:00,  2.78it/s]\n"
     ]
    },
    {
     "name": "stdout",
     "output_type": "stream",
     "text": [
      "Training loss: 2.813\tTraining Accuracy: 9.92\n",
      "Validation loss: 2.697\tValidation Accuracy: 12.43\n",
      "Best model saved as ./resnet18_outputs/best.pth\n",
      "Latest model saved as ./resnet18_outputs/latest.pth\n",
      "\n",
      "[INFO]: Epoch 6/300\n",
      "Training....\n"
     ]
    },
    {
     "name": "stderr",
     "output_type": "stream",
     "text": [
      "100%|██████████| 23/23 [00:36<00:00,  1.58s/it]\n"
     ]
    },
    {
     "name": "stdout",
     "output_type": "stream",
     "text": [
      "Validating....\n"
     ]
    },
    {
     "name": "stderr",
     "output_type": "stream",
     "text": [
      "100%|██████████| 3/3 [00:01<00:00,  2.46it/s]\n"
     ]
    },
    {
     "name": "stdout",
     "output_type": "stream",
     "text": [
      "Training loss: 2.680\tTraining Accuracy: 11.97\n",
      "Validation loss: 2.702\tValidation Accuracy: 9.93\n",
      "Latest model saved as ./resnet18_outputs/latest.pth\n",
      "\n",
      "[INFO]: Epoch 7/300\n",
      "Training....\n"
     ]
    },
    {
     "name": "stderr",
     "output_type": "stream",
     "text": [
      "100%|██████████| 23/23 [00:39<00:00,  1.72s/it]\n"
     ]
    },
    {
     "name": "stdout",
     "output_type": "stream",
     "text": [
      "Validating....\n"
     ]
    },
    {
     "name": "stderr",
     "output_type": "stream",
     "text": [
      "100%|██████████| 3/3 [00:01<00:00,  2.54it/s]\n"
     ]
    },
    {
     "name": "stdout",
     "output_type": "stream",
     "text": [
      "Training loss: 2.601\tTraining Accuracy: 12.28\n",
      "Validation loss: 2.536\tValidation Accuracy: 12.99\n",
      "Best model saved as ./resnet18_outputs/best.pth\n",
      "Latest model saved as ./resnet18_outputs/latest.pth\n",
      "\n",
      "[INFO]: Epoch 8/300\n",
      "Training....\n"
     ]
    },
    {
     "name": "stderr",
     "output_type": "stream",
     "text": [
      "100%|██████████| 23/23 [00:34<00:00,  1.52s/it]\n"
     ]
    },
    {
     "name": "stdout",
     "output_type": "stream",
     "text": [
      "Validating....\n"
     ]
    },
    {
     "name": "stderr",
     "output_type": "stream",
     "text": [
      "100%|██████████| 3/3 [00:01<00:00,  2.92it/s]\n"
     ]
    },
    {
     "name": "stdout",
     "output_type": "stream",
     "text": [
      "Training loss: 2.497\tTraining Accuracy: 13.98\n",
      "Validation loss: 2.482\tValidation Accuracy: 12.64\n",
      "Best model saved as ./resnet18_outputs/best.pth\n",
      "Latest model saved as ./resnet18_outputs/latest.pth\n",
      "\n",
      "[INFO]: Epoch 9/300\n",
      "Training....\n"
     ]
    },
    {
     "name": "stderr",
     "output_type": "stream",
     "text": [
      "100%|██████████| 23/23 [00:34<00:00,  1.49s/it]\n"
     ]
    },
    {
     "name": "stdout",
     "output_type": "stream",
     "text": [
      "Validating....\n"
     ]
    },
    {
     "name": "stderr",
     "output_type": "stream",
     "text": [
      "100%|██████████| 3/3 [00:01<00:00,  2.90it/s]\n"
     ]
    },
    {
     "name": "stdout",
     "output_type": "stream",
     "text": [
      "Training loss: 2.440\tTraining Accuracy: 14.64\n",
      "Validation loss: 2.432\tValidation Accuracy: 13.75\n",
      "Best model saved as ./resnet18_outputs/best.pth\n",
      "Latest model saved as ./resnet18_outputs/latest.pth\n",
      "\n",
      "[INFO]: Epoch 10/300\n",
      "Training....\n"
     ]
    },
    {
     "name": "stderr",
     "output_type": "stream",
     "text": [
      "100%|██████████| 23/23 [00:36<00:00,  1.58s/it]\n"
     ]
    },
    {
     "name": "stdout",
     "output_type": "stream",
     "text": [
      "Validating....\n"
     ]
    },
    {
     "name": "stderr",
     "output_type": "stream",
     "text": [
      "100%|██████████| 3/3 [00:01<00:00,  2.09it/s]\n"
     ]
    },
    {
     "name": "stdout",
     "output_type": "stream",
     "text": [
      "Training loss: 2.390\tTraining Accuracy: 15.06\n",
      "Validation loss: 2.568\tValidation Accuracy: 15.28\n",
      "Latest model saved as ./resnet18_outputs/latest.pth\n",
      "\n",
      "[INFO]: Epoch 11/300\n",
      "Training....\n"
     ]
    },
    {
     "name": "stderr",
     "output_type": "stream",
     "text": [
      "100%|██████████| 23/23 [00:34<00:00,  1.52s/it]\n"
     ]
    },
    {
     "name": "stdout",
     "output_type": "stream",
     "text": [
      "Validating....\n"
     ]
    },
    {
     "name": "stderr",
     "output_type": "stream",
     "text": [
      "100%|██████████| 3/3 [00:01<00:00,  2.93it/s]\n"
     ]
    },
    {
     "name": "stdout",
     "output_type": "stream",
     "text": [
      "Training loss: 2.337\tTraining Accuracy: 16.59\n",
      "Validation loss: 2.464\tValidation Accuracy: 14.51\n",
      "Latest model saved as ./resnet18_outputs/latest.pth\n",
      "\n",
      "[INFO]: Epoch 12/300\n",
      "Training....\n"
     ]
    },
    {
     "name": "stderr",
     "output_type": "stream",
     "text": [
      "100%|██████████| 23/23 [00:41<00:00,  1.81s/it]\n"
     ]
    },
    {
     "name": "stdout",
     "output_type": "stream",
     "text": [
      "Validating....\n"
     ]
    },
    {
     "name": "stderr",
     "output_type": "stream",
     "text": [
      "100%|██████████| 3/3 [00:01<00:00,  2.54it/s]\n"
     ]
    },
    {
     "name": "stdout",
     "output_type": "stream",
     "text": [
      "Training loss: 2.297\tTraining Accuracy: 16.46\n",
      "Validation loss: 2.742\tValidation Accuracy: 13.96\n",
      "Latest model saved as ./resnet18_outputs/latest.pth\n",
      "\n",
      "[INFO]: Epoch 13/300\n",
      "Training....\n"
     ]
    },
    {
     "name": "stderr",
     "output_type": "stream",
     "text": [
      "100%|██████████| 23/23 [00:37<00:00,  1.65s/it]\n"
     ]
    },
    {
     "name": "stdout",
     "output_type": "stream",
     "text": [
      "Validating....\n"
     ]
    },
    {
     "name": "stderr",
     "output_type": "stream",
     "text": [
      "100%|██████████| 3/3 [00:01<00:00,  2.95it/s]\n"
     ]
    },
    {
     "name": "stdout",
     "output_type": "stream",
     "text": [
      "Training loss: 2.250\tTraining Accuracy: 17.29\n",
      "Validation loss: 2.335\tValidation Accuracy: 13.96\n",
      "Best model saved as ./resnet18_outputs/best.pth\n",
      "Latest model saved as ./resnet18_outputs/latest.pth\n",
      "\n",
      "[INFO]: Epoch 14/300\n",
      "Training....\n"
     ]
    },
    {
     "name": "stderr",
     "output_type": "stream",
     "text": [
      "100%|██████████| 23/23 [00:35<00:00,  1.55s/it]\n"
     ]
    },
    {
     "name": "stdout",
     "output_type": "stream",
     "text": [
      "Validating....\n"
     ]
    },
    {
     "name": "stderr",
     "output_type": "stream",
     "text": [
      "100%|██████████| 3/3 [00:01<00:00,  2.59it/s]\n"
     ]
    },
    {
     "name": "stdout",
     "output_type": "stream",
     "text": [
      "Training loss: 2.184\tTraining Accuracy: 18.06\n",
      "Validation loss: 2.298\tValidation Accuracy: 18.40\n",
      "Best model saved as ./resnet18_outputs/best.pth\n",
      "Latest model saved as ./resnet18_outputs/latest.pth\n",
      "\n",
      "[INFO]: Epoch 15/300\n",
      "Training....\n"
     ]
    },
    {
     "name": "stderr",
     "output_type": "stream",
     "text": [
      "100%|██████████| 23/23 [00:36<00:00,  1.60s/it]\n"
     ]
    },
    {
     "name": "stdout",
     "output_type": "stream",
     "text": [
      "Validating....\n"
     ]
    },
    {
     "name": "stderr",
     "output_type": "stream",
     "text": [
      "100%|██████████| 3/3 [00:01<00:00,  2.38it/s]\n"
     ]
    },
    {
     "name": "stdout",
     "output_type": "stream",
     "text": [
      "Training loss: 2.128\tTraining Accuracy: 19.44\n",
      "Validation loss: 2.271\tValidation Accuracy: 19.10\n",
      "Best model saved as ./resnet18_outputs/best.pth\n",
      "Latest model saved as ./resnet18_outputs/latest.pth\n",
      "\n",
      "[INFO]: Epoch 16/300\n",
      "Training....\n"
     ]
    },
    {
     "name": "stderr",
     "output_type": "stream",
     "text": [
      "100%|██████████| 23/23 [00:32<00:00,  1.43s/it]\n"
     ]
    },
    {
     "name": "stdout",
     "output_type": "stream",
     "text": [
      "Validating....\n"
     ]
    },
    {
     "name": "stderr",
     "output_type": "stream",
     "text": [
      "100%|██████████| 3/3 [00:01<00:00,  2.87it/s]\n"
     ]
    },
    {
     "name": "stdout",
     "output_type": "stream",
     "text": [
      "Training loss: 2.082\tTraining Accuracy: 20.96\n",
      "Validation loss: 2.356\tValidation Accuracy: 17.15\n",
      "Latest model saved as ./resnet18_outputs/latest.pth\n",
      "\n",
      "[INFO]: Epoch 17/300\n",
      "Training....\n"
     ]
    },
    {
     "name": "stderr",
     "output_type": "stream",
     "text": [
      "100%|██████████| 23/23 [00:36<00:00,  1.60s/it]\n"
     ]
    },
    {
     "name": "stdout",
     "output_type": "stream",
     "text": [
      "Validating....\n"
     ]
    },
    {
     "name": "stderr",
     "output_type": "stream",
     "text": [
      "100%|██████████| 3/3 [00:01<00:00,  2.09it/s]\n"
     ]
    },
    {
     "name": "stdout",
     "output_type": "stream",
     "text": [
      "Training loss: 2.100\tTraining Accuracy: 20.04\n",
      "Validation loss: 2.391\tValidation Accuracy: 17.50\n",
      "Latest model saved as ./resnet18_outputs/latest.pth\n",
      "\n",
      "[INFO]: Epoch 18/300\n",
      "Training....\n"
     ]
    },
    {
     "name": "stderr",
     "output_type": "stream",
     "text": [
      "100%|██████████| 23/23 [00:40<00:00,  1.76s/it]\n"
     ]
    },
    {
     "name": "stdout",
     "output_type": "stream",
     "text": [
      "Validating....\n"
     ]
    },
    {
     "name": "stderr",
     "output_type": "stream",
     "text": [
      "100%|██████████| 3/3 [00:01<00:00,  2.56it/s]\n"
     ]
    },
    {
     "name": "stdout",
     "output_type": "stream",
     "text": [
      "Training loss: 2.077\tTraining Accuracy: 20.63\n",
      "Validation loss: 2.178\tValidation Accuracy: 19.65\n",
      "Best model saved as ./resnet18_outputs/best.pth\n",
      "Latest model saved as ./resnet18_outputs/latest.pth\n",
      "\n",
      "[INFO]: Epoch 19/300\n",
      "Training....\n"
     ]
    },
    {
     "name": "stderr",
     "output_type": "stream",
     "text": [
      "100%|██████████| 23/23 [00:33<00:00,  1.46s/it]\n"
     ]
    },
    {
     "name": "stdout",
     "output_type": "stream",
     "text": [
      "Validating....\n"
     ]
    },
    {
     "name": "stderr",
     "output_type": "stream",
     "text": [
      "100%|██████████| 3/3 [00:01<00:00,  2.19it/s]\n"
     ]
    },
    {
     "name": "stdout",
     "output_type": "stream",
     "text": [
      "Training loss: 2.019\tTraining Accuracy: 21.64\n",
      "Validation loss: 2.068\tValidation Accuracy: 21.81\n",
      "Best model saved as ./resnet18_outputs/best.pth\n",
      "Latest model saved as ./resnet18_outputs/latest.pth\n",
      "\n",
      "[INFO]: Epoch 20/300\n",
      "Training....\n"
     ]
    },
    {
     "name": "stderr",
     "output_type": "stream",
     "text": [
      "100%|██████████| 23/23 [00:39<00:00,  1.70s/it]\n"
     ]
    },
    {
     "name": "stdout",
     "output_type": "stream",
     "text": [
      "Validating....\n"
     ]
    },
    {
     "name": "stderr",
     "output_type": "stream",
     "text": [
      "100%|██████████| 3/3 [00:01<00:00,  2.84it/s]\n"
     ]
    },
    {
     "name": "stdout",
     "output_type": "stream",
     "text": [
      "Training loss: 1.959\tTraining Accuracy: 23.12\n",
      "Validation loss: 2.239\tValidation Accuracy: 19.93\n",
      "Latest model saved as ./resnet18_outputs/latest.pth\n",
      "\n",
      "[INFO]: Epoch 21/300\n",
      "Training....\n"
     ]
    },
    {
     "name": "stderr",
     "output_type": "stream",
     "text": [
      "100%|██████████| 23/23 [00:34<00:00,  1.50s/it]\n"
     ]
    },
    {
     "name": "stdout",
     "output_type": "stream",
     "text": [
      "Validating....\n"
     ]
    },
    {
     "name": "stderr",
     "output_type": "stream",
     "text": [
      "100%|██████████| 3/3 [00:01<00:00,  2.81it/s]\n"
     ]
    },
    {
     "name": "stdout",
     "output_type": "stream",
     "text": [
      "Training loss: 1.969\tTraining Accuracy: 22.34\n",
      "Validation loss: 2.305\tValidation Accuracy: 17.64\n",
      "Latest model saved as ./resnet18_outputs/latest.pth\n",
      "\n",
      "[INFO]: Epoch 22/300\n",
      "Training....\n"
     ]
    },
    {
     "name": "stderr",
     "output_type": "stream",
     "text": [
      "100%|██████████| 23/23 [00:36<00:00,  1.59s/it]\n"
     ]
    },
    {
     "name": "stdout",
     "output_type": "stream",
     "text": [
      "Validating....\n"
     ]
    },
    {
     "name": "stderr",
     "output_type": "stream",
     "text": [
      "100%|██████████| 3/3 [00:01<00:00,  2.83it/s]\n"
     ]
    },
    {
     "name": "stdout",
     "output_type": "stream",
     "text": [
      "Training loss: 1.938\tTraining Accuracy: 23.59\n",
      "Validation loss: 2.327\tValidation Accuracy: 20.56\n",
      "Latest model saved as ./resnet18_outputs/latest.pth\n",
      "\n",
      "[INFO]: Epoch 23/300\n",
      "Training....\n"
     ]
    },
    {
     "name": "stderr",
     "output_type": "stream",
     "text": [
      "100%|██████████| 23/23 [00:37<00:00,  1.63s/it]\n"
     ]
    },
    {
     "name": "stdout",
     "output_type": "stream",
     "text": [
      "Validating....\n"
     ]
    },
    {
     "name": "stderr",
     "output_type": "stream",
     "text": [
      "100%|██████████| 3/3 [00:01<00:00,  2.84it/s]\n"
     ]
    },
    {
     "name": "stdout",
     "output_type": "stream",
     "text": [
      "Training loss: 1.850\tTraining Accuracy: 25.43\n",
      "Validation loss: 2.320\tValidation Accuracy: 17.99\n",
      "Latest model saved as ./resnet18_outputs/latest.pth\n",
      "\n",
      "[INFO]: Epoch 24/300\n",
      "Training....\n"
     ]
    },
    {
     "name": "stderr",
     "output_type": "stream",
     "text": [
      "100%|██████████| 23/23 [00:35<00:00,  1.54s/it]\n"
     ]
    },
    {
     "name": "stdout",
     "output_type": "stream",
     "text": [
      "Validating....\n"
     ]
    },
    {
     "name": "stderr",
     "output_type": "stream",
     "text": [
      "100%|██████████| 3/3 [00:01<00:00,  2.80it/s]\n"
     ]
    },
    {
     "name": "stdout",
     "output_type": "stream",
     "text": [
      "Training loss: 1.913\tTraining Accuracy: 24.08\n",
      "Validation loss: 2.225\tValidation Accuracy: 17.99\n",
      "Latest model saved as ./resnet18_outputs/latest.pth\n",
      "\n",
      "[INFO]: Epoch 25/300\n",
      "Training....\n"
     ]
    },
    {
     "name": "stderr",
     "output_type": "stream",
     "text": [
      "100%|██████████| 23/23 [00:33<00:00,  1.45s/it]\n"
     ]
    },
    {
     "name": "stdout",
     "output_type": "stream",
     "text": [
      "Validating....\n"
     ]
    },
    {
     "name": "stderr",
     "output_type": "stream",
     "text": [
      "100%|██████████| 3/3 [00:01<00:00,  2.86it/s]\n"
     ]
    },
    {
     "name": "stdout",
     "output_type": "stream",
     "text": [
      "Training loss: 1.929\tTraining Accuracy: 23.06\n",
      "Validation loss: 2.355\tValidation Accuracy: 19.24\n",
      "Latest model saved as ./resnet18_outputs/latest.pth\n",
      "\n",
      "[INFO]: Epoch 26/300\n",
      "Training....\n"
     ]
    },
    {
     "name": "stderr",
     "output_type": "stream",
     "text": [
      "100%|██████████| 23/23 [00:35<00:00,  1.56s/it]\n"
     ]
    },
    {
     "name": "stdout",
     "output_type": "stream",
     "text": [
      "Validating....\n"
     ]
    },
    {
     "name": "stderr",
     "output_type": "stream",
     "text": [
      "100%|██████████| 3/3 [00:01<00:00,  2.87it/s]\n"
     ]
    },
    {
     "name": "stdout",
     "output_type": "stream",
     "text": [
      "Training loss: 1.965\tTraining Accuracy: 22.58\n",
      "Validation loss: 2.219\tValidation Accuracy: 20.69\n",
      "Latest model saved as ./resnet18_outputs/latest.pth\n",
      "\n",
      "[INFO]: Epoch 27/300\n",
      "Training....\n"
     ]
    },
    {
     "name": "stderr",
     "output_type": "stream",
     "text": [
      "100%|██████████| 23/23 [00:34<00:00,  1.50s/it]\n"
     ]
    },
    {
     "name": "stdout",
     "output_type": "stream",
     "text": [
      "Validating....\n"
     ]
    },
    {
     "name": "stderr",
     "output_type": "stream",
     "text": [
      "100%|██████████| 3/3 [00:01<00:00,  2.85it/s]\n"
     ]
    },
    {
     "name": "stdout",
     "output_type": "stream",
     "text": [
      "Training loss: 1.874\tTraining Accuracy: 25.30\n",
      "Validation loss: 2.286\tValidation Accuracy: 20.35\n",
      "Latest model saved as ./resnet18_outputs/latest.pth\n",
      "\n",
      "[INFO]: Epoch 28/300\n",
      "Training....\n"
     ]
    },
    {
     "name": "stderr",
     "output_type": "stream",
     "text": [
      "100%|██████████| 23/23 [00:36<00:00,  1.57s/it]\n"
     ]
    },
    {
     "name": "stdout",
     "output_type": "stream",
     "text": [
      "Validating....\n"
     ]
    },
    {
     "name": "stderr",
     "output_type": "stream",
     "text": [
      "100%|██████████| 3/3 [00:01<00:00,  2.93it/s]\n"
     ]
    },
    {
     "name": "stdout",
     "output_type": "stream",
     "text": [
      "Training loss: 1.777\tTraining Accuracy: 27.23\n",
      "Validation loss: 2.219\tValidation Accuracy: 20.49\n",
      "Latest model saved as ./resnet18_outputs/latest.pth\n",
      "\n",
      "[INFO]: Epoch 29/300\n",
      "Training....\n"
     ]
    },
    {
     "name": "stderr",
     "output_type": "stream",
     "text": [
      "100%|██████████| 23/23 [00:35<00:00,  1.54s/it]\n"
     ]
    },
    {
     "name": "stdout",
     "output_type": "stream",
     "text": [
      "Validating....\n"
     ]
    },
    {
     "name": "stderr",
     "output_type": "stream",
     "text": [
      "100%|██████████| 3/3 [00:01<00:00,  2.77it/s]\n"
     ]
    },
    {
     "name": "stdout",
     "output_type": "stream",
     "text": [
      "Training loss: 1.802\tTraining Accuracy: 26.81\n",
      "Validation loss: 2.164\tValidation Accuracy: 20.97\n",
      "Latest model saved as ./resnet18_outputs/latest.pth\n",
      "\n",
      "[INFO]: Epoch 30/300\n",
      "Training....\n"
     ]
    },
    {
     "name": "stderr",
     "output_type": "stream",
     "text": [
      "100%|██████████| 23/23 [00:33<00:00,  1.48s/it]\n"
     ]
    },
    {
     "name": "stdout",
     "output_type": "stream",
     "text": [
      "Validating....\n"
     ]
    },
    {
     "name": "stderr",
     "output_type": "stream",
     "text": [
      "100%|██████████| 3/3 [00:01<00:00,  2.83it/s]\n"
     ]
    },
    {
     "name": "stdout",
     "output_type": "stream",
     "text": [
      "Training loss: 1.836\tTraining Accuracy: 25.90\n",
      "Validation loss: 1.922\tValidation Accuracy: 28.19\n",
      "Best model saved as ./resnet18_outputs/best.pth\n",
      "Latest model saved as ./resnet18_outputs/latest.pth\n",
      "\n",
      "[INFO]: Epoch 31/300\n",
      "Training....\n"
     ]
    },
    {
     "name": "stderr",
     "output_type": "stream",
     "text": [
      "100%|██████████| 23/23 [00:35<00:00,  1.53s/it]\n"
     ]
    },
    {
     "name": "stdout",
     "output_type": "stream",
     "text": [
      "Validating....\n"
     ]
    },
    {
     "name": "stderr",
     "output_type": "stream",
     "text": [
      "100%|██████████| 3/3 [00:01<00:00,  2.79it/s]\n"
     ]
    },
    {
     "name": "stdout",
     "output_type": "stream",
     "text": [
      "Training loss: 1.836\tTraining Accuracy: 26.37\n",
      "Validation loss: 2.043\tValidation Accuracy: 22.22\n",
      "Latest model saved as ./resnet18_outputs/latest.pth\n",
      "\n",
      "[INFO]: Epoch 32/300\n",
      "Training....\n"
     ]
    },
    {
     "name": "stderr",
     "output_type": "stream",
     "text": [
      "100%|██████████| 23/23 [00:33<00:00,  1.47s/it]\n"
     ]
    },
    {
     "name": "stdout",
     "output_type": "stream",
     "text": [
      "Validating....\n"
     ]
    },
    {
     "name": "stderr",
     "output_type": "stream",
     "text": [
      "100%|██████████| 3/3 [00:01<00:00,  2.48it/s]\n"
     ]
    },
    {
     "name": "stdout",
     "output_type": "stream",
     "text": [
      "Training loss: 1.760\tTraining Accuracy: 27.65\n",
      "Validation loss: 2.263\tValidation Accuracy: 19.38\n",
      "Latest model saved as ./resnet18_outputs/latest.pth\n",
      "\n",
      "[INFO]: Epoch 33/300\n",
      "Training....\n"
     ]
    },
    {
     "name": "stderr",
     "output_type": "stream",
     "text": [
      "100%|██████████| 23/23 [00:45<00:00,  1.96s/it]\n"
     ]
    },
    {
     "name": "stdout",
     "output_type": "stream",
     "text": [
      "Validating....\n"
     ]
    },
    {
     "name": "stderr",
     "output_type": "stream",
     "text": [
      "100%|██████████| 3/3 [00:01<00:00,  2.86it/s]\n"
     ]
    },
    {
     "name": "stdout",
     "output_type": "stream",
     "text": [
      "Training loss: 1.808\tTraining Accuracy: 25.69\n",
      "Validation loss: 2.032\tValidation Accuracy: 24.44\n",
      "Latest model saved as ./resnet18_outputs/latest.pth\n",
      "\n",
      "[INFO]: Epoch 34/300\n",
      "Training....\n"
     ]
    },
    {
     "name": "stderr",
     "output_type": "stream",
     "text": [
      "100%|██████████| 23/23 [00:42<00:00,  1.83s/it]\n"
     ]
    },
    {
     "name": "stdout",
     "output_type": "stream",
     "text": [
      "Validating....\n"
     ]
    },
    {
     "name": "stderr",
     "output_type": "stream",
     "text": [
      "100%|██████████| 3/3 [00:01<00:00,  2.22it/s]\n"
     ]
    },
    {
     "name": "stdout",
     "output_type": "stream",
     "text": [
      "Training loss: 1.745\tTraining Accuracy: 28.44\n",
      "Validation loss: 2.287\tValidation Accuracy: 22.15\n",
      "Latest model saved as ./resnet18_outputs/latest.pth\n",
      "\n",
      "[INFO]: Epoch 35/300\n",
      "Training....\n"
     ]
    },
    {
     "name": "stderr",
     "output_type": "stream",
     "text": [
      "100%|██████████| 23/23 [00:39<00:00,  1.71s/it]\n"
     ]
    },
    {
     "name": "stdout",
     "output_type": "stream",
     "text": [
      "Validating....\n"
     ]
    },
    {
     "name": "stderr",
     "output_type": "stream",
     "text": [
      "100%|██████████| 3/3 [00:01<00:00,  2.87it/s]\n"
     ]
    },
    {
     "name": "stdout",
     "output_type": "stream",
     "text": [
      "Training loss: 1.746\tTraining Accuracy: 27.10\n",
      "Validation loss: 2.214\tValidation Accuracy: 20.00\n",
      "Latest model saved as ./resnet18_outputs/latest.pth\n",
      "\n",
      "[INFO]: Epoch 36/300\n",
      "Training....\n"
     ]
    },
    {
     "name": "stderr",
     "output_type": "stream",
     "text": [
      "100%|██████████| 23/23 [00:36<00:00,  1.57s/it]\n"
     ]
    },
    {
     "name": "stdout",
     "output_type": "stream",
     "text": [
      "Validating....\n"
     ]
    },
    {
     "name": "stderr",
     "output_type": "stream",
     "text": [
      "100%|██████████| 3/3 [00:01<00:00,  2.81it/s]\n"
     ]
    },
    {
     "name": "stdout",
     "output_type": "stream",
     "text": [
      "Training loss: 1.724\tTraining Accuracy: 27.68\n",
      "Validation loss: 2.150\tValidation Accuracy: 22.22\n",
      "Latest model saved as ./resnet18_outputs/latest.pth\n",
      "\n",
      "[INFO]: Epoch 37/300\n",
      "Training....\n"
     ]
    },
    {
     "name": "stderr",
     "output_type": "stream",
     "text": [
      "100%|██████████| 23/23 [00:35<00:00,  1.55s/it]\n"
     ]
    },
    {
     "name": "stdout",
     "output_type": "stream",
     "text": [
      "Validating....\n"
     ]
    },
    {
     "name": "stderr",
     "output_type": "stream",
     "text": [
      "100%|██████████| 3/3 [00:01<00:00,  2.87it/s]\n"
     ]
    },
    {
     "name": "stdout",
     "output_type": "stream",
     "text": [
      "Training loss: 1.694\tTraining Accuracy: 29.34\n",
      "Validation loss: 2.361\tValidation Accuracy: 19.38\n",
      "Latest model saved as ./resnet18_outputs/latest.pth\n",
      "\n",
      "[INFO]: Epoch 38/300\n",
      "Training....\n"
     ]
    },
    {
     "name": "stderr",
     "output_type": "stream",
     "text": [
      "100%|██████████| 23/23 [00:36<00:00,  1.57s/it]\n"
     ]
    },
    {
     "name": "stdout",
     "output_type": "stream",
     "text": [
      "Validating....\n"
     ]
    },
    {
     "name": "stderr",
     "output_type": "stream",
     "text": [
      "100%|██████████| 3/3 [00:01<00:00,  2.81it/s]\n"
     ]
    },
    {
     "name": "stdout",
     "output_type": "stream",
     "text": [
      "Training loss: 1.708\tTraining Accuracy: 28.02\n",
      "Validation loss: 2.048\tValidation Accuracy: 24.17\n",
      "Latest model saved as ./resnet18_outputs/latest.pth\n",
      "\n",
      "[INFO]: Epoch 39/300\n",
      "Training....\n"
     ]
    },
    {
     "name": "stderr",
     "output_type": "stream",
     "text": [
      "100%|██████████| 23/23 [00:35<00:00,  1.53s/it]\n"
     ]
    },
    {
     "name": "stdout",
     "output_type": "stream",
     "text": [
      "Validating....\n"
     ]
    },
    {
     "name": "stderr",
     "output_type": "stream",
     "text": [
      "100%|██████████| 3/3 [00:01<00:00,  2.86it/s]\n"
     ]
    },
    {
     "name": "stdout",
     "output_type": "stream",
     "text": [
      "Training loss: 1.654\tTraining Accuracy: 30.43\n",
      "Validation loss: 2.285\tValidation Accuracy: 19.79\n",
      "Latest model saved as ./resnet18_outputs/latest.pth\n",
      "\n",
      "[INFO]: Epoch 40/300\n",
      "Training....\n"
     ]
    },
    {
     "name": "stderr",
     "output_type": "stream",
     "text": [
      "100%|██████████| 23/23 [00:33<00:00,  1.45s/it]\n"
     ]
    },
    {
     "name": "stdout",
     "output_type": "stream",
     "text": [
      "Validating....\n"
     ]
    },
    {
     "name": "stderr",
     "output_type": "stream",
     "text": [
      "100%|██████████| 3/3 [00:01<00:00,  2.85it/s]\n"
     ]
    },
    {
     "name": "stdout",
     "output_type": "stream",
     "text": [
      "Training loss: 1.674\tTraining Accuracy: 29.45\n",
      "Validation loss: 2.130\tValidation Accuracy: 21.94\n",
      "Latest model saved as ./resnet18_outputs/latest.pth\n",
      "\n",
      "[INFO]: Epoch 41/300\n",
      "Training....\n"
     ]
    },
    {
     "name": "stderr",
     "output_type": "stream",
     "text": [
      "100%|██████████| 23/23 [00:35<00:00,  1.56s/it]\n"
     ]
    },
    {
     "name": "stdout",
     "output_type": "stream",
     "text": [
      "Validating....\n"
     ]
    },
    {
     "name": "stderr",
     "output_type": "stream",
     "text": [
      "100%|██████████| 3/3 [00:01<00:00,  2.48it/s]\n"
     ]
    },
    {
     "name": "stdout",
     "output_type": "stream",
     "text": [
      "Training loss: 1.727\tTraining Accuracy: 28.45\n",
      "Validation loss: 2.570\tValidation Accuracy: 16.39\n",
      "Latest model saved as ./resnet18_outputs/latest.pth\n",
      "\n",
      "[INFO]: Epoch 42/300\n",
      "Training....\n"
     ]
    },
    {
     "name": "stderr",
     "output_type": "stream",
     "text": [
      "100%|██████████| 23/23 [00:36<00:00,  1.57s/it]\n"
     ]
    },
    {
     "name": "stdout",
     "output_type": "stream",
     "text": [
      "Validating....\n"
     ]
    },
    {
     "name": "stderr",
     "output_type": "stream",
     "text": [
      "100%|██████████| 3/3 [00:01<00:00,  2.86it/s]\n"
     ]
    },
    {
     "name": "stdout",
     "output_type": "stream",
     "text": [
      "Training loss: 1.667\tTraining Accuracy: 29.02\n",
      "Validation loss: 1.891\tValidation Accuracy: 28.54\n",
      "Best model saved as ./resnet18_outputs/best.pth\n",
      "Latest model saved as ./resnet18_outputs/latest.pth\n",
      "\n",
      "[INFO]: Epoch 43/300\n",
      "Training....\n"
     ]
    },
    {
     "name": "stderr",
     "output_type": "stream",
     "text": [
      "100%|██████████| 23/23 [00:32<00:00,  1.40s/it]\n"
     ]
    },
    {
     "name": "stdout",
     "output_type": "stream",
     "text": [
      "Validating....\n"
     ]
    },
    {
     "name": "stderr",
     "output_type": "stream",
     "text": [
      "100%|██████████| 3/3 [00:01<00:00,  2.41it/s]\n"
     ]
    },
    {
     "name": "stdout",
     "output_type": "stream",
     "text": [
      "Training loss: 1.706\tTraining Accuracy: 28.66\n",
      "Validation loss: 2.325\tValidation Accuracy: 20.62\n",
      "Latest model saved as ./resnet18_outputs/latest.pth\n",
      "\n",
      "[INFO]: Epoch 44/300\n",
      "Training....\n"
     ]
    },
    {
     "name": "stderr",
     "output_type": "stream",
     "text": [
      "100%|██████████| 23/23 [00:40<00:00,  1.78s/it]\n"
     ]
    },
    {
     "name": "stdout",
     "output_type": "stream",
     "text": [
      "Validating....\n"
     ]
    },
    {
     "name": "stderr",
     "output_type": "stream",
     "text": [
      "100%|██████████| 3/3 [00:01<00:00,  2.88it/s]\n"
     ]
    },
    {
     "name": "stdout",
     "output_type": "stream",
     "text": [
      "Training loss: 1.696\tTraining Accuracy: 29.71\n",
      "Validation loss: 2.447\tValidation Accuracy: 19.44\n",
      "Latest model saved as ./resnet18_outputs/latest.pth\n",
      "\n",
      "[INFO]: Epoch 45/300\n",
      "Training....\n"
     ]
    },
    {
     "name": "stderr",
     "output_type": "stream",
     "text": [
      "100%|██████████| 23/23 [00:34<00:00,  1.52s/it]\n"
     ]
    },
    {
     "name": "stdout",
     "output_type": "stream",
     "text": [
      "Validating....\n"
     ]
    },
    {
     "name": "stderr",
     "output_type": "stream",
     "text": [
      "100%|██████████| 3/3 [00:01<00:00,  2.82it/s]\n"
     ]
    },
    {
     "name": "stdout",
     "output_type": "stream",
     "text": [
      "Training loss: 1.621\tTraining Accuracy: 31.68\n",
      "Validation loss: 2.021\tValidation Accuracy: 24.65\n",
      "Latest model saved as ./resnet18_outputs/latest.pth\n",
      "\n",
      "[INFO]: Epoch 46/300\n",
      "Training....\n"
     ]
    },
    {
     "name": "stderr",
     "output_type": "stream",
     "text": [
      "100%|██████████| 23/23 [00:35<00:00,  1.54s/it]\n"
     ]
    },
    {
     "name": "stdout",
     "output_type": "stream",
     "text": [
      "Validating....\n"
     ]
    },
    {
     "name": "stderr",
     "output_type": "stream",
     "text": [
      "100%|██████████| 3/3 [00:01<00:00,  2.87it/s]\n"
     ]
    },
    {
     "name": "stdout",
     "output_type": "stream",
     "text": [
      "Training loss: 1.641\tTraining Accuracy: 30.23\n",
      "Validation loss: 2.025\tValidation Accuracy: 25.21\n",
      "Latest model saved as ./resnet18_outputs/latest.pth\n",
      "\n",
      "[INFO]: Epoch 47/300\n",
      "Training....\n"
     ]
    },
    {
     "name": "stderr",
     "output_type": "stream",
     "text": [
      "100%|██████████| 23/23 [00:33<00:00,  1.45s/it]\n"
     ]
    },
    {
     "name": "stdout",
     "output_type": "stream",
     "text": [
      "Validating....\n"
     ]
    },
    {
     "name": "stderr",
     "output_type": "stream",
     "text": [
      "100%|██████████| 3/3 [00:01<00:00,  2.13it/s]\n"
     ]
    },
    {
     "name": "stdout",
     "output_type": "stream",
     "text": [
      "Training loss: 1.714\tTraining Accuracy: 27.80\n",
      "Validation loss: 2.056\tValidation Accuracy: 26.81\n",
      "Latest model saved as ./resnet18_outputs/latest.pth\n",
      "\n",
      "[INFO]: Epoch 48/300\n",
      "Training....\n"
     ]
    },
    {
     "name": "stderr",
     "output_type": "stream",
     "text": [
      "100%|██████████| 23/23 [00:38<00:00,  1.69s/it]\n"
     ]
    },
    {
     "name": "stdout",
     "output_type": "stream",
     "text": [
      "Validating....\n"
     ]
    },
    {
     "name": "stderr",
     "output_type": "stream",
     "text": [
      "100%|██████████| 3/3 [00:01<00:00,  2.34it/s]\n"
     ]
    },
    {
     "name": "stdout",
     "output_type": "stream",
     "text": [
      "Training loss: 1.678\tTraining Accuracy: 29.99\n",
      "Validation loss: 2.111\tValidation Accuracy: 24.65\n",
      "Latest model saved as ./resnet18_outputs/latest.pth\n",
      "\n",
      "[INFO]: Epoch 49/300\n",
      "Training....\n"
     ]
    },
    {
     "name": "stderr",
     "output_type": "stream",
     "text": [
      "100%|██████████| 23/23 [00:41<00:00,  1.79s/it]\n"
     ]
    },
    {
     "name": "stdout",
     "output_type": "stream",
     "text": [
      "Validating....\n"
     ]
    },
    {
     "name": "stderr",
     "output_type": "stream",
     "text": [
      "100%|██████████| 3/3 [00:01<00:00,  2.58it/s]\n"
     ]
    },
    {
     "name": "stdout",
     "output_type": "stream",
     "text": [
      "Training loss: 1.617\tTraining Accuracy: 30.72\n",
      "Validation loss: 2.145\tValidation Accuracy: 25.28\n",
      "Latest model saved as ./resnet18_outputs/latest.pth\n",
      "\n",
      "[INFO]: Epoch 50/300\n",
      "Training....\n"
     ]
    },
    {
     "name": "stderr",
     "output_type": "stream",
     "text": [
      "100%|██████████| 23/23 [00:33<00:00,  1.45s/it]\n"
     ]
    },
    {
     "name": "stdout",
     "output_type": "stream",
     "text": [
      "Validating....\n"
     ]
    },
    {
     "name": "stderr",
     "output_type": "stream",
     "text": [
      "100%|██████████| 3/3 [00:01<00:00,  2.81it/s]\n"
     ]
    },
    {
     "name": "stdout",
     "output_type": "stream",
     "text": [
      "Training loss: 1.600\tTraining Accuracy: 31.43\n",
      "Validation loss: 1.707\tValidation Accuracy: 30.76\n",
      "Best model saved as ./resnet18_outputs/best.pth\n",
      "Latest model saved as ./resnet18_outputs/latest.pth\n",
      "\n",
      "[INFO]: Epoch 51/300\n",
      "Training....\n"
     ]
    },
    {
     "name": "stderr",
     "output_type": "stream",
     "text": [
      "100%|██████████| 23/23 [00:34<00:00,  1.52s/it]\n"
     ]
    },
    {
     "name": "stdout",
     "output_type": "stream",
     "text": [
      "Validating....\n"
     ]
    },
    {
     "name": "stderr",
     "output_type": "stream",
     "text": [
      "100%|██████████| 3/3 [00:01<00:00,  2.94it/s]\n"
     ]
    },
    {
     "name": "stdout",
     "output_type": "stream",
     "text": [
      "Training loss: 1.570\tTraining Accuracy: 32.80\n",
      "Validation loss: 2.021\tValidation Accuracy: 21.53\n",
      "Latest model saved as ./resnet18_outputs/latest.pth\n",
      "\n",
      "[INFO]: Epoch 52/300\n",
      "Training....\n"
     ]
    },
    {
     "name": "stderr",
     "output_type": "stream",
     "text": [
      "100%|██████████| 23/23 [00:34<00:00,  1.48s/it]\n"
     ]
    },
    {
     "name": "stdout",
     "output_type": "stream",
     "text": [
      "Validating....\n"
     ]
    },
    {
     "name": "stderr",
     "output_type": "stream",
     "text": [
      "100%|██████████| 3/3 [00:01<00:00,  2.80it/s]\n"
     ]
    },
    {
     "name": "stdout",
     "output_type": "stream",
     "text": [
      "Training loss: 1.603\tTraining Accuracy: 31.29\n",
      "Validation loss: 1.875\tValidation Accuracy: 27.01\n",
      "Latest model saved as ./resnet18_outputs/latest.pth\n",
      "\n",
      "[INFO]: Epoch 53/300\n",
      "Training....\n"
     ]
    },
    {
     "name": "stderr",
     "output_type": "stream",
     "text": [
      "100%|██████████| 23/23 [00:32<00:00,  1.42s/it]\n"
     ]
    },
    {
     "name": "stdout",
     "output_type": "stream",
     "text": [
      "Validating....\n"
     ]
    },
    {
     "name": "stderr",
     "output_type": "stream",
     "text": [
      "100%|██████████| 3/3 [00:01<00:00,  2.57it/s]\n"
     ]
    },
    {
     "name": "stdout",
     "output_type": "stream",
     "text": [
      "Training loss: 1.631\tTraining Accuracy: 30.53\n",
      "Validation loss: 1.839\tValidation Accuracy: 30.07\n",
      "Latest model saved as ./resnet18_outputs/latest.pth\n",
      "\n",
      "[INFO]: Epoch 54/300\n",
      "Training....\n"
     ]
    },
    {
     "name": "stderr",
     "output_type": "stream",
     "text": [
      "100%|██████████| 23/23 [00:40<00:00,  1.74s/it]\n"
     ]
    },
    {
     "name": "stdout",
     "output_type": "stream",
     "text": [
      "Validating....\n"
     ]
    },
    {
     "name": "stderr",
     "output_type": "stream",
     "text": [
      "100%|██████████| 3/3 [00:01<00:00,  2.89it/s]\n"
     ]
    },
    {
     "name": "stdout",
     "output_type": "stream",
     "text": [
      "Training loss: 1.611\tTraining Accuracy: 31.40\n",
      "Validation loss: 1.981\tValidation Accuracy: 25.07\n",
      "Latest model saved as ./resnet18_outputs/latest.pth\n",
      "\n",
      "[INFO]: Epoch 55/300\n",
      "Training....\n"
     ]
    },
    {
     "name": "stderr",
     "output_type": "stream",
     "text": [
      "100%|██████████| 23/23 [00:33<00:00,  1.45s/it]\n"
     ]
    },
    {
     "name": "stdout",
     "output_type": "stream",
     "text": [
      "Validating....\n"
     ]
    },
    {
     "name": "stderr",
     "output_type": "stream",
     "text": [
      "100%|██████████| 3/3 [00:01<00:00,  2.08it/s]\n"
     ]
    },
    {
     "name": "stdout",
     "output_type": "stream",
     "text": [
      "Training loss: 1.604\tTraining Accuracy: 31.02\n",
      "Validation loss: 2.016\tValidation Accuracy: 23.96\n",
      "Latest model saved as ./resnet18_outputs/latest.pth\n",
      "\n",
      "[INFO]: Epoch 56/300\n",
      "Training....\n"
     ]
    },
    {
     "name": "stderr",
     "output_type": "stream",
     "text": [
      "100%|██████████| 23/23 [00:36<00:00,  1.57s/it]\n"
     ]
    },
    {
     "name": "stdout",
     "output_type": "stream",
     "text": [
      "Validating....\n"
     ]
    },
    {
     "name": "stderr",
     "output_type": "stream",
     "text": [
      "100%|██████████| 3/3 [00:01<00:00,  2.92it/s]\n"
     ]
    },
    {
     "name": "stdout",
     "output_type": "stream",
     "text": [
      "Training loss: 1.628\tTraining Accuracy: 31.21\n",
      "Validation loss: 2.266\tValidation Accuracy: 22.64\n",
      "Latest model saved as ./resnet18_outputs/latest.pth\n",
      "\n",
      "[INFO]: Epoch 57/300\n",
      "Training....\n"
     ]
    },
    {
     "name": "stderr",
     "output_type": "stream",
     "text": [
      "100%|██████████| 23/23 [00:37<00:00,  1.64s/it]\n"
     ]
    },
    {
     "name": "stdout",
     "output_type": "stream",
     "text": [
      "Validating....\n"
     ]
    },
    {
     "name": "stderr",
     "output_type": "stream",
     "text": [
      "100%|██████████| 3/3 [00:01<00:00,  2.88it/s]\n"
     ]
    },
    {
     "name": "stdout",
     "output_type": "stream",
     "text": [
      "Training loss: 1.566\tTraining Accuracy: 32.07\n",
      "Validation loss: 1.877\tValidation Accuracy: 28.61\n",
      "Latest model saved as ./resnet18_outputs/latest.pth\n",
      "\n",
      "[INFO]: Epoch 58/300\n",
      "Training....\n"
     ]
    },
    {
     "name": "stderr",
     "output_type": "stream",
     "text": [
      "100%|██████████| 23/23 [00:32<00:00,  1.42s/it]\n"
     ]
    },
    {
     "name": "stdout",
     "output_type": "stream",
     "text": [
      "Validating....\n"
     ]
    },
    {
     "name": "stderr",
     "output_type": "stream",
     "text": [
      "100%|██████████| 3/3 [00:01<00:00,  2.89it/s]\n"
     ]
    },
    {
     "name": "stdout",
     "output_type": "stream",
     "text": [
      "Training loss: 1.623\tTraining Accuracy: 30.69\n",
      "Validation loss: 1.990\tValidation Accuracy: 25.49\n",
      "Latest model saved as ./resnet18_outputs/latest.pth\n",
      "\n",
      "[INFO]: Epoch 59/300\n",
      "Training....\n"
     ]
    },
    {
     "name": "stderr",
     "output_type": "stream",
     "text": [
      "100%|██████████| 23/23 [00:38<00:00,  1.66s/it]\n"
     ]
    },
    {
     "name": "stdout",
     "output_type": "stream",
     "text": [
      "Validating....\n"
     ]
    },
    {
     "name": "stderr",
     "output_type": "stream",
     "text": [
      "100%|██████████| 3/3 [00:01<00:00,  2.31it/s]\n"
     ]
    },
    {
     "name": "stdout",
     "output_type": "stream",
     "text": [
      "Training loss: 1.552\tTraining Accuracy: 32.61\n",
      "Validation loss: 1.895\tValidation Accuracy: 26.67\n",
      "Latest model saved as ./resnet18_outputs/latest.pth\n",
      "\n",
      "[INFO]: Epoch 60/300\n",
      "Training....\n"
     ]
    },
    {
     "name": "stderr",
     "output_type": "stream",
     "text": [
      "100%|██████████| 23/23 [00:33<00:00,  1.47s/it]\n"
     ]
    },
    {
     "name": "stdout",
     "output_type": "stream",
     "text": [
      "Validating....\n"
     ]
    },
    {
     "name": "stderr",
     "output_type": "stream",
     "text": [
      "100%|██████████| 3/3 [00:01<00:00,  2.55it/s]\n"
     ]
    },
    {
     "name": "stdout",
     "output_type": "stream",
     "text": [
      "Training loss: 1.556\tTraining Accuracy: 32.36\n",
      "Validation loss: 1.667\tValidation Accuracy: 30.63\n",
      "Best model saved as ./resnet18_outputs/best.pth\n",
      "Latest model saved as ./resnet18_outputs/latest.pth\n",
      "\n",
      "[INFO]: Epoch 61/300\n",
      "Training....\n"
     ]
    },
    {
     "name": "stderr",
     "output_type": "stream",
     "text": [
      "100%|██████████| 23/23 [00:35<00:00,  1.56s/it]\n"
     ]
    },
    {
     "name": "stdout",
     "output_type": "stream",
     "text": [
      "Validating....\n"
     ]
    },
    {
     "name": "stderr",
     "output_type": "stream",
     "text": [
      "100%|██████████| 3/3 [00:01<00:00,  2.80it/s]\n"
     ]
    },
    {
     "name": "stdout",
     "output_type": "stream",
     "text": [
      "Training loss: 1.584\tTraining Accuracy: 31.61\n",
      "Validation loss: 2.138\tValidation Accuracy: 25.21\n",
      "Latest model saved as ./resnet18_outputs/latest.pth\n",
      "\n",
      "[INFO]: Epoch 62/300\n",
      "Training....\n"
     ]
    },
    {
     "name": "stderr",
     "output_type": "stream",
     "text": [
      "100%|██████████| 23/23 [00:41<00:00,  1.81s/it]\n"
     ]
    },
    {
     "name": "stdout",
     "output_type": "stream",
     "text": [
      "Validating....\n"
     ]
    },
    {
     "name": "stderr",
     "output_type": "stream",
     "text": [
      "100%|██████████| 3/3 [00:01<00:00,  2.09it/s]\n"
     ]
    },
    {
     "name": "stdout",
     "output_type": "stream",
     "text": [
      "Training loss: 1.547\tTraining Accuracy: 32.51\n",
      "Validation loss: 1.845\tValidation Accuracy: 26.04\n",
      "Latest model saved as ./resnet18_outputs/latest.pth\n",
      "\n",
      "[INFO]: Epoch 63/300\n",
      "Training....\n"
     ]
    },
    {
     "name": "stderr",
     "output_type": "stream",
     "text": [
      "100%|██████████| 23/23 [00:36<00:00,  1.58s/it]\n"
     ]
    },
    {
     "name": "stdout",
     "output_type": "stream",
     "text": [
      "Validating....\n"
     ]
    },
    {
     "name": "stderr",
     "output_type": "stream",
     "text": [
      "100%|██████████| 3/3 [00:01<00:00,  2.94it/s]\n"
     ]
    },
    {
     "name": "stdout",
     "output_type": "stream",
     "text": [
      "Training loss: 1.562\tTraining Accuracy: 32.43\n",
      "Validation loss: 1.966\tValidation Accuracy: 24.72\n",
      "Latest model saved as ./resnet18_outputs/latest.pth\n",
      "\n",
      "[INFO]: Epoch 64/300\n",
      "Training....\n"
     ]
    },
    {
     "name": "stderr",
     "output_type": "stream",
     "text": [
      "100%|██████████| 23/23 [00:40<00:00,  1.75s/it]\n"
     ]
    },
    {
     "name": "stdout",
     "output_type": "stream",
     "text": [
      "Validating....\n"
     ]
    },
    {
     "name": "stderr",
     "output_type": "stream",
     "text": [
      "100%|██████████| 3/3 [00:01<00:00,  2.85it/s]\n"
     ]
    },
    {
     "name": "stdout",
     "output_type": "stream",
     "text": [
      "Training loss: 1.534\tTraining Accuracy: 32.66\n",
      "Validation loss: 1.970\tValidation Accuracy: 30.42\n",
      "Latest model saved as ./resnet18_outputs/latest.pth\n",
      "\n",
      "[INFO]: Epoch 65/300\n",
      "Training....\n"
     ]
    },
    {
     "name": "stderr",
     "output_type": "stream",
     "text": [
      "100%|██████████| 23/23 [00:32<00:00,  1.42s/it]\n"
     ]
    },
    {
     "name": "stdout",
     "output_type": "stream",
     "text": [
      "Validating....\n"
     ]
    },
    {
     "name": "stderr",
     "output_type": "stream",
     "text": [
      "100%|██████████| 3/3 [00:01<00:00,  2.47it/s]\n"
     ]
    },
    {
     "name": "stdout",
     "output_type": "stream",
     "text": [
      "Training loss: 1.504\tTraining Accuracy: 33.98\n",
      "Validation loss: 1.892\tValidation Accuracy: 27.57\n",
      "Latest model saved as ./resnet18_outputs/latest.pth\n",
      "\n",
      "[INFO]: Epoch 66/300\n",
      "Training....\n"
     ]
    },
    {
     "name": "stderr",
     "output_type": "stream",
     "text": [
      "100%|██████████| 23/23 [00:36<00:00,  1.57s/it]\n"
     ]
    },
    {
     "name": "stdout",
     "output_type": "stream",
     "text": [
      "Validating....\n"
     ]
    },
    {
     "name": "stderr",
     "output_type": "stream",
     "text": [
      "100%|██████████| 3/3 [00:01<00:00,  2.85it/s]\n"
     ]
    },
    {
     "name": "stdout",
     "output_type": "stream",
     "text": [
      "Training loss: 1.546\tTraining Accuracy: 33.57\n",
      "Validation loss: 2.128\tValidation Accuracy: 26.04\n",
      "Latest model saved as ./resnet18_outputs/latest.pth\n",
      "\n",
      "[INFO]: Epoch 67/300\n",
      "Training....\n"
     ]
    },
    {
     "name": "stderr",
     "output_type": "stream",
     "text": [
      "100%|██████████| 23/23 [00:36<00:00,  1.60s/it]\n"
     ]
    },
    {
     "name": "stdout",
     "output_type": "stream",
     "text": [
      "Validating....\n"
     ]
    },
    {
     "name": "stderr",
     "output_type": "stream",
     "text": [
      "100%|██████████| 3/3 [00:01<00:00,  2.89it/s]\n"
     ]
    },
    {
     "name": "stdout",
     "output_type": "stream",
     "text": [
      "Training loss: 1.511\tTraining Accuracy: 34.18\n",
      "Validation loss: 1.911\tValidation Accuracy: 26.94\n",
      "Latest model saved as ./resnet18_outputs/latest.pth\n",
      "\n",
      "[INFO]: Epoch 68/300\n",
      "Training....\n"
     ]
    },
    {
     "name": "stderr",
     "output_type": "stream",
     "text": [
      "100%|██████████| 23/23 [00:47<00:00,  2.08s/it]\n"
     ]
    },
    {
     "name": "stdout",
     "output_type": "stream",
     "text": [
      "Validating....\n"
     ]
    },
    {
     "name": "stderr",
     "output_type": "stream",
     "text": [
      "100%|██████████| 3/3 [00:01<00:00,  2.85it/s]\n"
     ]
    },
    {
     "name": "stdout",
     "output_type": "stream",
     "text": [
      "Training loss: 1.494\tTraining Accuracy: 35.23\n",
      "Validation loss: 2.047\tValidation Accuracy: 28.12\n",
      "Latest model saved as ./resnet18_outputs/latest.pth\n",
      "\n",
      "[INFO]: Epoch 69/300\n",
      "Training....\n"
     ]
    },
    {
     "name": "stderr",
     "output_type": "stream",
     "text": [
      "100%|██████████| 23/23 [00:33<00:00,  1.46s/it]\n"
     ]
    },
    {
     "name": "stdout",
     "output_type": "stream",
     "text": [
      "Validating....\n"
     ]
    },
    {
     "name": "stderr",
     "output_type": "stream",
     "text": [
      "100%|██████████| 3/3 [00:01<00:00,  2.86it/s]\n"
     ]
    },
    {
     "name": "stdout",
     "output_type": "stream",
     "text": [
      "Training loss: 1.509\tTraining Accuracy: 33.98\n",
      "Validation loss: 1.694\tValidation Accuracy: 34.44\n",
      "Latest model saved as ./resnet18_outputs/latest.pth\n",
      "\n",
      "[INFO]: Epoch 70/300\n",
      "Training....\n"
     ]
    },
    {
     "name": "stderr",
     "output_type": "stream",
     "text": [
      "100%|██████████| 23/23 [00:44<00:00,  1.93s/it]\n"
     ]
    },
    {
     "name": "stdout",
     "output_type": "stream",
     "text": [
      "Validating....\n"
     ]
    },
    {
     "name": "stderr",
     "output_type": "stream",
     "text": [
      "100%|██████████| 3/3 [00:01<00:00,  2.12it/s]\n"
     ]
    },
    {
     "name": "stdout",
     "output_type": "stream",
     "text": [
      "Training loss: 1.441\tTraining Accuracy: 37.00\n",
      "Validation loss: 1.652\tValidation Accuracy: 33.06\n",
      "Best model saved as ./resnet18_outputs/best.pth\n",
      "Latest model saved as ./resnet18_outputs/latest.pth\n",
      "\n",
      "[INFO]: Epoch 71/300\n",
      "Training....\n"
     ]
    },
    {
     "name": "stderr",
     "output_type": "stream",
     "text": [
      "100%|██████████| 23/23 [00:38<00:00,  1.66s/it]\n"
     ]
    },
    {
     "name": "stdout",
     "output_type": "stream",
     "text": [
      "Validating....\n"
     ]
    },
    {
     "name": "stderr",
     "output_type": "stream",
     "text": [
      "100%|██████████| 3/3 [00:01<00:00,  2.43it/s]\n"
     ]
    },
    {
     "name": "stdout",
     "output_type": "stream",
     "text": [
      "Training loss: 1.538\tTraining Accuracy: 32.64\n",
      "Validation loss: 2.064\tValidation Accuracy: 29.51\n",
      "Latest model saved as ./resnet18_outputs/latest.pth\n",
      "\n",
      "[INFO]: Epoch 72/300\n",
      "Training....\n"
     ]
    },
    {
     "name": "stderr",
     "output_type": "stream",
     "text": [
      "100%|██████████| 23/23 [00:44<00:00,  1.94s/it]\n"
     ]
    },
    {
     "name": "stdout",
     "output_type": "stream",
     "text": [
      "Validating....\n"
     ]
    },
    {
     "name": "stderr",
     "output_type": "stream",
     "text": [
      "100%|██████████| 3/3 [00:01<00:00,  2.92it/s]\n"
     ]
    },
    {
     "name": "stdout",
     "output_type": "stream",
     "text": [
      "Training loss: 1.519\tTraining Accuracy: 32.92\n",
      "Validation loss: 1.766\tValidation Accuracy: 31.67\n",
      "Latest model saved as ./resnet18_outputs/latest.pth\n",
      "\n",
      "[INFO]: Epoch 73/300\n",
      "Training....\n"
     ]
    },
    {
     "name": "stderr",
     "output_type": "stream",
     "text": [
      "100%|██████████| 23/23 [00:33<00:00,  1.45s/it]\n"
     ]
    },
    {
     "name": "stdout",
     "output_type": "stream",
     "text": [
      "Validating....\n"
     ]
    },
    {
     "name": "stderr",
     "output_type": "stream",
     "text": [
      "100%|██████████| 3/3 [00:01<00:00,  2.31it/s]\n"
     ]
    },
    {
     "name": "stdout",
     "output_type": "stream",
     "text": [
      "Training loss: 1.439\tTraining Accuracy: 36.66\n",
      "Validation loss: 1.776\tValidation Accuracy: 31.67\n",
      "Latest model saved as ./resnet18_outputs/latest.pth\n",
      "\n",
      "[INFO]: Epoch 74/300\n",
      "Training....\n"
     ]
    },
    {
     "name": "stderr",
     "output_type": "stream",
     "text": [
      "100%|██████████| 23/23 [00:41<00:00,  1.81s/it]\n"
     ]
    },
    {
     "name": "stdout",
     "output_type": "stream",
     "text": [
      "Validating....\n"
     ]
    },
    {
     "name": "stderr",
     "output_type": "stream",
     "text": [
      "100%|██████████| 3/3 [00:01<00:00,  2.89it/s]\n"
     ]
    },
    {
     "name": "stdout",
     "output_type": "stream",
     "text": [
      "Training loss: 1.515\tTraining Accuracy: 34.82\n",
      "Validation loss: 2.140\tValidation Accuracy: 26.25\n",
      "Latest model saved as ./resnet18_outputs/latest.pth\n",
      "\n",
      "[INFO]: Epoch 75/300\n",
      "Training....\n"
     ]
    },
    {
     "name": "stderr",
     "output_type": "stream",
     "text": [
      "100%|██████████| 23/23 [00:35<00:00,  1.55s/it]\n"
     ]
    },
    {
     "name": "stdout",
     "output_type": "stream",
     "text": [
      "Validating....\n"
     ]
    },
    {
     "name": "stderr",
     "output_type": "stream",
     "text": [
      "100%|██████████| 3/3 [00:01<00:00,  2.28it/s]\n"
     ]
    },
    {
     "name": "stdout",
     "output_type": "stream",
     "text": [
      "Training loss: 1.469\tTraining Accuracy: 34.47\n",
      "Validation loss: 1.878\tValidation Accuracy: 29.17\n",
      "Latest model saved as ./resnet18_outputs/latest.pth\n",
      "\n",
      "[INFO]: Epoch 76/300\n",
      "Training....\n"
     ]
    },
    {
     "name": "stderr",
     "output_type": "stream",
     "text": [
      "100%|██████████| 23/23 [00:37<00:00,  1.61s/it]\n"
     ]
    },
    {
     "name": "stdout",
     "output_type": "stream",
     "text": [
      "Validating....\n"
     ]
    },
    {
     "name": "stderr",
     "output_type": "stream",
     "text": [
      "100%|██████████| 3/3 [00:01<00:00,  2.88it/s]\n"
     ]
    },
    {
     "name": "stdout",
     "output_type": "stream",
     "text": [
      "Training loss: 1.465\tTraining Accuracy: 35.62\n",
      "Validation loss: 1.771\tValidation Accuracy: 28.96\n",
      "Latest model saved as ./resnet18_outputs/latest.pth\n",
      "\n",
      "[INFO]: Epoch 77/300\n",
      "Training....\n"
     ]
    },
    {
     "name": "stderr",
     "output_type": "stream",
     "text": [
      "100%|██████████| 23/23 [00:35<00:00,  1.54s/it]\n"
     ]
    },
    {
     "name": "stdout",
     "output_type": "stream",
     "text": [
      "Validating....\n"
     ]
    },
    {
     "name": "stderr",
     "output_type": "stream",
     "text": [
      "100%|██████████| 3/3 [00:01<00:00,  2.57it/s]\n"
     ]
    },
    {
     "name": "stdout",
     "output_type": "stream",
     "text": [
      "Training loss: 1.446\tTraining Accuracy: 35.43\n",
      "Validation loss: 1.770\tValidation Accuracy: 30.97\n",
      "Latest model saved as ./resnet18_outputs/latest.pth\n",
      "\n",
      "[INFO]: Epoch 78/300\n",
      "Training....\n"
     ]
    },
    {
     "name": "stderr",
     "output_type": "stream",
     "text": [
      "100%|██████████| 23/23 [00:35<00:00,  1.55s/it]\n"
     ]
    },
    {
     "name": "stdout",
     "output_type": "stream",
     "text": [
      "Validating....\n"
     ]
    },
    {
     "name": "stderr",
     "output_type": "stream",
     "text": [
      "100%|██████████| 3/3 [00:01<00:00,  2.85it/s]\n"
     ]
    },
    {
     "name": "stdout",
     "output_type": "stream",
     "text": [
      "Training loss: 1.492\tTraining Accuracy: 35.58\n",
      "Validation loss: 2.025\tValidation Accuracy: 24.65\n",
      "Latest model saved as ./resnet18_outputs/latest.pth\n",
      "\n",
      "[INFO]: Epoch 79/300\n",
      "Training....\n"
     ]
    },
    {
     "name": "stderr",
     "output_type": "stream",
     "text": [
      "100%|██████████| 23/23 [00:40<00:00,  1.76s/it]\n"
     ]
    },
    {
     "name": "stdout",
     "output_type": "stream",
     "text": [
      "Validating....\n"
     ]
    },
    {
     "name": "stderr",
     "output_type": "stream",
     "text": [
      "100%|██████████| 3/3 [00:01<00:00,  2.21it/s]\n"
     ]
    },
    {
     "name": "stdout",
     "output_type": "stream",
     "text": [
      "Training loss: 1.437\tTraining Accuracy: 36.61\n",
      "Validation loss: 2.130\tValidation Accuracy: 25.42\n",
      "Latest model saved as ./resnet18_outputs/latest.pth\n",
      "\n",
      "[INFO]: Epoch 80/300\n",
      "Training....\n"
     ]
    },
    {
     "name": "stderr",
     "output_type": "stream",
     "text": [
      "100%|██████████| 23/23 [00:37<00:00,  1.64s/it]\n"
     ]
    },
    {
     "name": "stdout",
     "output_type": "stream",
     "text": [
      "Validating....\n"
     ]
    },
    {
     "name": "stderr",
     "output_type": "stream",
     "text": [
      "100%|██████████| 3/3 [00:01<00:00,  2.53it/s]\n"
     ]
    },
    {
     "name": "stdout",
     "output_type": "stream",
     "text": [
      "Training loss: 1.404\tTraining Accuracy: 37.65\n",
      "Validation loss: 2.038\tValidation Accuracy: 28.82\n",
      "Latest model saved as ./resnet18_outputs/latest.pth\n",
      "\n",
      "[INFO]: Epoch 81/300\n",
      "Training....\n"
     ]
    },
    {
     "name": "stderr",
     "output_type": "stream",
     "text": [
      "100%|██████████| 23/23 [00:41<00:00,  1.79s/it]\n"
     ]
    },
    {
     "name": "stdout",
     "output_type": "stream",
     "text": [
      "Validating....\n"
     ]
    },
    {
     "name": "stderr",
     "output_type": "stream",
     "text": [
      "100%|██████████| 3/3 [00:01<00:00,  2.98it/s]\n"
     ]
    },
    {
     "name": "stdout",
     "output_type": "stream",
     "text": [
      "Training loss: 1.407\tTraining Accuracy: 37.07\n",
      "Validation loss: 1.902\tValidation Accuracy: 28.61\n",
      "Latest model saved as ./resnet18_outputs/latest.pth\n",
      "\n",
      "[INFO]: Epoch 82/300\n",
      "Training....\n"
     ]
    },
    {
     "name": "stderr",
     "output_type": "stream",
     "text": [
      "100%|██████████| 23/23 [00:34<00:00,  1.50s/it]\n"
     ]
    },
    {
     "name": "stdout",
     "output_type": "stream",
     "text": [
      "Validating....\n"
     ]
    },
    {
     "name": "stderr",
     "output_type": "stream",
     "text": [
      "100%|██████████| 3/3 [00:01<00:00,  2.87it/s]\n"
     ]
    },
    {
     "name": "stdout",
     "output_type": "stream",
     "text": [
      "Training loss: 1.406\tTraining Accuracy: 37.49\n",
      "Validation loss: 2.230\tValidation Accuracy: 26.39\n",
      "Latest model saved as ./resnet18_outputs/latest.pth\n",
      "\n",
      "[INFO]: Epoch 83/300\n",
      "Training....\n"
     ]
    },
    {
     "name": "stderr",
     "output_type": "stream",
     "text": [
      "100%|██████████| 23/23 [00:38<00:00,  1.67s/it]\n"
     ]
    },
    {
     "name": "stdout",
     "output_type": "stream",
     "text": [
      "Validating....\n"
     ]
    },
    {
     "name": "stderr",
     "output_type": "stream",
     "text": [
      "100%|██████████| 3/3 [00:01<00:00,  2.66it/s]\n"
     ]
    },
    {
     "name": "stdout",
     "output_type": "stream",
     "text": [
      "Training loss: 1.415\tTraining Accuracy: 37.71\n",
      "Validation loss: 1.734\tValidation Accuracy: 33.19\n",
      "Latest model saved as ./resnet18_outputs/latest.pth\n",
      "\n",
      "[INFO]: Epoch 84/300\n",
      "Training....\n"
     ]
    },
    {
     "name": "stderr",
     "output_type": "stream",
     "text": [
      "100%|██████████| 23/23 [00:40<00:00,  1.74s/it]\n"
     ]
    },
    {
     "name": "stdout",
     "output_type": "stream",
     "text": [
      "Validating....\n"
     ]
    },
    {
     "name": "stderr",
     "output_type": "stream",
     "text": [
      "100%|██████████| 3/3 [00:01<00:00,  2.82it/s]\n"
     ]
    },
    {
     "name": "stdout",
     "output_type": "stream",
     "text": [
      "Training loss: 1.391\tTraining Accuracy: 37.64\n",
      "Validation loss: 1.727\tValidation Accuracy: 32.36\n",
      "Latest model saved as ./resnet18_outputs/latest.pth\n",
      "\n",
      "[INFO]: Epoch 85/300\n",
      "Training....\n"
     ]
    },
    {
     "name": "stderr",
     "output_type": "stream",
     "text": [
      "100%|██████████| 23/23 [00:35<00:00,  1.55s/it]\n"
     ]
    },
    {
     "name": "stdout",
     "output_type": "stream",
     "text": [
      "Validating....\n"
     ]
    },
    {
     "name": "stderr",
     "output_type": "stream",
     "text": [
      "100%|██████████| 3/3 [00:01<00:00,  2.81it/s]\n"
     ]
    },
    {
     "name": "stdout",
     "output_type": "stream",
     "text": [
      "Training loss: 1.368\tTraining Accuracy: 38.87\n",
      "Validation loss: 2.026\tValidation Accuracy: 26.88\n",
      "Latest model saved as ./resnet18_outputs/latest.pth\n",
      "\n",
      "[INFO]: Epoch 86/300\n",
      "Training....\n"
     ]
    },
    {
     "name": "stderr",
     "output_type": "stream",
     "text": [
      "100%|██████████| 23/23 [00:37<00:00,  1.61s/it]\n"
     ]
    },
    {
     "name": "stdout",
     "output_type": "stream",
     "text": [
      "Validating....\n"
     ]
    },
    {
     "name": "stderr",
     "output_type": "stream",
     "text": [
      "100%|██████████| 3/3 [00:01<00:00,  2.54it/s]\n"
     ]
    },
    {
     "name": "stdout",
     "output_type": "stream",
     "text": [
      "Training loss: 1.349\tTraining Accuracy: 39.69\n",
      "Validation loss: 1.614\tValidation Accuracy: 35.97\n",
      "Best model saved as ./resnet18_outputs/best.pth\n",
      "Latest model saved as ./resnet18_outputs/latest.pth\n",
      "\n",
      "[INFO]: Epoch 87/300\n",
      "Training....\n"
     ]
    },
    {
     "name": "stderr",
     "output_type": "stream",
     "text": [
      "100%|██████████| 23/23 [00:32<00:00,  1.40s/it]\n"
     ]
    },
    {
     "name": "stdout",
     "output_type": "stream",
     "text": [
      "Validating....\n"
     ]
    },
    {
     "name": "stderr",
     "output_type": "stream",
     "text": [
      "100%|██████████| 3/3 [00:01<00:00,  2.77it/s]\n"
     ]
    },
    {
     "name": "stdout",
     "output_type": "stream",
     "text": [
      "Training loss: 1.348\tTraining Accuracy: 39.62\n",
      "Validation loss: 1.728\tValidation Accuracy: 33.26\n",
      "Latest model saved as ./resnet18_outputs/latest.pth\n",
      "\n",
      "[INFO]: Epoch 88/300\n",
      "Training....\n"
     ]
    },
    {
     "name": "stderr",
     "output_type": "stream",
     "text": [
      "100%|██████████| 23/23 [00:34<00:00,  1.49s/it]\n"
     ]
    },
    {
     "name": "stdout",
     "output_type": "stream",
     "text": [
      "Validating....\n"
     ]
    },
    {
     "name": "stderr",
     "output_type": "stream",
     "text": [
      "100%|██████████| 3/3 [00:01<00:00,  2.87it/s]\n"
     ]
    },
    {
     "name": "stdout",
     "output_type": "stream",
     "text": [
      "Training loss: 1.392\tTraining Accuracy: 39.62\n",
      "Validation loss: 1.505\tValidation Accuracy: 38.89\n",
      "Best model saved as ./resnet18_outputs/best.pth\n",
      "Latest model saved as ./resnet18_outputs/latest.pth\n",
      "\n",
      "[INFO]: Epoch 89/300\n",
      "Training....\n"
     ]
    },
    {
     "name": "stderr",
     "output_type": "stream",
     "text": [
      "100%|██████████| 23/23 [00:31<00:00,  1.38s/it]\n"
     ]
    },
    {
     "name": "stdout",
     "output_type": "stream",
     "text": [
      "Validating....\n"
     ]
    },
    {
     "name": "stderr",
     "output_type": "stream",
     "text": [
      "100%|██████████| 3/3 [00:01<00:00,  2.50it/s]\n"
     ]
    },
    {
     "name": "stdout",
     "output_type": "stream",
     "text": [
      "Training loss: 1.403\tTraining Accuracy: 38.52\n",
      "Validation loss: 1.749\tValidation Accuracy: 35.07\n",
      "Latest model saved as ./resnet18_outputs/latest.pth\n",
      "\n",
      "[INFO]: Epoch 90/300\n",
      "Training....\n"
     ]
    },
    {
     "name": "stderr",
     "output_type": "stream",
     "text": [
      "100%|██████████| 23/23 [00:35<00:00,  1.53s/it]\n"
     ]
    },
    {
     "name": "stdout",
     "output_type": "stream",
     "text": [
      "Validating....\n"
     ]
    },
    {
     "name": "stderr",
     "output_type": "stream",
     "text": [
      "100%|██████████| 3/3 [00:01<00:00,  2.91it/s]\n"
     ]
    },
    {
     "name": "stdout",
     "output_type": "stream",
     "text": [
      "Training loss: 1.341\tTraining Accuracy: 40.00\n",
      "Validation loss: 1.668\tValidation Accuracy: 34.79\n",
      "Latest model saved as ./resnet18_outputs/latest.pth\n",
      "\n",
      "[INFO]: Epoch 91/300\n",
      "Training....\n"
     ]
    },
    {
     "name": "stderr",
     "output_type": "stream",
     "text": [
      "100%|██████████| 23/23 [00:36<00:00,  1.59s/it]\n"
     ]
    },
    {
     "name": "stdout",
     "output_type": "stream",
     "text": [
      "Validating....\n"
     ]
    },
    {
     "name": "stderr",
     "output_type": "stream",
     "text": [
      "100%|██████████| 3/3 [00:01<00:00,  2.87it/s]\n"
     ]
    },
    {
     "name": "stdout",
     "output_type": "stream",
     "text": [
      "Training loss: 1.301\tTraining Accuracy: 41.48\n",
      "Validation loss: 1.616\tValidation Accuracy: 40.14\n",
      "Latest model saved as ./resnet18_outputs/latest.pth\n",
      "\n",
      "[INFO]: Epoch 92/300\n",
      "Training....\n"
     ]
    },
    {
     "name": "stderr",
     "output_type": "stream",
     "text": [
      "100%|██████████| 23/23 [00:33<00:00,  1.46s/it]\n"
     ]
    },
    {
     "name": "stdout",
     "output_type": "stream",
     "text": [
      "Validating....\n"
     ]
    },
    {
     "name": "stderr",
     "output_type": "stream",
     "text": [
      "100%|██████████| 3/3 [00:01<00:00,  2.80it/s]\n"
     ]
    },
    {
     "name": "stdout",
     "output_type": "stream",
     "text": [
      "Training loss: 1.310\tTraining Accuracy: 40.80\n",
      "Validation loss: 1.548\tValidation Accuracy: 34.44\n",
      "Latest model saved as ./resnet18_outputs/latest.pth\n",
      "\n",
      "[INFO]: Epoch 93/300\n",
      "Training....\n"
     ]
    },
    {
     "name": "stderr",
     "output_type": "stream",
     "text": [
      "100%|██████████| 23/23 [00:33<00:00,  1.47s/it]\n"
     ]
    },
    {
     "name": "stdout",
     "output_type": "stream",
     "text": [
      "Validating....\n"
     ]
    },
    {
     "name": "stderr",
     "output_type": "stream",
     "text": [
      "100%|██████████| 3/3 [00:01<00:00,  2.27it/s]\n"
     ]
    },
    {
     "name": "stdout",
     "output_type": "stream",
     "text": [
      "Training loss: 1.346\tTraining Accuracy: 39.47\n",
      "Validation loss: 1.822\tValidation Accuracy: 33.40\n",
      "Latest model saved as ./resnet18_outputs/latest.pth\n",
      "\n",
      "[INFO]: Epoch 94/300\n",
      "Training....\n"
     ]
    },
    {
     "name": "stderr",
     "output_type": "stream",
     "text": [
      "100%|██████████| 23/23 [00:41<00:00,  1.80s/it]\n"
     ]
    },
    {
     "name": "stdout",
     "output_type": "stream",
     "text": [
      "Validating....\n"
     ]
    },
    {
     "name": "stderr",
     "output_type": "stream",
     "text": [
      "100%|██████████| 3/3 [00:01<00:00,  2.85it/s]\n"
     ]
    },
    {
     "name": "stdout",
     "output_type": "stream",
     "text": [
      "Training loss: 1.321\tTraining Accuracy: 40.41\n",
      "Validation loss: 1.644\tValidation Accuracy: 35.90\n",
      "Latest model saved as ./resnet18_outputs/latest.pth\n",
      "\n",
      "[INFO]: Epoch 95/300\n",
      "Training....\n"
     ]
    },
    {
     "name": "stderr",
     "output_type": "stream",
     "text": [
      "100%|██████████| 23/23 [00:35<00:00,  1.54s/it]\n"
     ]
    },
    {
     "name": "stdout",
     "output_type": "stream",
     "text": [
      "Validating....\n"
     ]
    },
    {
     "name": "stderr",
     "output_type": "stream",
     "text": [
      "100%|██████████| 3/3 [00:01<00:00,  2.52it/s]\n"
     ]
    },
    {
     "name": "stdout",
     "output_type": "stream",
     "text": [
      "Training loss: 1.304\tTraining Accuracy: 41.14\n",
      "Validation loss: 1.640\tValidation Accuracy: 37.01\n",
      "Latest model saved as ./resnet18_outputs/latest.pth\n",
      "\n",
      "[INFO]: Epoch 96/300\n",
      "Training....\n"
     ]
    },
    {
     "name": "stderr",
     "output_type": "stream",
     "text": [
      "100%|██████████| 23/23 [00:40<00:00,  1.77s/it]\n"
     ]
    },
    {
     "name": "stdout",
     "output_type": "stream",
     "text": [
      "Validating....\n"
     ]
    },
    {
     "name": "stderr",
     "output_type": "stream",
     "text": [
      "100%|██████████| 3/3 [00:01<00:00,  2.86it/s]\n"
     ]
    },
    {
     "name": "stdout",
     "output_type": "stream",
     "text": [
      "Training loss: 1.327\tTraining Accuracy: 40.35\n",
      "Validation loss: 1.688\tValidation Accuracy: 37.78\n",
      "Latest model saved as ./resnet18_outputs/latest.pth\n",
      "\n",
      "[INFO]: Epoch 97/300\n",
      "Training....\n"
     ]
    },
    {
     "name": "stderr",
     "output_type": "stream",
     "text": [
      "100%|██████████| 23/23 [00:33<00:00,  1.48s/it]\n"
     ]
    },
    {
     "name": "stdout",
     "output_type": "stream",
     "text": [
      "Validating....\n"
     ]
    },
    {
     "name": "stderr",
     "output_type": "stream",
     "text": [
      "100%|██████████| 3/3 [00:01<00:00,  2.87it/s]\n"
     ]
    },
    {
     "name": "stdout",
     "output_type": "stream",
     "text": [
      "Training loss: 1.279\tTraining Accuracy: 43.05\n",
      "Validation loss: 1.519\tValidation Accuracy: 41.25\n",
      "Latest model saved as ./resnet18_outputs/latest.pth\n",
      "\n",
      "[INFO]: Epoch 98/300\n",
      "Training....\n"
     ]
    },
    {
     "name": "stderr",
     "output_type": "stream",
     "text": [
      "100%|██████████| 23/23 [00:32<00:00,  1.43s/it]\n"
     ]
    },
    {
     "name": "stdout",
     "output_type": "stream",
     "text": [
      "Validating....\n"
     ]
    },
    {
     "name": "stderr",
     "output_type": "stream",
     "text": [
      "100%|██████████| 3/3 [00:01<00:00,  2.86it/s]\n"
     ]
    },
    {
     "name": "stdout",
     "output_type": "stream",
     "text": [
      "Training loss: 1.308\tTraining Accuracy: 41.37\n",
      "Validation loss: 1.620\tValidation Accuracy: 39.24\n",
      "Latest model saved as ./resnet18_outputs/latest.pth\n",
      "\n",
      "[INFO]: Epoch 99/300\n",
      "Training....\n"
     ]
    },
    {
     "name": "stderr",
     "output_type": "stream",
     "text": [
      "100%|██████████| 23/23 [00:35<00:00,  1.54s/it]\n"
     ]
    },
    {
     "name": "stdout",
     "output_type": "stream",
     "text": [
      "Validating....\n"
     ]
    },
    {
     "name": "stderr",
     "output_type": "stream",
     "text": [
      "100%|██████████| 3/3 [00:01<00:00,  2.87it/s]\n"
     ]
    },
    {
     "name": "stdout",
     "output_type": "stream",
     "text": [
      "Training loss: 1.281\tTraining Accuracy: 42.78\n",
      "Validation loss: 1.666\tValidation Accuracy: 34.44\n",
      "Latest model saved as ./resnet18_outputs/latest.pth\n",
      "\n",
      "[INFO]: Epoch 100/300\n",
      "Training....\n"
     ]
    },
    {
     "name": "stderr",
     "output_type": "stream",
     "text": [
      "100%|██████████| 23/23 [00:42<00:00,  1.83s/it]\n"
     ]
    },
    {
     "name": "stdout",
     "output_type": "stream",
     "text": [
      "Validating....\n"
     ]
    },
    {
     "name": "stderr",
     "output_type": "stream",
     "text": [
      "100%|██████████| 3/3 [00:01<00:00,  2.53it/s]\n"
     ]
    },
    {
     "name": "stdout",
     "output_type": "stream",
     "text": [
      "Training loss: 1.296\tTraining Accuracy: 41.97\n",
      "Validation loss: 1.539\tValidation Accuracy: 40.14\n",
      "Latest model saved as ./resnet18_outputs/latest.pth\n",
      "\n",
      "[INFO]: Epoch 101/300\n",
      "Training....\n"
     ]
    },
    {
     "name": "stderr",
     "output_type": "stream",
     "text": [
      "100%|██████████| 23/23 [00:35<00:00,  1.54s/it]\n"
     ]
    },
    {
     "name": "stdout",
     "output_type": "stream",
     "text": [
      "Validating....\n"
     ]
    },
    {
     "name": "stderr",
     "output_type": "stream",
     "text": [
      "100%|██████████| 3/3 [00:01<00:00,  2.48it/s]\n"
     ]
    },
    {
     "name": "stdout",
     "output_type": "stream",
     "text": [
      "Training loss: 1.286\tTraining Accuracy: 43.25\n",
      "Validation loss: 1.743\tValidation Accuracy: 38.68\n",
      "Latest model saved as ./resnet18_outputs/latest.pth\n",
      "\n",
      "[INFO]: Epoch 102/300\n",
      "Training....\n"
     ]
    },
    {
     "name": "stderr",
     "output_type": "stream",
     "text": [
      "100%|██████████| 23/23 [00:42<00:00,  1.86s/it]\n"
     ]
    },
    {
     "name": "stdout",
     "output_type": "stream",
     "text": [
      "Validating....\n"
     ]
    },
    {
     "name": "stderr",
     "output_type": "stream",
     "text": [
      "100%|██████████| 3/3 [00:01<00:00,  2.85it/s]\n"
     ]
    },
    {
     "name": "stdout",
     "output_type": "stream",
     "text": [
      "Training loss: 1.295\tTraining Accuracy: 42.07\n",
      "Validation loss: 1.737\tValidation Accuracy: 35.62\n",
      "Latest model saved as ./resnet18_outputs/latest.pth\n",
      "\n",
      "[INFO]: Epoch 103/300\n",
      "Training....\n"
     ]
    },
    {
     "name": "stderr",
     "output_type": "stream",
     "text": [
      "100%|██████████| 23/23 [00:35<00:00,  1.54s/it]\n"
     ]
    },
    {
     "name": "stdout",
     "output_type": "stream",
     "text": [
      "Validating....\n"
     ]
    },
    {
     "name": "stderr",
     "output_type": "stream",
     "text": [
      "100%|██████████| 3/3 [00:01<00:00,  2.96it/s]\n"
     ]
    },
    {
     "name": "stdout",
     "output_type": "stream",
     "text": [
      "Training loss: 1.221\tTraining Accuracy: 44.28\n",
      "Validation loss: 1.372\tValidation Accuracy: 43.89\n",
      "Best model saved as ./resnet18_outputs/best.pth\n",
      "Latest model saved as ./resnet18_outputs/latest.pth\n",
      "\n",
      "[INFO]: Epoch 104/300\n",
      "Training....\n"
     ]
    },
    {
     "name": "stderr",
     "output_type": "stream",
     "text": [
      "100%|██████████| 23/23 [00:37<00:00,  1.61s/it]\n"
     ]
    },
    {
     "name": "stdout",
     "output_type": "stream",
     "text": [
      "Validating....\n"
     ]
    },
    {
     "name": "stderr",
     "output_type": "stream",
     "text": [
      "100%|██████████| 3/3 [00:01<00:00,  2.55it/s]\n"
     ]
    },
    {
     "name": "stdout",
     "output_type": "stream",
     "text": [
      "Training loss: 1.239\tTraining Accuracy: 43.86\n",
      "Validation loss: 2.070\tValidation Accuracy: 38.12\n",
      "Latest model saved as ./resnet18_outputs/latest.pth\n",
      "\n",
      "[INFO]: Epoch 105/300\n",
      "Training....\n"
     ]
    },
    {
     "name": "stderr",
     "output_type": "stream",
     "text": [
      "100%|██████████| 23/23 [00:34<00:00,  1.52s/it]\n"
     ]
    },
    {
     "name": "stdout",
     "output_type": "stream",
     "text": [
      "Validating....\n"
     ]
    },
    {
     "name": "stderr",
     "output_type": "stream",
     "text": [
      "100%|██████████| 3/3 [00:01<00:00,  2.87it/s]\n"
     ]
    },
    {
     "name": "stdout",
     "output_type": "stream",
     "text": [
      "Training loss: 1.288\tTraining Accuracy: 42.54\n",
      "Validation loss: 1.524\tValidation Accuracy: 40.56\n",
      "Latest model saved as ./resnet18_outputs/latest.pth\n",
      "\n",
      "[INFO]: Epoch 106/300\n",
      "Training....\n"
     ]
    },
    {
     "name": "stderr",
     "output_type": "stream",
     "text": [
      "100%|██████████| 23/23 [00:35<00:00,  1.54s/it]\n"
     ]
    },
    {
     "name": "stdout",
     "output_type": "stream",
     "text": [
      "Validating....\n"
     ]
    },
    {
     "name": "stderr",
     "output_type": "stream",
     "text": [
      "100%|██████████| 3/3 [00:01<00:00,  2.84it/s]\n"
     ]
    },
    {
     "name": "stdout",
     "output_type": "stream",
     "text": [
      "Training loss: 1.218\tTraining Accuracy: 45.68\n",
      "Validation loss: 1.504\tValidation Accuracy: 41.74\n",
      "Latest model saved as ./resnet18_outputs/latest.pth\n",
      "\n",
      "[INFO]: Epoch 107/300\n",
      "Training....\n"
     ]
    },
    {
     "name": "stderr",
     "output_type": "stream",
     "text": [
      "100%|██████████| 23/23 [00:38<00:00,  1.69s/it]\n"
     ]
    },
    {
     "name": "stdout",
     "output_type": "stream",
     "text": [
      "Validating....\n"
     ]
    },
    {
     "name": "stderr",
     "output_type": "stream",
     "text": [
      "100%|██████████| 3/3 [00:01<00:00,  2.89it/s]\n"
     ]
    },
    {
     "name": "stdout",
     "output_type": "stream",
     "text": [
      "Training loss: 1.195\tTraining Accuracy: 45.83\n",
      "Validation loss: 1.799\tValidation Accuracy: 38.26\n",
      "Latest model saved as ./resnet18_outputs/latest.pth\n",
      "\n",
      "[INFO]: Epoch 108/300\n",
      "Training....\n"
     ]
    },
    {
     "name": "stderr",
     "output_type": "stream",
     "text": [
      "100%|██████████| 23/23 [00:38<00:00,  1.69s/it]\n"
     ]
    },
    {
     "name": "stdout",
     "output_type": "stream",
     "text": [
      "Validating....\n"
     ]
    },
    {
     "name": "stderr",
     "output_type": "stream",
     "text": [
      "100%|██████████| 3/3 [00:01<00:00,  2.85it/s]\n"
     ]
    },
    {
     "name": "stdout",
     "output_type": "stream",
     "text": [
      "Training loss: 1.193\tTraining Accuracy: 46.64\n",
      "Validation loss: 1.823\tValidation Accuracy: 34.79\n",
      "Latest model saved as ./resnet18_outputs/latest.pth\n",
      "\n",
      "[INFO]: Epoch 109/300\n",
      "Training....\n"
     ]
    },
    {
     "name": "stderr",
     "output_type": "stream",
     "text": [
      "100%|██████████| 23/23 [00:37<00:00,  1.65s/it]\n"
     ]
    },
    {
     "name": "stdout",
     "output_type": "stream",
     "text": [
      "Validating....\n"
     ]
    },
    {
     "name": "stderr",
     "output_type": "stream",
     "text": [
      "100%|██████████| 3/3 [00:01<00:00,  2.91it/s]\n"
     ]
    },
    {
     "name": "stdout",
     "output_type": "stream",
     "text": [
      "Training loss: 1.264\tTraining Accuracy: 43.54\n",
      "Validation loss: 1.467\tValidation Accuracy: 44.17\n",
      "Latest model saved as ./resnet18_outputs/latest.pth\n",
      "\n",
      "[INFO]: Epoch 110/300\n",
      "Training....\n"
     ]
    },
    {
     "name": "stderr",
     "output_type": "stream",
     "text": [
      "100%|██████████| 23/23 [00:36<00:00,  1.58s/it]\n"
     ]
    },
    {
     "name": "stdout",
     "output_type": "stream",
     "text": [
      "Validating....\n"
     ]
    },
    {
     "name": "stderr",
     "output_type": "stream",
     "text": [
      "100%|██████████| 3/3 [00:01<00:00,  2.12it/s]\n"
     ]
    },
    {
     "name": "stdout",
     "output_type": "stream",
     "text": [
      "Training loss: 1.203\tTraining Accuracy: 45.75\n",
      "Validation loss: 1.677\tValidation Accuracy: 35.00\n",
      "Latest model saved as ./resnet18_outputs/latest.pth\n",
      "\n",
      "[INFO]: Epoch 111/300\n",
      "Training....\n"
     ]
    },
    {
     "name": "stderr",
     "output_type": "stream",
     "text": [
      "100%|██████████| 23/23 [00:36<00:00,  1.57s/it]\n"
     ]
    },
    {
     "name": "stdout",
     "output_type": "stream",
     "text": [
      "Validating....\n"
     ]
    },
    {
     "name": "stderr",
     "output_type": "stream",
     "text": [
      "100%|██████████| 3/3 [00:01<00:00,  2.79it/s]\n"
     ]
    },
    {
     "name": "stdout",
     "output_type": "stream",
     "text": [
      "Training loss: 1.174\tTraining Accuracy: 46.76\n",
      "Validation loss: 1.812\tValidation Accuracy: 36.67\n",
      "Latest model saved as ./resnet18_outputs/latest.pth\n",
      "\n",
      "[INFO]: Epoch 112/300\n",
      "Training....\n"
     ]
    },
    {
     "name": "stderr",
     "output_type": "stream",
     "text": [
      "100%|██████████| 23/23 [00:37<00:00,  1.61s/it]\n"
     ]
    },
    {
     "name": "stdout",
     "output_type": "stream",
     "text": [
      "Validating....\n"
     ]
    },
    {
     "name": "stderr",
     "output_type": "stream",
     "text": [
      "100%|██████████| 3/3 [00:01<00:00,  2.87it/s]\n"
     ]
    },
    {
     "name": "stdout",
     "output_type": "stream",
     "text": [
      "Training loss: 1.202\tTraining Accuracy: 45.30\n",
      "Validation loss: 1.769\tValidation Accuracy: 34.51\n",
      "Latest model saved as ./resnet18_outputs/latest.pth\n",
      "\n",
      "[INFO]: Epoch 113/300\n",
      "Training....\n"
     ]
    },
    {
     "name": "stderr",
     "output_type": "stream",
     "text": [
      "100%|██████████| 23/23 [00:34<00:00,  1.50s/it]\n"
     ]
    },
    {
     "name": "stdout",
     "output_type": "stream",
     "text": [
      "Validating....\n"
     ]
    },
    {
     "name": "stderr",
     "output_type": "stream",
     "text": [
      "100%|██████████| 3/3 [00:01<00:00,  2.85it/s]\n"
     ]
    },
    {
     "name": "stdout",
     "output_type": "stream",
     "text": [
      "Training loss: 1.153\tTraining Accuracy: 47.01\n",
      "Validation loss: 1.507\tValidation Accuracy: 40.97\n",
      "Latest model saved as ./resnet18_outputs/latest.pth\n",
      "\n",
      "[INFO]: Epoch 114/300\n",
      "Training....\n"
     ]
    },
    {
     "name": "stderr",
     "output_type": "stream",
     "text": [
      "100%|██████████| 23/23 [00:38<00:00,  1.66s/it]\n"
     ]
    },
    {
     "name": "stdout",
     "output_type": "stream",
     "text": [
      "Validating....\n"
     ]
    },
    {
     "name": "stderr",
     "output_type": "stream",
     "text": [
      "100%|██████████| 3/3 [00:01<00:00,  2.87it/s]\n"
     ]
    },
    {
     "name": "stdout",
     "output_type": "stream",
     "text": [
      "Training loss: 1.118\tTraining Accuracy: 48.35\n",
      "Validation loss: 1.458\tValidation Accuracy: 40.90\n",
      "Latest model saved as ./resnet18_outputs/latest.pth\n",
      "\n",
      "[INFO]: Epoch 115/300\n",
      "Training....\n"
     ]
    },
    {
     "name": "stderr",
     "output_type": "stream",
     "text": [
      "100%|██████████| 23/23 [00:35<00:00,  1.55s/it]\n"
     ]
    },
    {
     "name": "stdout",
     "output_type": "stream",
     "text": [
      "Validating....\n"
     ]
    },
    {
     "name": "stderr",
     "output_type": "stream",
     "text": [
      "100%|██████████| 3/3 [00:01<00:00,  2.85it/s]\n"
     ]
    },
    {
     "name": "stdout",
     "output_type": "stream",
     "text": [
      "Training loss: 1.105\tTraining Accuracy: 49.73\n",
      "Validation loss: 1.770\tValidation Accuracy: 37.85\n",
      "Latest model saved as ./resnet18_outputs/latest.pth\n",
      "\n",
      "[INFO]: Epoch 116/300\n",
      "Training....\n"
     ]
    },
    {
     "name": "stderr",
     "output_type": "stream",
     "text": [
      "100%|██████████| 23/23 [00:33<00:00,  1.46s/it]\n"
     ]
    },
    {
     "name": "stdout",
     "output_type": "stream",
     "text": [
      "Validating....\n"
     ]
    },
    {
     "name": "stderr",
     "output_type": "stream",
     "text": [
      "100%|██████████| 3/3 [00:01<00:00,  2.95it/s]\n"
     ]
    },
    {
     "name": "stdout",
     "output_type": "stream",
     "text": [
      "Training loss: 1.115\tTraining Accuracy: 48.15\n",
      "Validation loss: 1.575\tValidation Accuracy: 42.43\n",
      "Latest model saved as ./resnet18_outputs/latest.pth\n",
      "\n",
      "[INFO]: Epoch 117/300\n",
      "Training....\n"
     ]
    },
    {
     "name": "stderr",
     "output_type": "stream",
     "text": [
      "100%|██████████| 23/23 [00:38<00:00,  1.67s/it]\n"
     ]
    },
    {
     "name": "stdout",
     "output_type": "stream",
     "text": [
      "Validating....\n"
     ]
    },
    {
     "name": "stderr",
     "output_type": "stream",
     "text": [
      "100%|██████████| 3/3 [00:01<00:00,  2.88it/s]\n"
     ]
    },
    {
     "name": "stdout",
     "output_type": "stream",
     "text": [
      "Training loss: 1.071\tTraining Accuracy: 50.19\n",
      "Validation loss: 1.654\tValidation Accuracy: 35.83\n",
      "Latest model saved as ./resnet18_outputs/latest.pth\n",
      "\n",
      "[INFO]: Epoch 118/300\n",
      "Training....\n"
     ]
    },
    {
     "name": "stderr",
     "output_type": "stream",
     "text": [
      "100%|██████████| 23/23 [00:36<00:00,  1.61s/it]\n"
     ]
    },
    {
     "name": "stdout",
     "output_type": "stream",
     "text": [
      "Validating....\n"
     ]
    },
    {
     "name": "stderr",
     "output_type": "stream",
     "text": [
      "100%|██████████| 3/3 [00:01<00:00,  2.83it/s]\n"
     ]
    },
    {
     "name": "stdout",
     "output_type": "stream",
     "text": [
      "Training loss: 1.124\tTraining Accuracy: 48.63\n",
      "Validation loss: 1.441\tValidation Accuracy: 46.60\n",
      "Latest model saved as ./resnet18_outputs/latest.pth\n",
      "\n",
      "[INFO]: Epoch 119/300\n",
      "Training....\n"
     ]
    },
    {
     "name": "stderr",
     "output_type": "stream",
     "text": [
      "100%|██████████| 23/23 [00:37<00:00,  1.63s/it]\n"
     ]
    },
    {
     "name": "stdout",
     "output_type": "stream",
     "text": [
      "Validating....\n"
     ]
    },
    {
     "name": "stderr",
     "output_type": "stream",
     "text": [
      "100%|██████████| 3/3 [00:01<00:00,  2.88it/s]\n"
     ]
    },
    {
     "name": "stdout",
     "output_type": "stream",
     "text": [
      "Training loss: 1.123\tTraining Accuracy: 49.04\n",
      "Validation loss: 1.627\tValidation Accuracy: 41.88\n",
      "Latest model saved as ./resnet18_outputs/latest.pth\n",
      "\n",
      "[INFO]: Epoch 120/300\n",
      "Training....\n"
     ]
    },
    {
     "name": "stderr",
     "output_type": "stream",
     "text": [
      "100%|██████████| 23/23 [00:30<00:00,  1.34s/it]\n"
     ]
    },
    {
     "name": "stdout",
     "output_type": "stream",
     "text": [
      "Validating....\n"
     ]
    },
    {
     "name": "stderr",
     "output_type": "stream",
     "text": [
      "100%|██████████| 3/3 [00:01<00:00,  2.08it/s]\n"
     ]
    },
    {
     "name": "stdout",
     "output_type": "stream",
     "text": [
      "Training loss: 1.081\tTraining Accuracy: 50.71\n",
      "Validation loss: 1.714\tValidation Accuracy: 37.78\n",
      "Latest model saved as ./resnet18_outputs/latest.pth\n",
      "\n",
      "[INFO]: Epoch 121/300\n",
      "Training....\n"
     ]
    },
    {
     "name": "stderr",
     "output_type": "stream",
     "text": [
      "100%|██████████| 23/23 [00:35<00:00,  1.55s/it]\n"
     ]
    },
    {
     "name": "stdout",
     "output_type": "stream",
     "text": [
      "Validating....\n"
     ]
    },
    {
     "name": "stderr",
     "output_type": "stream",
     "text": [
      "100%|██████████| 3/3 [00:01<00:00,  2.52it/s]\n"
     ]
    },
    {
     "name": "stdout",
     "output_type": "stream",
     "text": [
      "Training loss: 1.035\tTraining Accuracy: 52.22\n",
      "Validation loss: 1.370\tValidation Accuracy: 42.29\n",
      "Best model saved as ./resnet18_outputs/best.pth\n",
      "Latest model saved as ./resnet18_outputs/latest.pth\n",
      "\n",
      "[INFO]: Epoch 122/300\n",
      "Training....\n"
     ]
    },
    {
     "name": "stderr",
     "output_type": "stream",
     "text": [
      "100%|██████████| 23/23 [00:38<00:00,  1.69s/it]\n"
     ]
    },
    {
     "name": "stdout",
     "output_type": "stream",
     "text": [
      "Validating....\n"
     ]
    },
    {
     "name": "stderr",
     "output_type": "stream",
     "text": [
      "100%|██████████| 3/3 [00:01<00:00,  2.04it/s]\n"
     ]
    },
    {
     "name": "stdout",
     "output_type": "stream",
     "text": [
      "Training loss: 0.994\tTraining Accuracy: 54.20\n",
      "Validation loss: 1.825\tValidation Accuracy: 35.56\n",
      "Latest model saved as ./resnet18_outputs/latest.pth\n",
      "\n",
      "[INFO]: Epoch 123/300\n",
      "Training....\n"
     ]
    },
    {
     "name": "stderr",
     "output_type": "stream",
     "text": [
      "100%|██████████| 23/23 [00:42<00:00,  1.83s/it]\n"
     ]
    },
    {
     "name": "stdout",
     "output_type": "stream",
     "text": [
      "Validating....\n"
     ]
    },
    {
     "name": "stderr",
     "output_type": "stream",
     "text": [
      "100%|██████████| 3/3 [00:01<00:00,  2.10it/s]\n"
     ]
    },
    {
     "name": "stdout",
     "output_type": "stream",
     "text": [
      "Training loss: 1.021\tTraining Accuracy: 52.85\n",
      "Validation loss: 1.743\tValidation Accuracy: 37.57\n",
      "Latest model saved as ./resnet18_outputs/latest.pth\n",
      "\n",
      "[INFO]: Epoch 124/300\n",
      "Training....\n"
     ]
    },
    {
     "name": "stderr",
     "output_type": "stream",
     "text": [
      "100%|██████████| 23/23 [00:37<00:00,  1.62s/it]\n"
     ]
    },
    {
     "name": "stdout",
     "output_type": "stream",
     "text": [
      "Validating....\n"
     ]
    },
    {
     "name": "stderr",
     "output_type": "stream",
     "text": [
      "100%|██████████| 3/3 [00:01<00:00,  2.85it/s]\n"
     ]
    },
    {
     "name": "stdout",
     "output_type": "stream",
     "text": [
      "Training loss: 1.032\tTraining Accuracy: 53.03\n",
      "Validation loss: 1.970\tValidation Accuracy: 33.19\n",
      "Latest model saved as ./resnet18_outputs/latest.pth\n",
      "\n",
      "[INFO]: Epoch 125/300\n",
      "Training....\n"
     ]
    },
    {
     "name": "stderr",
     "output_type": "stream",
     "text": [
      "100%|██████████| 23/23 [00:34<00:00,  1.49s/it]\n"
     ]
    },
    {
     "name": "stdout",
     "output_type": "stream",
     "text": [
      "Validating....\n"
     ]
    },
    {
     "name": "stderr",
     "output_type": "stream",
     "text": [
      "100%|██████████| 3/3 [00:01<00:00,  2.91it/s]\n"
     ]
    },
    {
     "name": "stdout",
     "output_type": "stream",
     "text": [
      "Training loss: 0.951\tTraining Accuracy: 55.49\n",
      "Validation loss: 1.547\tValidation Accuracy: 45.76\n",
      "Latest model saved as ./resnet18_outputs/latest.pth\n",
      "\n",
      "[INFO]: Epoch 126/300\n",
      "Training....\n"
     ]
    },
    {
     "name": "stderr",
     "output_type": "stream",
     "text": [
      "100%|██████████| 23/23 [00:33<00:00,  1.45s/it]\n"
     ]
    },
    {
     "name": "stdout",
     "output_type": "stream",
     "text": [
      "Validating....\n"
     ]
    },
    {
     "name": "stderr",
     "output_type": "stream",
     "text": [
      "100%|██████████| 3/3 [00:01<00:00,  2.85it/s]\n"
     ]
    },
    {
     "name": "stdout",
     "output_type": "stream",
     "text": [
      "Training loss: 0.953\tTraining Accuracy: 56.02\n",
      "Validation loss: 1.380\tValidation Accuracy: 44.51\n",
      "Latest model saved as ./resnet18_outputs/latest.pth\n",
      "\n",
      "[INFO]: Epoch 127/300\n",
      "Training....\n"
     ]
    },
    {
     "name": "stderr",
     "output_type": "stream",
     "text": [
      "100%|██████████| 23/23 [00:33<00:00,  1.45s/it]\n"
     ]
    },
    {
     "name": "stdout",
     "output_type": "stream",
     "text": [
      "Validating....\n"
     ]
    },
    {
     "name": "stderr",
     "output_type": "stream",
     "text": [
      "100%|██████████| 3/3 [00:01<00:00,  2.89it/s]\n"
     ]
    },
    {
     "name": "stdout",
     "output_type": "stream",
     "text": [
      "Training loss: 0.933\tTraining Accuracy: 57.07\n",
      "Validation loss: 3.980\tValidation Accuracy: 17.22\n",
      "Latest model saved as ./resnet18_outputs/latest.pth\n",
      "\n",
      "[INFO]: Epoch 128/300\n",
      "Training....\n"
     ]
    },
    {
     "name": "stderr",
     "output_type": "stream",
     "text": [
      "100%|██████████| 23/23 [00:36<00:00,  1.57s/it]\n"
     ]
    },
    {
     "name": "stdout",
     "output_type": "stream",
     "text": [
      "Validating....\n"
     ]
    },
    {
     "name": "stderr",
     "output_type": "stream",
     "text": [
      "100%|██████████| 3/3 [00:01<00:00,  2.83it/s]\n"
     ]
    },
    {
     "name": "stdout",
     "output_type": "stream",
     "text": [
      "Training loss: 0.927\tTraining Accuracy: 57.34\n",
      "Validation loss: 1.333\tValidation Accuracy: 47.85\n",
      "Best model saved as ./resnet18_outputs/best.pth\n",
      "Latest model saved as ./resnet18_outputs/latest.pth\n",
      "\n",
      "[INFO]: Epoch 129/300\n",
      "Training....\n"
     ]
    },
    {
     "name": "stderr",
     "output_type": "stream",
     "text": [
      "100%|██████████| 23/23 [00:33<00:00,  1.47s/it]\n"
     ]
    },
    {
     "name": "stdout",
     "output_type": "stream",
     "text": [
      "Validating....\n"
     ]
    },
    {
     "name": "stderr",
     "output_type": "stream",
     "text": [
      "100%|██████████| 3/3 [00:01<00:00,  2.23it/s]\n"
     ]
    },
    {
     "name": "stdout",
     "output_type": "stream",
     "text": [
      "Training loss: 0.930\tTraining Accuracy: 56.93\n",
      "Validation loss: 2.485\tValidation Accuracy: 31.94\n",
      "Latest model saved as ./resnet18_outputs/latest.pth\n",
      "\n",
      "[INFO]: Epoch 130/300\n",
      "Training....\n"
     ]
    },
    {
     "name": "stderr",
     "output_type": "stream",
     "text": [
      "100%|██████████| 23/23 [00:43<00:00,  1.89s/it]\n"
     ]
    },
    {
     "name": "stdout",
     "output_type": "stream",
     "text": [
      "Validating....\n"
     ]
    },
    {
     "name": "stderr",
     "output_type": "stream",
     "text": [
      "100%|██████████| 3/3 [00:01<00:00,  2.08it/s]\n"
     ]
    },
    {
     "name": "stdout",
     "output_type": "stream",
     "text": [
      "Training loss: 0.937\tTraining Accuracy: 57.43\n",
      "Validation loss: 1.508\tValidation Accuracy: 44.03\n",
      "Latest model saved as ./resnet18_outputs/latest.pth\n",
      "\n",
      "[INFO]: Epoch 131/300\n",
      "Training....\n"
     ]
    },
    {
     "name": "stderr",
     "output_type": "stream",
     "text": [
      "100%|██████████| 23/23 [00:35<00:00,  1.54s/it]\n"
     ]
    },
    {
     "name": "stdout",
     "output_type": "stream",
     "text": [
      "Validating....\n"
     ]
    },
    {
     "name": "stderr",
     "output_type": "stream",
     "text": [
      "100%|██████████| 3/3 [00:01<00:00,  2.92it/s]\n"
     ]
    },
    {
     "name": "stdout",
     "output_type": "stream",
     "text": [
      "Training loss: 0.940\tTraining Accuracy: 57.13\n",
      "Validation loss: 1.824\tValidation Accuracy: 44.03\n",
      "Latest model saved as ./resnet18_outputs/latest.pth\n",
      "\n",
      "[INFO]: Epoch 132/300\n",
      "Training....\n"
     ]
    },
    {
     "name": "stderr",
     "output_type": "stream",
     "text": [
      "100%|██████████| 23/23 [00:35<00:00,  1.56s/it]\n"
     ]
    },
    {
     "name": "stdout",
     "output_type": "stream",
     "text": [
      "Validating....\n"
     ]
    },
    {
     "name": "stderr",
     "output_type": "stream",
     "text": [
      "100%|██████████| 3/3 [00:00<00:00,  3.01it/s]\n"
     ]
    },
    {
     "name": "stdout",
     "output_type": "stream",
     "text": [
      "Training loss: 0.915\tTraining Accuracy: 58.39\n",
      "Validation loss: 1.319\tValidation Accuracy: 48.96\n",
      "Best model saved as ./resnet18_outputs/best.pth\n",
      "Latest model saved as ./resnet18_outputs/latest.pth\n",
      "\n",
      "[INFO]: Epoch 133/300\n",
      "Training....\n"
     ]
    },
    {
     "name": "stderr",
     "output_type": "stream",
     "text": [
      "100%|██████████| 23/23 [00:38<00:00,  1.66s/it]\n"
     ]
    },
    {
     "name": "stdout",
     "output_type": "stream",
     "text": [
      "Validating....\n"
     ]
    },
    {
     "name": "stderr",
     "output_type": "stream",
     "text": [
      "100%|██████████| 3/3 [00:01<00:00,  2.85it/s]\n"
     ]
    },
    {
     "name": "stdout",
     "output_type": "stream",
     "text": [
      "Training loss: 0.873\tTraining Accuracy: 60.48\n",
      "Validation loss: 1.548\tValidation Accuracy: 41.53\n",
      "Latest model saved as ./resnet18_outputs/latest.pth\n",
      "\n",
      "[INFO]: Epoch 134/300\n",
      "Training....\n"
     ]
    },
    {
     "name": "stderr",
     "output_type": "stream",
     "text": [
      "100%|██████████| 23/23 [00:37<00:00,  1.62s/it]\n"
     ]
    },
    {
     "name": "stdout",
     "output_type": "stream",
     "text": [
      "Validating....\n"
     ]
    },
    {
     "name": "stderr",
     "output_type": "stream",
     "text": [
      "100%|██████████| 3/3 [00:01<00:00,  2.36it/s]\n"
     ]
    },
    {
     "name": "stdout",
     "output_type": "stream",
     "text": [
      "Training loss: 0.861\tTraining Accuracy: 61.63\n",
      "Validation loss: 1.279\tValidation Accuracy: 53.68\n",
      "Best model saved as ./resnet18_outputs/best.pth\n",
      "Latest model saved as ./resnet18_outputs/latest.pth\n",
      "\n",
      "[INFO]: Epoch 135/300\n",
      "Training....\n"
     ]
    },
    {
     "name": "stderr",
     "output_type": "stream",
     "text": [
      "100%|██████████| 23/23 [00:35<00:00,  1.55s/it]\n"
     ]
    },
    {
     "name": "stdout",
     "output_type": "stream",
     "text": [
      "Validating....\n"
     ]
    },
    {
     "name": "stderr",
     "output_type": "stream",
     "text": [
      "100%|██████████| 3/3 [00:01<00:00,  2.92it/s]\n"
     ]
    },
    {
     "name": "stdout",
     "output_type": "stream",
     "text": [
      "Training loss: 0.912\tTraining Accuracy: 59.68\n",
      "Validation loss: 1.473\tValidation Accuracy: 46.88\n",
      "Latest model saved as ./resnet18_outputs/latest.pth\n",
      "\n",
      "[INFO]: Epoch 136/300\n",
      "Training....\n"
     ]
    },
    {
     "name": "stderr",
     "output_type": "stream",
     "text": [
      "100%|██████████| 23/23 [00:34<00:00,  1.51s/it]\n"
     ]
    },
    {
     "name": "stdout",
     "output_type": "stream",
     "text": [
      "Validating....\n"
     ]
    },
    {
     "name": "stderr",
     "output_type": "stream",
     "text": [
      "100%|██████████| 3/3 [00:01<00:00,  2.88it/s]\n"
     ]
    },
    {
     "name": "stdout",
     "output_type": "stream",
     "text": [
      "Training loss: 0.847\tTraining Accuracy: 62.25\n",
      "Validation loss: 3.236\tValidation Accuracy: 24.65\n",
      "Latest model saved as ./resnet18_outputs/latest.pth\n",
      "\n",
      "[INFO]: Epoch 137/300\n",
      "Training....\n"
     ]
    },
    {
     "name": "stderr",
     "output_type": "stream",
     "text": [
      "100%|██████████| 23/23 [00:34<00:00,  1.50s/it]\n"
     ]
    },
    {
     "name": "stdout",
     "output_type": "stream",
     "text": [
      "Validating....\n"
     ]
    },
    {
     "name": "stderr",
     "output_type": "stream",
     "text": [
      "100%|██████████| 3/3 [00:01<00:00,  2.88it/s]\n"
     ]
    },
    {
     "name": "stdout",
     "output_type": "stream",
     "text": [
      "Training loss: 0.805\tTraining Accuracy: 64.48\n",
      "Validation loss: 1.735\tValidation Accuracy: 40.56\n",
      "Latest model saved as ./resnet18_outputs/latest.pth\n",
      "\n",
      "[INFO]: Epoch 138/300\n",
      "Training....\n"
     ]
    },
    {
     "name": "stderr",
     "output_type": "stream",
     "text": [
      "100%|██████████| 23/23 [00:42<00:00,  1.87s/it]\n"
     ]
    },
    {
     "name": "stdout",
     "output_type": "stream",
     "text": [
      "Validating....\n"
     ]
    },
    {
     "name": "stderr",
     "output_type": "stream",
     "text": [
      "100%|██████████| 3/3 [00:01<00:00,  2.22it/s]\n"
     ]
    },
    {
     "name": "stdout",
     "output_type": "stream",
     "text": [
      "Training loss: 0.821\tTraining Accuracy: 63.86\n",
      "Validation loss: 2.095\tValidation Accuracy: 36.39\n",
      "Latest model saved as ./resnet18_outputs/latest.pth\n",
      "\n",
      "[INFO]: Epoch 139/300\n",
      "Training....\n"
     ]
    },
    {
     "name": "stderr",
     "output_type": "stream",
     "text": [
      "100%|██████████| 23/23 [00:40<00:00,  1.75s/it]\n"
     ]
    },
    {
     "name": "stdout",
     "output_type": "stream",
     "text": [
      "Validating....\n"
     ]
    },
    {
     "name": "stderr",
     "output_type": "stream",
     "text": [
      "100%|██████████| 3/3 [00:01<00:00,  2.08it/s]\n"
     ]
    },
    {
     "name": "stdout",
     "output_type": "stream",
     "text": [
      "Training loss: 0.790\tTraining Accuracy: 65.14\n",
      "Validation loss: 1.634\tValidation Accuracy: 47.92\n",
      "Latest model saved as ./resnet18_outputs/latest.pth\n",
      "\n",
      "[INFO]: Epoch 140/300\n",
      "Training....\n"
     ]
    },
    {
     "name": "stderr",
     "output_type": "stream",
     "text": [
      "100%|██████████| 23/23 [00:40<00:00,  1.76s/it]\n"
     ]
    },
    {
     "name": "stdout",
     "output_type": "stream",
     "text": [
      "Validating....\n"
     ]
    },
    {
     "name": "stderr",
     "output_type": "stream",
     "text": [
      "100%|██████████| 3/3 [00:01<00:00,  2.82it/s]\n"
     ]
    },
    {
     "name": "stdout",
     "output_type": "stream",
     "text": [
      "Training loss: 0.834\tTraining Accuracy: 63.31\n",
      "Validation loss: 1.774\tValidation Accuracy: 42.15\n",
      "Latest model saved as ./resnet18_outputs/latest.pth\n",
      "\n",
      "[INFO]: Epoch 141/300\n",
      "Training....\n"
     ]
    },
    {
     "name": "stderr",
     "output_type": "stream",
     "text": [
      "100%|██████████| 23/23 [00:37<00:00,  1.65s/it]\n"
     ]
    },
    {
     "name": "stdout",
     "output_type": "stream",
     "text": [
      "Validating....\n"
     ]
    },
    {
     "name": "stderr",
     "output_type": "stream",
     "text": [
      "100%|██████████| 3/3 [00:01<00:00,  2.33it/s]\n"
     ]
    },
    {
     "name": "stdout",
     "output_type": "stream",
     "text": [
      "Training loss: 0.792\tTraining Accuracy: 65.23\n",
      "Validation loss: 1.699\tValidation Accuracy: 46.04\n",
      "Latest model saved as ./resnet18_outputs/latest.pth\n",
      "\n",
      "[INFO]: Epoch 142/300\n",
      "Training....\n"
     ]
    },
    {
     "name": "stderr",
     "output_type": "stream",
     "text": [
      "100%|██████████| 23/23 [00:32<00:00,  1.43s/it]\n"
     ]
    },
    {
     "name": "stdout",
     "output_type": "stream",
     "text": [
      "Validating....\n"
     ]
    },
    {
     "name": "stderr",
     "output_type": "stream",
     "text": [
      "100%|██████████| 3/3 [00:01<00:00,  2.86it/s]\n"
     ]
    },
    {
     "name": "stdout",
     "output_type": "stream",
     "text": [
      "Training loss: 0.736\tTraining Accuracy: 68.02\n",
      "Validation loss: 1.464\tValidation Accuracy: 50.56\n",
      "Latest model saved as ./resnet18_outputs/latest.pth\n",
      "\n",
      "[INFO]: Epoch 143/300\n",
      "Training....\n"
     ]
    },
    {
     "name": "stderr",
     "output_type": "stream",
     "text": [
      "100%|██████████| 23/23 [00:45<00:00,  1.99s/it]\n"
     ]
    },
    {
     "name": "stdout",
     "output_type": "stream",
     "text": [
      "Validating....\n"
     ]
    },
    {
     "name": "stderr",
     "output_type": "stream",
     "text": [
      "100%|██████████| 3/3 [00:01<00:00,  2.92it/s]\n"
     ]
    },
    {
     "name": "stdout",
     "output_type": "stream",
     "text": [
      "Training loss: 0.724\tTraining Accuracy: 68.90\n",
      "Validation loss: 1.999\tValidation Accuracy: 38.26\n",
      "Latest model saved as ./resnet18_outputs/latest.pth\n",
      "\n",
      "[INFO]: Epoch 144/300\n",
      "Training....\n"
     ]
    },
    {
     "name": "stderr",
     "output_type": "stream",
     "text": [
      "100%|██████████| 23/23 [00:34<00:00,  1.49s/it]\n"
     ]
    },
    {
     "name": "stdout",
     "output_type": "stream",
     "text": [
      "Validating....\n"
     ]
    },
    {
     "name": "stderr",
     "output_type": "stream",
     "text": [
      "100%|██████████| 3/3 [00:01<00:00,  2.53it/s]\n"
     ]
    },
    {
     "name": "stdout",
     "output_type": "stream",
     "text": [
      "Training loss: 0.719\tTraining Accuracy: 68.69\n",
      "Validation loss: 2.252\tValidation Accuracy: 34.03\n",
      "Latest model saved as ./resnet18_outputs/latest.pth\n",
      "\n",
      "[INFO]: Epoch 145/300\n",
      "Training....\n"
     ]
    },
    {
     "name": "stderr",
     "output_type": "stream",
     "text": [
      "100%|██████████| 23/23 [00:33<00:00,  1.46s/it]\n"
     ]
    },
    {
     "name": "stdout",
     "output_type": "stream",
     "text": [
      "Validating....\n"
     ]
    },
    {
     "name": "stderr",
     "output_type": "stream",
     "text": [
      "100%|██████████| 3/3 [00:01<00:00,  2.97it/s]\n"
     ]
    },
    {
     "name": "stdout",
     "output_type": "stream",
     "text": [
      "Training loss: 0.773\tTraining Accuracy: 67.49\n",
      "Validation loss: 3.433\tValidation Accuracy: 26.04\n",
      "Latest model saved as ./resnet18_outputs/latest.pth\n",
      "\n",
      "[INFO]: Epoch 146/300\n",
      "Training....\n"
     ]
    },
    {
     "name": "stderr",
     "output_type": "stream",
     "text": [
      "100%|██████████| 23/23 [00:32<00:00,  1.43s/it]\n"
     ]
    },
    {
     "name": "stdout",
     "output_type": "stream",
     "text": [
      "Validating....\n"
     ]
    },
    {
     "name": "stderr",
     "output_type": "stream",
     "text": [
      "100%|██████████| 3/3 [00:01<00:00,  2.28it/s]\n"
     ]
    },
    {
     "name": "stdout",
     "output_type": "stream",
     "text": [
      "Training loss: 0.744\tTraining Accuracy: 68.42\n",
      "Validation loss: 1.572\tValidation Accuracy: 48.26\n",
      "Latest model saved as ./resnet18_outputs/latest.pth\n",
      "\n",
      "[INFO]: Epoch 147/300\n",
      "Training....\n"
     ]
    },
    {
     "name": "stderr",
     "output_type": "stream",
     "text": [
      "100%|██████████| 23/23 [00:37<00:00,  1.62s/it]\n"
     ]
    },
    {
     "name": "stdout",
     "output_type": "stream",
     "text": [
      "Validating....\n"
     ]
    },
    {
     "name": "stderr",
     "output_type": "stream",
     "text": [
      "100%|██████████| 3/3 [00:01<00:00,  2.87it/s]\n"
     ]
    },
    {
     "name": "stdout",
     "output_type": "stream",
     "text": [
      "Training loss: 0.690\tTraining Accuracy: 71.15\n",
      "Validation loss: 1.557\tValidation Accuracy: 52.85\n",
      "Latest model saved as ./resnet18_outputs/latest.pth\n",
      "\n",
      "[INFO]: Epoch 148/300\n",
      "Training....\n"
     ]
    },
    {
     "name": "stderr",
     "output_type": "stream",
     "text": [
      "100%|██████████| 23/23 [00:36<00:00,  1.60s/it]\n"
     ]
    },
    {
     "name": "stdout",
     "output_type": "stream",
     "text": [
      "Validating....\n"
     ]
    },
    {
     "name": "stderr",
     "output_type": "stream",
     "text": [
      "100%|██████████| 3/3 [00:01<00:00,  2.52it/s]\n"
     ]
    },
    {
     "name": "stdout",
     "output_type": "stream",
     "text": [
      "Training loss: 0.690\tTraining Accuracy: 70.91\n",
      "Validation loss: 10.956\tValidation Accuracy: 9.51\n",
      "Latest model saved as ./resnet18_outputs/latest.pth\n",
      "\n",
      "[INFO]: Epoch 149/300\n",
      "Training....\n"
     ]
    },
    {
     "name": "stderr",
     "output_type": "stream",
     "text": [
      "100%|██████████| 23/23 [00:44<00:00,  1.92s/it]\n"
     ]
    },
    {
     "name": "stdout",
     "output_type": "stream",
     "text": [
      "Validating....\n"
     ]
    },
    {
     "name": "stderr",
     "output_type": "stream",
     "text": [
      "100%|██████████| 3/3 [00:01<00:00,  2.81it/s]\n"
     ]
    },
    {
     "name": "stdout",
     "output_type": "stream",
     "text": [
      "Training loss: 0.666\tTraining Accuracy: 72.06\n",
      "Validation loss: 1.478\tValidation Accuracy: 51.88\n",
      "Latest model saved as ./resnet18_outputs/latest.pth\n",
      "\n",
      "[INFO]: Epoch 150/300\n",
      "Training....\n"
     ]
    },
    {
     "name": "stderr",
     "output_type": "stream",
     "text": [
      "100%|██████████| 23/23 [00:37<00:00,  1.63s/it]\n"
     ]
    },
    {
     "name": "stdout",
     "output_type": "stream",
     "text": [
      "Validating....\n"
     ]
    },
    {
     "name": "stderr",
     "output_type": "stream",
     "text": [
      "100%|██████████| 3/3 [00:01<00:00,  2.11it/s]\n"
     ]
    },
    {
     "name": "stdout",
     "output_type": "stream",
     "text": [
      "Training loss: 0.636\tTraining Accuracy: 73.74\n",
      "Validation loss: 1.237\tValidation Accuracy: 58.61\n",
      "Best model saved as ./resnet18_outputs/best.pth\n",
      "Latest model saved as ./resnet18_outputs/latest.pth\n",
      "\n",
      "[INFO]: Epoch 151/300\n",
      "Training....\n"
     ]
    },
    {
     "name": "stderr",
     "output_type": "stream",
     "text": [
      "100%|██████████| 23/23 [00:37<00:00,  1.61s/it]\n"
     ]
    },
    {
     "name": "stdout",
     "output_type": "stream",
     "text": [
      "Validating....\n"
     ]
    },
    {
     "name": "stderr",
     "output_type": "stream",
     "text": [
      "100%|██████████| 3/3 [00:01<00:00,  2.94it/s]\n"
     ]
    },
    {
     "name": "stdout",
     "output_type": "stream",
     "text": [
      "Training loss: 0.626\tTraining Accuracy: 73.98\n",
      "Validation loss: 1.391\tValidation Accuracy: 57.43\n",
      "Latest model saved as ./resnet18_outputs/latest.pth\n",
      "\n",
      "[INFO]: Epoch 152/300\n",
      "Training....\n"
     ]
    },
    {
     "name": "stderr",
     "output_type": "stream",
     "text": [
      "100%|██████████| 23/23 [00:36<00:00,  1.59s/it]\n"
     ]
    },
    {
     "name": "stdout",
     "output_type": "stream",
     "text": [
      "Validating....\n"
     ]
    },
    {
     "name": "stderr",
     "output_type": "stream",
     "text": [
      "100%|██████████| 3/3 [00:01<00:00,  2.64it/s]\n"
     ]
    },
    {
     "name": "stdout",
     "output_type": "stream",
     "text": [
      "Training loss: 0.611\tTraining Accuracy: 74.32\n",
      "Validation loss: 3.628\tValidation Accuracy: 25.62\n",
      "Latest model saved as ./resnet18_outputs/latest.pth\n",
      "\n",
      "[INFO]: Epoch 153/300\n",
      "Training....\n"
     ]
    },
    {
     "name": "stderr",
     "output_type": "stream",
     "text": [
      "100%|██████████| 23/23 [00:36<00:00,  1.59s/it]\n"
     ]
    },
    {
     "name": "stdout",
     "output_type": "stream",
     "text": [
      "Validating....\n"
     ]
    },
    {
     "name": "stderr",
     "output_type": "stream",
     "text": [
      "100%|██████████| 3/3 [00:01<00:00,  2.51it/s]\n"
     ]
    },
    {
     "name": "stdout",
     "output_type": "stream",
     "text": [
      "Training loss: 0.584\tTraining Accuracy: 75.69\n",
      "Validation loss: 1.676\tValidation Accuracy: 51.04\n",
      "Latest model saved as ./resnet18_outputs/latest.pth\n",
      "\n",
      "[INFO]: Epoch 154/300\n",
      "Training....\n"
     ]
    },
    {
     "name": "stderr",
     "output_type": "stream",
     "text": [
      "100%|██████████| 23/23 [00:42<00:00,  1.87s/it]\n"
     ]
    },
    {
     "name": "stdout",
     "output_type": "stream",
     "text": [
      "Validating....\n"
     ]
    },
    {
     "name": "stderr",
     "output_type": "stream",
     "text": [
      "100%|██████████| 3/3 [00:01<00:00,  2.81it/s]\n"
     ]
    },
    {
     "name": "stdout",
     "output_type": "stream",
     "text": [
      "Training loss: 0.574\tTraining Accuracy: 76.11\n",
      "Validation loss: 2.188\tValidation Accuracy: 42.43\n",
      "Latest model saved as ./resnet18_outputs/latest.pth\n",
      "\n",
      "[INFO]: Epoch 155/300\n",
      "Training....\n"
     ]
    },
    {
     "name": "stderr",
     "output_type": "stream",
     "text": [
      "100%|██████████| 23/23 [00:36<00:00,  1.58s/it]\n"
     ]
    },
    {
     "name": "stdout",
     "output_type": "stream",
     "text": [
      "Validating....\n"
     ]
    },
    {
     "name": "stderr",
     "output_type": "stream",
     "text": [
      "100%|██████████| 3/3 [00:01<00:00,  2.85it/s]\n"
     ]
    },
    {
     "name": "stdout",
     "output_type": "stream",
     "text": [
      "Training loss: 0.551\tTraining Accuracy: 77.59\n",
      "Validation loss: 1.337\tValidation Accuracy: 55.76\n",
      "Latest model saved as ./resnet18_outputs/latest.pth\n",
      "\n",
      "[INFO]: Epoch 156/300\n",
      "Training....\n"
     ]
    },
    {
     "name": "stderr",
     "output_type": "stream",
     "text": [
      "100%|██████████| 23/23 [00:34<00:00,  1.52s/it]\n"
     ]
    },
    {
     "name": "stdout",
     "output_type": "stream",
     "text": [
      "Validating....\n"
     ]
    },
    {
     "name": "stderr",
     "output_type": "stream",
     "text": [
      "100%|██████████| 3/3 [00:01<00:00,  2.88it/s]\n"
     ]
    },
    {
     "name": "stdout",
     "output_type": "stream",
     "text": [
      "Training loss: 0.550\tTraining Accuracy: 77.07\n",
      "Validation loss: 0.994\tValidation Accuracy: 64.72\n",
      "Best model saved as ./resnet18_outputs/best.pth\n",
      "Latest model saved as ./resnet18_outputs/latest.pth\n",
      "\n",
      "[INFO]: Epoch 157/300\n",
      "Training....\n"
     ]
    },
    {
     "name": "stderr",
     "output_type": "stream",
     "text": [
      "100%|██████████| 23/23 [00:35<00:00,  1.53s/it]\n"
     ]
    },
    {
     "name": "stdout",
     "output_type": "stream",
     "text": [
      "Validating....\n"
     ]
    },
    {
     "name": "stderr",
     "output_type": "stream",
     "text": [
      "100%|██████████| 3/3 [00:01<00:00,  2.30it/s]\n"
     ]
    },
    {
     "name": "stdout",
     "output_type": "stream",
     "text": [
      "Training loss: 0.526\tTraining Accuracy: 79.13\n",
      "Validation loss: 1.434\tValidation Accuracy: 54.10\n",
      "Latest model saved as ./resnet18_outputs/latest.pth\n",
      "\n",
      "[INFO]: Epoch 158/300\n",
      "Training....\n"
     ]
    },
    {
     "name": "stderr",
     "output_type": "stream",
     "text": [
      "100%|██████████| 23/23 [00:43<00:00,  1.89s/it]\n"
     ]
    },
    {
     "name": "stdout",
     "output_type": "stream",
     "text": [
      "Validating....\n"
     ]
    },
    {
     "name": "stderr",
     "output_type": "stream",
     "text": [
      "100%|██████████| 3/3 [00:01<00:00,  2.87it/s]\n"
     ]
    },
    {
     "name": "stdout",
     "output_type": "stream",
     "text": [
      "Training loss: 0.541\tTraining Accuracy: 78.58\n",
      "Validation loss: 3.319\tValidation Accuracy: 31.18\n",
      "Latest model saved as ./resnet18_outputs/latest.pth\n",
      "\n",
      "[INFO]: Epoch 159/300\n",
      "Training....\n"
     ]
    },
    {
     "name": "stderr",
     "output_type": "stream",
     "text": [
      "100%|██████████| 23/23 [00:33<00:00,  1.44s/it]\n"
     ]
    },
    {
     "name": "stdout",
     "output_type": "stream",
     "text": [
      "Validating....\n"
     ]
    },
    {
     "name": "stderr",
     "output_type": "stream",
     "text": [
      "100%|██████████| 3/3 [00:01<00:00,  2.89it/s]\n"
     ]
    },
    {
     "name": "stdout",
     "output_type": "stream",
     "text": [
      "Training loss: 0.471\tTraining Accuracy: 81.55\n",
      "Validation loss: 1.995\tValidation Accuracy: 41.81\n",
      "Latest model saved as ./resnet18_outputs/latest.pth\n",
      "\n",
      "[INFO]: Epoch 160/300\n",
      "Training....\n"
     ]
    },
    {
     "name": "stderr",
     "output_type": "stream",
     "text": [
      "100%|██████████| 23/23 [00:34<00:00,  1.52s/it]\n"
     ]
    },
    {
     "name": "stdout",
     "output_type": "stream",
     "text": [
      "Validating....\n"
     ]
    },
    {
     "name": "stderr",
     "output_type": "stream",
     "text": [
      "100%|██████████| 3/3 [00:01<00:00,  2.88it/s]\n"
     ]
    },
    {
     "name": "stdout",
     "output_type": "stream",
     "text": [
      "Training loss: 0.479\tTraining Accuracy: 81.28\n",
      "Validation loss: 1.638\tValidation Accuracy: 52.50\n",
      "Latest model saved as ./resnet18_outputs/latest.pth\n",
      "\n",
      "[INFO]: Epoch 161/300\n",
      "Training....\n"
     ]
    },
    {
     "name": "stderr",
     "output_type": "stream",
     "text": [
      "100%|██████████| 23/23 [00:45<00:00,  2.00s/it]\n"
     ]
    },
    {
     "name": "stdout",
     "output_type": "stream",
     "text": [
      "Validating....\n"
     ]
    },
    {
     "name": "stderr",
     "output_type": "stream",
     "text": [
      "100%|██████████| 3/3 [00:01<00:00,  2.52it/s]\n"
     ]
    },
    {
     "name": "stdout",
     "output_type": "stream",
     "text": [
      "Training loss: 0.425\tTraining Accuracy: 83.13\n",
      "Validation loss: 0.945\tValidation Accuracy: 71.11\n",
      "Best model saved as ./resnet18_outputs/best.pth\n",
      "Latest model saved as ./resnet18_outputs/latest.pth\n",
      "\n",
      "[INFO]: Epoch 162/300\n",
      "Training....\n"
     ]
    },
    {
     "name": "stderr",
     "output_type": "stream",
     "text": [
      "100%|██████████| 23/23 [00:36<00:00,  1.58s/it]\n"
     ]
    },
    {
     "name": "stdout",
     "output_type": "stream",
     "text": [
      "Validating....\n"
     ]
    },
    {
     "name": "stderr",
     "output_type": "stream",
     "text": [
      "100%|██████████| 3/3 [00:01<00:00,  2.95it/s]\n"
     ]
    },
    {
     "name": "stdout",
     "output_type": "stream",
     "text": [
      "Training loss: 0.422\tTraining Accuracy: 83.58\n",
      "Validation loss: 0.988\tValidation Accuracy: 69.24\n",
      "Latest model saved as ./resnet18_outputs/latest.pth\n",
      "\n",
      "[INFO]: Epoch 163/300\n",
      "Training....\n"
     ]
    },
    {
     "name": "stderr",
     "output_type": "stream",
     "text": [
      "100%|██████████| 23/23 [00:34<00:00,  1.52s/it]\n"
     ]
    },
    {
     "name": "stdout",
     "output_type": "stream",
     "text": [
      "Validating....\n"
     ]
    },
    {
     "name": "stderr",
     "output_type": "stream",
     "text": [
      "100%|██████████| 3/3 [00:01<00:00,  2.34it/s]\n"
     ]
    },
    {
     "name": "stdout",
     "output_type": "stream",
     "text": [
      "Training loss: 0.393\tTraining Accuracy: 84.30\n",
      "Validation loss: 1.117\tValidation Accuracy: 62.92\n",
      "Latest model saved as ./resnet18_outputs/latest.pth\n",
      "\n",
      "[INFO]: Epoch 164/300\n",
      "Training....\n"
     ]
    },
    {
     "name": "stderr",
     "output_type": "stream",
     "text": [
      "100%|██████████| 23/23 [00:31<00:00,  1.39s/it]\n"
     ]
    },
    {
     "name": "stdout",
     "output_type": "stream",
     "text": [
      "Validating....\n"
     ]
    },
    {
     "name": "stderr",
     "output_type": "stream",
     "text": [
      "100%|██████████| 3/3 [00:01<00:00,  2.82it/s]\n"
     ]
    },
    {
     "name": "stdout",
     "output_type": "stream",
     "text": [
      "Training loss: 0.377\tTraining Accuracy: 85.50\n",
      "Validation loss: 1.310\tValidation Accuracy: 60.62\n",
      "Latest model saved as ./resnet18_outputs/latest.pth\n",
      "\n",
      "[INFO]: Epoch 165/300\n",
      "Training....\n"
     ]
    },
    {
     "name": "stderr",
     "output_type": "stream",
     "text": [
      "100%|██████████| 23/23 [00:35<00:00,  1.56s/it]\n"
     ]
    },
    {
     "name": "stdout",
     "output_type": "stream",
     "text": [
      "Validating....\n"
     ]
    },
    {
     "name": "stderr",
     "output_type": "stream",
     "text": [
      "100%|██████████| 3/3 [00:01<00:00,  2.89it/s]\n"
     ]
    },
    {
     "name": "stdout",
     "output_type": "stream",
     "text": [
      "Training loss: 0.340\tTraining Accuracy: 86.69\n",
      "Validation loss: 0.973\tValidation Accuracy: 68.61\n",
      "Latest model saved as ./resnet18_outputs/latest.pth\n",
      "\n",
      "[INFO]: Epoch 166/300\n",
      "Training....\n"
     ]
    },
    {
     "name": "stderr",
     "output_type": "stream",
     "text": [
      "100%|██████████| 23/23 [00:43<00:00,  1.88s/it]\n"
     ]
    },
    {
     "name": "stdout",
     "output_type": "stream",
     "text": [
      "Validating....\n"
     ]
    },
    {
     "name": "stderr",
     "output_type": "stream",
     "text": [
      "100%|██████████| 3/3 [00:01<00:00,  2.53it/s]\n"
     ]
    },
    {
     "name": "stdout",
     "output_type": "stream",
     "text": [
      "Training loss: 0.328\tTraining Accuracy: 87.27\n",
      "Validation loss: 1.012\tValidation Accuracy: 71.46\n",
      "Latest model saved as ./resnet18_outputs/latest.pth\n",
      "\n",
      "[INFO]: Epoch 167/300\n",
      "Training....\n"
     ]
    },
    {
     "name": "stderr",
     "output_type": "stream",
     "text": [
      "100%|██████████| 23/23 [00:39<00:00,  1.70s/it]\n"
     ]
    },
    {
     "name": "stdout",
     "output_type": "stream",
     "text": [
      "Validating....\n"
     ]
    },
    {
     "name": "stderr",
     "output_type": "stream",
     "text": [
      "100%|██████████| 3/3 [00:01<00:00,  2.86it/s]\n"
     ]
    },
    {
     "name": "stdout",
     "output_type": "stream",
     "text": [
      "Training loss: 0.326\tTraining Accuracy: 87.43\n",
      "Validation loss: 2.197\tValidation Accuracy: 52.78\n",
      "Latest model saved as ./resnet18_outputs/latest.pth\n",
      "\n",
      "[INFO]: Epoch 168/300\n",
      "Training....\n"
     ]
    },
    {
     "name": "stderr",
     "output_type": "stream",
     "text": [
      "100%|██████████| 23/23 [00:35<00:00,  1.53s/it]\n"
     ]
    },
    {
     "name": "stdout",
     "output_type": "stream",
     "text": [
      "Validating....\n"
     ]
    },
    {
     "name": "stderr",
     "output_type": "stream",
     "text": [
      "100%|██████████| 3/3 [00:01<00:00,  2.59it/s]\n"
     ]
    },
    {
     "name": "stdout",
     "output_type": "stream",
     "text": [
      "Training loss: 0.309\tTraining Accuracy: 87.93\n",
      "Validation loss: 0.683\tValidation Accuracy: 78.19\n",
      "Best model saved as ./resnet18_outputs/best.pth\n",
      "Latest model saved as ./resnet18_outputs/latest.pth\n",
      "\n",
      "[INFO]: Epoch 169/300\n",
      "Training....\n"
     ]
    },
    {
     "name": "stderr",
     "output_type": "stream",
     "text": [
      "100%|██████████| 23/23 [00:32<00:00,  1.41s/it]\n"
     ]
    },
    {
     "name": "stdout",
     "output_type": "stream",
     "text": [
      "Validating....\n"
     ]
    },
    {
     "name": "stderr",
     "output_type": "stream",
     "text": [
      "100%|██████████| 3/3 [00:01<00:00,  2.84it/s]\n"
     ]
    },
    {
     "name": "stdout",
     "output_type": "stream",
     "text": [
      "Training loss: 0.313\tTraining Accuracy: 87.89\n",
      "Validation loss: 1.771\tValidation Accuracy: 52.43\n",
      "Latest model saved as ./resnet18_outputs/latest.pth\n",
      "\n",
      "[INFO]: Epoch 170/300\n",
      "Training....\n"
     ]
    },
    {
     "name": "stderr",
     "output_type": "stream",
     "text": [
      "100%|██████████| 23/23 [00:41<00:00,  1.81s/it]\n"
     ]
    },
    {
     "name": "stdout",
     "output_type": "stream",
     "text": [
      "Validating....\n"
     ]
    },
    {
     "name": "stderr",
     "output_type": "stream",
     "text": [
      "100%|██████████| 3/3 [00:01<00:00,  2.91it/s]\n"
     ]
    },
    {
     "name": "stdout",
     "output_type": "stream",
     "text": [
      "Training loss: 0.312\tTraining Accuracy: 87.93\n",
      "Validation loss: 0.766\tValidation Accuracy: 75.35\n",
      "Latest model saved as ./resnet18_outputs/latest.pth\n",
      "\n",
      "[INFO]: Epoch 171/300\n",
      "Training....\n"
     ]
    },
    {
     "name": "stderr",
     "output_type": "stream",
     "text": [
      "100%|██████████| 23/23 [00:37<00:00,  1.64s/it]\n"
     ]
    },
    {
     "name": "stdout",
     "output_type": "stream",
     "text": [
      "Validating....\n"
     ]
    },
    {
     "name": "stderr",
     "output_type": "stream",
     "text": [
      "100%|██████████| 3/3 [00:01<00:00,  2.87it/s]\n"
     ]
    },
    {
     "name": "stdout",
     "output_type": "stream",
     "text": [
      "Training loss: 0.303\tTraining Accuracy: 88.11\n",
      "Validation loss: 0.703\tValidation Accuracy: 76.18\n",
      "Latest model saved as ./resnet18_outputs/latest.pth\n",
      "\n",
      "[INFO]: Epoch 172/300\n",
      "Training....\n"
     ]
    },
    {
     "name": "stderr",
     "output_type": "stream",
     "text": [
      "100%|██████████| 23/23 [00:34<00:00,  1.49s/it]\n"
     ]
    },
    {
     "name": "stdout",
     "output_type": "stream",
     "text": [
      "Validating....\n"
     ]
    },
    {
     "name": "stderr",
     "output_type": "stream",
     "text": [
      "100%|██████████| 3/3 [00:01<00:00,  2.86it/s]\n"
     ]
    },
    {
     "name": "stdout",
     "output_type": "stream",
     "text": [
      "Training loss: 0.290\tTraining Accuracy: 88.81\n",
      "Validation loss: 0.622\tValidation Accuracy: 78.26\n",
      "Best model saved as ./resnet18_outputs/best.pth\n",
      "Latest model saved as ./resnet18_outputs/latest.pth\n",
      "\n",
      "[INFO]: Epoch 173/300\n",
      "Training....\n"
     ]
    },
    {
     "name": "stderr",
     "output_type": "stream",
     "text": [
      "100%|██████████| 23/23 [00:38<00:00,  1.65s/it]\n"
     ]
    },
    {
     "name": "stdout",
     "output_type": "stream",
     "text": [
      "Validating....\n"
     ]
    },
    {
     "name": "stderr",
     "output_type": "stream",
     "text": [
      "100%|██████████| 3/3 [00:01<00:00,  2.38it/s]\n"
     ]
    },
    {
     "name": "stdout",
     "output_type": "stream",
     "text": [
      "Training loss: 0.276\tTraining Accuracy: 89.25\n",
      "Validation loss: 1.656\tValidation Accuracy: 61.11\n",
      "Latest model saved as ./resnet18_outputs/latest.pth\n",
      "\n",
      "[INFO]: Epoch 174/300\n",
      "Training....\n"
     ]
    },
    {
     "name": "stderr",
     "output_type": "stream",
     "text": [
      "100%|██████████| 23/23 [00:36<00:00,  1.57s/it]\n"
     ]
    },
    {
     "name": "stdout",
     "output_type": "stream",
     "text": [
      "Validating....\n"
     ]
    },
    {
     "name": "stderr",
     "output_type": "stream",
     "text": [
      "100%|██████████| 3/3 [00:01<00:00,  2.07it/s]\n"
     ]
    },
    {
     "name": "stdout",
     "output_type": "stream",
     "text": [
      "Training loss: 0.292\tTraining Accuracy: 88.77\n",
      "Validation loss: 1.896\tValidation Accuracy: 55.90\n",
      "Latest model saved as ./resnet18_outputs/latest.pth\n",
      "\n",
      "[INFO]: Epoch 175/300\n",
      "Training....\n"
     ]
    },
    {
     "name": "stderr",
     "output_type": "stream",
     "text": [
      "100%|██████████| 23/23 [00:33<00:00,  1.44s/it]\n"
     ]
    },
    {
     "name": "stdout",
     "output_type": "stream",
     "text": [
      "Validating....\n"
     ]
    },
    {
     "name": "stderr",
     "output_type": "stream",
     "text": [
      "100%|██████████| 3/3 [00:01<00:00,  2.89it/s]\n"
     ]
    },
    {
     "name": "stdout",
     "output_type": "stream",
     "text": [
      "Training loss: 0.259\tTraining Accuracy: 90.11\n",
      "Validation loss: 1.105\tValidation Accuracy: 67.08\n",
      "Latest model saved as ./resnet18_outputs/latest.pth\n",
      "\n",
      "[INFO]: Epoch 176/300\n",
      "Training....\n"
     ]
    },
    {
     "name": "stderr",
     "output_type": "stream",
     "text": [
      "100%|██████████| 23/23 [00:37<00:00,  1.61s/it]\n"
     ]
    },
    {
     "name": "stdout",
     "output_type": "stream",
     "text": [
      "Validating....\n"
     ]
    },
    {
     "name": "stderr",
     "output_type": "stream",
     "text": [
      "100%|██████████| 3/3 [00:01<00:00,  2.44it/s]\n"
     ]
    },
    {
     "name": "stdout",
     "output_type": "stream",
     "text": [
      "Training loss: 0.246\tTraining Accuracy: 90.49\n",
      "Validation loss: 0.583\tValidation Accuracy: 80.28\n",
      "Best model saved as ./resnet18_outputs/best.pth\n",
      "Latest model saved as ./resnet18_outputs/latest.pth\n",
      "\n",
      "[INFO]: Epoch 177/300\n",
      "Training....\n"
     ]
    },
    {
     "name": "stderr",
     "output_type": "stream",
     "text": [
      "100%|██████████| 23/23 [00:43<00:00,  1.87s/it]\n"
     ]
    },
    {
     "name": "stdout",
     "output_type": "stream",
     "text": [
      "Validating....\n"
     ]
    },
    {
     "name": "stderr",
     "output_type": "stream",
     "text": [
      "100%|██████████| 3/3 [00:01<00:00,  2.25it/s]\n"
     ]
    },
    {
     "name": "stdout",
     "output_type": "stream",
     "text": [
      "Training loss: 0.232\tTraining Accuracy: 90.87\n",
      "Validation loss: 2.225\tValidation Accuracy: 46.94\n",
      "Latest model saved as ./resnet18_outputs/latest.pth\n",
      "\n",
      "[INFO]: Epoch 178/300\n",
      "Training....\n"
     ]
    },
    {
     "name": "stderr",
     "output_type": "stream",
     "text": [
      "100%|██████████| 23/23 [00:38<00:00,  1.65s/it]\n"
     ]
    },
    {
     "name": "stdout",
     "output_type": "stream",
     "text": [
      "Validating....\n"
     ]
    },
    {
     "name": "stderr",
     "output_type": "stream",
     "text": [
      "100%|██████████| 3/3 [00:01<00:00,  2.30it/s]\n"
     ]
    },
    {
     "name": "stdout",
     "output_type": "stream",
     "text": [
      "Training loss: 0.224\tTraining Accuracy: 91.21\n",
      "Validation loss: 1.257\tValidation Accuracy: 67.29\n",
      "Latest model saved as ./resnet18_outputs/latest.pth\n",
      "\n",
      "[INFO]: Epoch 179/300\n",
      "Training....\n"
     ]
    },
    {
     "name": "stderr",
     "output_type": "stream",
     "text": [
      "100%|██████████| 23/23 [00:38<00:00,  1.68s/it]\n"
     ]
    },
    {
     "name": "stdout",
     "output_type": "stream",
     "text": [
      "Validating....\n"
     ]
    },
    {
     "name": "stderr",
     "output_type": "stream",
     "text": [
      "100%|██████████| 3/3 [00:01<00:00,  2.79it/s]\n"
     ]
    },
    {
     "name": "stdout",
     "output_type": "stream",
     "text": [
      "Training loss: 0.226\tTraining Accuracy: 91.09\n",
      "Validation loss: 1.506\tValidation Accuracy: 60.00\n",
      "Latest model saved as ./resnet18_outputs/latest.pth\n",
      "\n",
      "[INFO]: Epoch 180/300\n",
      "Training....\n"
     ]
    },
    {
     "name": "stderr",
     "output_type": "stream",
     "text": [
      "100%|██████████| 23/23 [00:39<00:00,  1.74s/it]\n"
     ]
    },
    {
     "name": "stdout",
     "output_type": "stream",
     "text": [
      "Validating....\n"
     ]
    },
    {
     "name": "stderr",
     "output_type": "stream",
     "text": [
      "100%|██████████| 3/3 [00:01<00:00,  2.86it/s]\n"
     ]
    },
    {
     "name": "stdout",
     "output_type": "stream",
     "text": [
      "Training loss: 0.217\tTraining Accuracy: 91.66\n",
      "Validation loss: 1.290\tValidation Accuracy: 65.21\n",
      "Latest model saved as ./resnet18_outputs/latest.pth\n",
      "\n",
      "[INFO]: Epoch 181/300\n",
      "Training....\n"
     ]
    },
    {
     "name": "stderr",
     "output_type": "stream",
     "text": [
      "100%|██████████| 23/23 [00:39<00:00,  1.73s/it]\n"
     ]
    },
    {
     "name": "stdout",
     "output_type": "stream",
     "text": [
      "Validating....\n"
     ]
    },
    {
     "name": "stderr",
     "output_type": "stream",
     "text": [
      "100%|██████████| 3/3 [00:01<00:00,  2.37it/s]\n"
     ]
    },
    {
     "name": "stdout",
     "output_type": "stream",
     "text": [
      "Training loss: 0.199\tTraining Accuracy: 92.10\n",
      "Validation loss: 0.712\tValidation Accuracy: 79.31\n",
      "Latest model saved as ./resnet18_outputs/latest.pth\n",
      "\n",
      "[INFO]: Epoch 182/300\n",
      "Training....\n"
     ]
    },
    {
     "name": "stderr",
     "output_type": "stream",
     "text": [
      "100%|██████████| 23/23 [00:34<00:00,  1.52s/it]\n"
     ]
    },
    {
     "name": "stdout",
     "output_type": "stream",
     "text": [
      "Validating....\n"
     ]
    },
    {
     "name": "stderr",
     "output_type": "stream",
     "text": [
      "100%|██████████| 3/3 [00:01<00:00,  2.83it/s]\n"
     ]
    },
    {
     "name": "stdout",
     "output_type": "stream",
     "text": [
      "Training loss: 0.215\tTraining Accuracy: 91.68\n",
      "Validation loss: 0.479\tValidation Accuracy: 85.00\n",
      "Best model saved as ./resnet18_outputs/best.pth\n",
      "Latest model saved as ./resnet18_outputs/latest.pth\n",
      "\n",
      "[INFO]: Epoch 183/300\n",
      "Training....\n"
     ]
    },
    {
     "name": "stderr",
     "output_type": "stream",
     "text": [
      "100%|██████████| 23/23 [00:37<00:00,  1.64s/it]\n"
     ]
    },
    {
     "name": "stdout",
     "output_type": "stream",
     "text": [
      "Validating....\n"
     ]
    },
    {
     "name": "stderr",
     "output_type": "stream",
     "text": [
      "100%|██████████| 3/3 [00:01<00:00,  2.82it/s]\n"
     ]
    },
    {
     "name": "stdout",
     "output_type": "stream",
     "text": [
      "Training loss: 0.193\tTraining Accuracy: 92.53\n",
      "Validation loss: 0.553\tValidation Accuracy: 82.57\n",
      "Latest model saved as ./resnet18_outputs/latest.pth\n",
      "\n",
      "[INFO]: Epoch 184/300\n",
      "Training....\n"
     ]
    },
    {
     "name": "stderr",
     "output_type": "stream",
     "text": [
      "100%|██████████| 23/23 [00:40<00:00,  1.78s/it]\n"
     ]
    },
    {
     "name": "stdout",
     "output_type": "stream",
     "text": [
      "Validating....\n"
     ]
    },
    {
     "name": "stderr",
     "output_type": "stream",
     "text": [
      "100%|██████████| 3/3 [00:01<00:00,  2.63it/s]\n"
     ]
    },
    {
     "name": "stdout",
     "output_type": "stream",
     "text": [
      "Training loss: 0.192\tTraining Accuracy: 92.55\n",
      "Validation loss: 0.507\tValidation Accuracy: 85.49\n",
      "Latest model saved as ./resnet18_outputs/latest.pth\n",
      "\n",
      "[INFO]: Epoch 185/300\n",
      "Training....\n"
     ]
    },
    {
     "name": "stderr",
     "output_type": "stream",
     "text": [
      "100%|██████████| 23/23 [00:36<00:00,  1.57s/it]\n"
     ]
    },
    {
     "name": "stdout",
     "output_type": "stream",
     "text": [
      "Validating....\n"
     ]
    },
    {
     "name": "stderr",
     "output_type": "stream",
     "text": [
      "100%|██████████| 3/3 [00:01<00:00,  2.57it/s]\n"
     ]
    },
    {
     "name": "stdout",
     "output_type": "stream",
     "text": [
      "Training loss: 0.202\tTraining Accuracy: 92.06\n",
      "Validation loss: 1.233\tValidation Accuracy: 63.54\n",
      "Latest model saved as ./resnet18_outputs/latest.pth\n",
      "\n",
      "[INFO]: Epoch 186/300\n",
      "Training....\n"
     ]
    },
    {
     "name": "stderr",
     "output_type": "stream",
     "text": [
      "100%|██████████| 23/23 [00:40<00:00,  1.76s/it]\n"
     ]
    },
    {
     "name": "stdout",
     "output_type": "stream",
     "text": [
      "Validating....\n"
     ]
    },
    {
     "name": "stderr",
     "output_type": "stream",
     "text": [
      "100%|██████████| 3/3 [00:01<00:00,  2.89it/s]\n"
     ]
    },
    {
     "name": "stdout",
     "output_type": "stream",
     "text": [
      "Training loss: 0.199\tTraining Accuracy: 92.09\n",
      "Validation loss: 0.539\tValidation Accuracy: 83.68\n",
      "Latest model saved as ./resnet18_outputs/latest.pth\n",
      "\n",
      "[INFO]: Epoch 187/300\n",
      "Training....\n"
     ]
    },
    {
     "name": "stderr",
     "output_type": "stream",
     "text": [
      "100%|██████████| 23/23 [00:33<00:00,  1.46s/it]\n"
     ]
    },
    {
     "name": "stdout",
     "output_type": "stream",
     "text": [
      "Validating....\n"
     ]
    },
    {
     "name": "stderr",
     "output_type": "stream",
     "text": [
      "100%|██████████| 3/3 [00:01<00:00,  2.90it/s]\n"
     ]
    },
    {
     "name": "stdout",
     "output_type": "stream",
     "text": [
      "Training loss: 0.184\tTraining Accuracy: 92.80\n",
      "Validation loss: 0.594\tValidation Accuracy: 81.32\n",
      "Latest model saved as ./resnet18_outputs/latest.pth\n",
      "\n",
      "[INFO]: Epoch 188/300\n",
      "Training....\n"
     ]
    },
    {
     "name": "stderr",
     "output_type": "stream",
     "text": [
      "100%|██████████| 23/23 [00:36<00:00,  1.61s/it]\n"
     ]
    },
    {
     "name": "stdout",
     "output_type": "stream",
     "text": [
      "Validating....\n"
     ]
    },
    {
     "name": "stderr",
     "output_type": "stream",
     "text": [
      "100%|██████████| 3/3 [00:01<00:00,  2.14it/s]\n"
     ]
    },
    {
     "name": "stdout",
     "output_type": "stream",
     "text": [
      "Training loss: 0.179\tTraining Accuracy: 93.02\n",
      "Validation loss: 0.398\tValidation Accuracy: 87.50\n",
      "Best model saved as ./resnet18_outputs/best.pth\n",
      "Latest model saved as ./resnet18_outputs/latest.pth\n",
      "\n",
      "[INFO]: Epoch 189/300\n",
      "Training....\n"
     ]
    },
    {
     "name": "stderr",
     "output_type": "stream",
     "text": [
      "100%|██████████| 23/23 [00:35<00:00,  1.53s/it]\n"
     ]
    },
    {
     "name": "stdout",
     "output_type": "stream",
     "text": [
      "Validating....\n"
     ]
    },
    {
     "name": "stderr",
     "output_type": "stream",
     "text": [
      "100%|██████████| 3/3 [00:01<00:00,  2.89it/s]\n"
     ]
    },
    {
     "name": "stdout",
     "output_type": "stream",
     "text": [
      "Training loss: 0.172\tTraining Accuracy: 93.32\n",
      "Validation loss: 0.511\tValidation Accuracy: 83.47\n",
      "Latest model saved as ./resnet18_outputs/latest.pth\n",
      "\n",
      "[INFO]: Epoch 190/300\n",
      "Training....\n"
     ]
    },
    {
     "name": "stderr",
     "output_type": "stream",
     "text": [
      "100%|██████████| 23/23 [00:34<00:00,  1.50s/it]\n"
     ]
    },
    {
     "name": "stdout",
     "output_type": "stream",
     "text": [
      "Validating....\n"
     ]
    },
    {
     "name": "stderr",
     "output_type": "stream",
     "text": [
      "100%|██████████| 3/3 [00:01<00:00,  2.89it/s]\n"
     ]
    },
    {
     "name": "stdout",
     "output_type": "stream",
     "text": [
      "Training loss: 0.161\tTraining Accuracy: 93.60\n",
      "Validation loss: 0.608\tValidation Accuracy: 79.86\n",
      "Latest model saved as ./resnet18_outputs/latest.pth\n",
      "\n",
      "[INFO]: Epoch 191/300\n",
      "Training....\n"
     ]
    },
    {
     "name": "stderr",
     "output_type": "stream",
     "text": [
      "100%|██████████| 23/23 [00:34<00:00,  1.50s/it]\n"
     ]
    },
    {
     "name": "stdout",
     "output_type": "stream",
     "text": [
      "Validating....\n"
     ]
    },
    {
     "name": "stderr",
     "output_type": "stream",
     "text": [
      "100%|██████████| 3/3 [00:01<00:00,  2.26it/s]\n"
     ]
    },
    {
     "name": "stdout",
     "output_type": "stream",
     "text": [
      "Training loss: 0.172\tTraining Accuracy: 93.26\n",
      "Validation loss: 0.576\tValidation Accuracy: 83.75\n",
      "Latest model saved as ./resnet18_outputs/latest.pth\n",
      "\n",
      "[INFO]: Epoch 192/300\n",
      "Training....\n"
     ]
    },
    {
     "name": "stderr",
     "output_type": "stream",
     "text": [
      "100%|██████████| 23/23 [00:42<00:00,  1.84s/it]\n"
     ]
    },
    {
     "name": "stdout",
     "output_type": "stream",
     "text": [
      "Validating....\n"
     ]
    },
    {
     "name": "stderr",
     "output_type": "stream",
     "text": [
      "100%|██████████| 3/3 [00:01<00:00,  2.14it/s]\n"
     ]
    },
    {
     "name": "stdout",
     "output_type": "stream",
     "text": [
      "Training loss: 0.178\tTraining Accuracy: 92.89\n",
      "Validation loss: 0.428\tValidation Accuracy: 86.94\n",
      "Latest model saved as ./resnet18_outputs/latest.pth\n",
      "\n",
      "[INFO]: Epoch 193/300\n",
      "Training....\n"
     ]
    },
    {
     "name": "stderr",
     "output_type": "stream",
     "text": [
      "100%|██████████| 23/23 [00:45<00:00,  1.98s/it]\n"
     ]
    },
    {
     "name": "stdout",
     "output_type": "stream",
     "text": [
      "Validating....\n"
     ]
    },
    {
     "name": "stderr",
     "output_type": "stream",
     "text": [
      "100%|██████████| 3/3 [00:01<00:00,  2.30it/s]\n"
     ]
    },
    {
     "name": "stdout",
     "output_type": "stream",
     "text": [
      "Training loss: 0.157\tTraining Accuracy: 93.85\n",
      "Validation loss: 0.490\tValidation Accuracy: 84.51\n",
      "Latest model saved as ./resnet18_outputs/latest.pth\n",
      "\n",
      "[INFO]: Epoch 194/300\n",
      "Training....\n"
     ]
    },
    {
     "name": "stderr",
     "output_type": "stream",
     "text": [
      "100%|██████████| 23/23 [00:40<00:00,  1.76s/it]\n"
     ]
    },
    {
     "name": "stdout",
     "output_type": "stream",
     "text": [
      "Validating....\n"
     ]
    },
    {
     "name": "stderr",
     "output_type": "stream",
     "text": [
      "100%|██████████| 3/3 [00:01<00:00,  2.52it/s]\n"
     ]
    },
    {
     "name": "stdout",
     "output_type": "stream",
     "text": [
      "Training loss: 0.157\tTraining Accuracy: 94.11\n",
      "Validation loss: 0.330\tValidation Accuracy: 88.82\n",
      "Best model saved as ./resnet18_outputs/best.pth\n",
      "Latest model saved as ./resnet18_outputs/latest.pth\n",
      "\n",
      "[INFO]: Epoch 195/300\n",
      "Training....\n"
     ]
    },
    {
     "name": "stderr",
     "output_type": "stream",
     "text": [
      "100%|██████████| 23/23 [00:45<00:00,  1.99s/it]\n"
     ]
    },
    {
     "name": "stdout",
     "output_type": "stream",
     "text": [
      "Validating....\n"
     ]
    },
    {
     "name": "stderr",
     "output_type": "stream",
     "text": [
      "100%|██████████| 3/3 [00:01<00:00,  2.32it/s]\n"
     ]
    },
    {
     "name": "stdout",
     "output_type": "stream",
     "text": [
      "Training loss: 0.169\tTraining Accuracy: 93.55\n",
      "Validation loss: 0.428\tValidation Accuracy: 87.15\n",
      "Latest model saved as ./resnet18_outputs/latest.pth\n",
      "\n",
      "[INFO]: Epoch 196/300\n",
      "Training....\n"
     ]
    },
    {
     "name": "stderr",
     "output_type": "stream",
     "text": [
      "100%|██████████| 23/23 [00:39<00:00,  1.72s/it]\n"
     ]
    },
    {
     "name": "stdout",
     "output_type": "stream",
     "text": [
      "Validating....\n"
     ]
    },
    {
     "name": "stderr",
     "output_type": "stream",
     "text": [
      "100%|██████████| 3/3 [00:01<00:00,  2.54it/s]\n"
     ]
    },
    {
     "name": "stdout",
     "output_type": "stream",
     "text": [
      "Training loss: 0.165\tTraining Accuracy: 93.75\n",
      "Validation loss: 0.642\tValidation Accuracy: 82.57\n",
      "Latest model saved as ./resnet18_outputs/latest.pth\n",
      "\n",
      "[INFO]: Epoch 197/300\n",
      "Training....\n"
     ]
    },
    {
     "name": "stderr",
     "output_type": "stream",
     "text": [
      "100%|██████████| 23/23 [00:42<00:00,  1.86s/it]\n"
     ]
    },
    {
     "name": "stdout",
     "output_type": "stream",
     "text": [
      "Validating....\n"
     ]
    },
    {
     "name": "stderr",
     "output_type": "stream",
     "text": [
      "100%|██████████| 3/3 [00:01<00:00,  2.84it/s]\n"
     ]
    },
    {
     "name": "stdout",
     "output_type": "stream",
     "text": [
      "Training loss: 0.186\tTraining Accuracy: 92.69\n",
      "Validation loss: 1.010\tValidation Accuracy: 74.17\n",
      "Latest model saved as ./resnet18_outputs/latest.pth\n",
      "\n",
      "[INFO]: Epoch 198/300\n",
      "Training....\n"
     ]
    },
    {
     "name": "stderr",
     "output_type": "stream",
     "text": [
      "100%|██████████| 23/23 [00:36<00:00,  1.59s/it]\n"
     ]
    },
    {
     "name": "stdout",
     "output_type": "stream",
     "text": [
      "Validating....\n"
     ]
    },
    {
     "name": "stderr",
     "output_type": "stream",
     "text": [
      "100%|██████████| 3/3 [00:01<00:00,  2.88it/s]\n"
     ]
    },
    {
     "name": "stdout",
     "output_type": "stream",
     "text": [
      "Training loss: 0.165\tTraining Accuracy: 93.48\n",
      "Validation loss: 0.947\tValidation Accuracy: 74.10\n",
      "Latest model saved as ./resnet18_outputs/latest.pth\n",
      "\n",
      "[INFO]: Epoch 199/300\n",
      "Training....\n"
     ]
    },
    {
     "name": "stderr",
     "output_type": "stream",
     "text": [
      "100%|██████████| 23/23 [00:43<00:00,  1.89s/it]\n"
     ]
    },
    {
     "name": "stdout",
     "output_type": "stream",
     "text": [
      "Validating....\n"
     ]
    },
    {
     "name": "stderr",
     "output_type": "stream",
     "text": [
      "100%|██████████| 3/3 [00:01<00:00,  2.89it/s]\n"
     ]
    },
    {
     "name": "stdout",
     "output_type": "stream",
     "text": [
      "Training loss: 0.166\tTraining Accuracy: 93.63\n",
      "Validation loss: 1.034\tValidation Accuracy: 73.54\n",
      "Latest model saved as ./resnet18_outputs/latest.pth\n",
      "\n",
      "[INFO]: Epoch 200/300\n",
      "Training....\n"
     ]
    },
    {
     "name": "stderr",
     "output_type": "stream",
     "text": [
      "100%|██████████| 23/23 [00:34<00:00,  1.51s/it]\n"
     ]
    },
    {
     "name": "stdout",
     "output_type": "stream",
     "text": [
      "Validating....\n"
     ]
    },
    {
     "name": "stderr",
     "output_type": "stream",
     "text": [
      "100%|██████████| 3/3 [00:01<00:00,  2.92it/s]\n"
     ]
    },
    {
     "name": "stdout",
     "output_type": "stream",
     "text": [
      "Training loss: 0.162\tTraining Accuracy: 93.63\n",
      "Validation loss: 1.438\tValidation Accuracy: 66.32\n",
      "Latest model saved as ./resnet18_outputs/latest.pth\n",
      "\n",
      "[INFO]: Epoch 201/300\n",
      "Training....\n"
     ]
    },
    {
     "name": "stderr",
     "output_type": "stream",
     "text": [
      "100%|██████████| 23/23 [00:48<00:00,  2.13s/it]\n"
     ]
    },
    {
     "name": "stdout",
     "output_type": "stream",
     "text": [
      "Validating....\n"
     ]
    },
    {
     "name": "stderr",
     "output_type": "stream",
     "text": [
      "100%|██████████| 3/3 [00:01<00:00,  2.34it/s]\n"
     ]
    },
    {
     "name": "stdout",
     "output_type": "stream",
     "text": [
      "Training loss: 0.157\tTraining Accuracy: 93.87\n",
      "Validation loss: 1.429\tValidation Accuracy: 64.24\n",
      "Latest model saved as ./resnet18_outputs/latest.pth\n",
      "\n",
      "[INFO]: Epoch 202/300\n",
      "Training....\n"
     ]
    },
    {
     "name": "stderr",
     "output_type": "stream",
     "text": [
      "100%|██████████| 23/23 [00:48<00:00,  2.13s/it]\n"
     ]
    },
    {
     "name": "stdout",
     "output_type": "stream",
     "text": [
      "Validating....\n"
     ]
    },
    {
     "name": "stderr",
     "output_type": "stream",
     "text": [
      "100%|██████████| 3/3 [00:01<00:00,  2.32it/s]\n"
     ]
    },
    {
     "name": "stdout",
     "output_type": "stream",
     "text": [
      "Training loss: 0.160\tTraining Accuracy: 93.82\n",
      "Validation loss: 0.708\tValidation Accuracy: 80.28\n",
      "Latest model saved as ./resnet18_outputs/latest.pth\n",
      "\n",
      "[INFO]: Epoch 203/300\n",
      "Training....\n"
     ]
    },
    {
     "name": "stderr",
     "output_type": "stream",
     "text": [
      "100%|██████████| 23/23 [00:39<00:00,  1.73s/it]\n"
     ]
    },
    {
     "name": "stdout",
     "output_type": "stream",
     "text": [
      "Validating....\n"
     ]
    },
    {
     "name": "stderr",
     "output_type": "stream",
     "text": [
      "100%|██████████| 3/3 [00:01<00:00,  2.33it/s]\n"
     ]
    },
    {
     "name": "stdout",
     "output_type": "stream",
     "text": [
      "Training loss: 0.149\tTraining Accuracy: 94.06\n",
      "Validation loss: 0.479\tValidation Accuracy: 86.60\n",
      "Latest model saved as ./resnet18_outputs/latest.pth\n",
      "\n",
      "[INFO]: Epoch 204/300\n",
      "Training....\n"
     ]
    },
    {
     "name": "stderr",
     "output_type": "stream",
     "text": [
      "100%|██████████| 23/23 [00:35<00:00,  1.54s/it]\n"
     ]
    },
    {
     "name": "stdout",
     "output_type": "stream",
     "text": [
      "Validating....\n"
     ]
    },
    {
     "name": "stderr",
     "output_type": "stream",
     "text": [
      "100%|██████████| 3/3 [00:01<00:00,  2.54it/s]\n"
     ]
    },
    {
     "name": "stdout",
     "output_type": "stream",
     "text": [
      "Training loss: 0.151\tTraining Accuracy: 94.18\n",
      "Validation loss: 0.396\tValidation Accuracy: 88.33\n",
      "Latest model saved as ./resnet18_outputs/latest.pth\n",
      "\n",
      "[INFO]: Epoch 205/300\n",
      "Training....\n"
     ]
    },
    {
     "name": "stderr",
     "output_type": "stream",
     "text": [
      "100%|██████████| 23/23 [00:36<00:00,  1.59s/it]\n"
     ]
    },
    {
     "name": "stdout",
     "output_type": "stream",
     "text": [
      "Validating....\n"
     ]
    },
    {
     "name": "stderr",
     "output_type": "stream",
     "text": [
      "100%|██████████| 3/3 [00:01<00:00,  2.85it/s]\n"
     ]
    },
    {
     "name": "stdout",
     "output_type": "stream",
     "text": [
      "Training loss: 0.146\tTraining Accuracy: 94.38\n",
      "Validation loss: 1.238\tValidation Accuracy: 72.15\n",
      "Latest model saved as ./resnet18_outputs/latest.pth\n",
      "\n",
      "[INFO]: Epoch 206/300\n",
      "Training....\n"
     ]
    },
    {
     "name": "stderr",
     "output_type": "stream",
     "text": [
      "100%|██████████| 23/23 [00:40<00:00,  1.75s/it]\n"
     ]
    },
    {
     "name": "stdout",
     "output_type": "stream",
     "text": [
      "Validating....\n"
     ]
    },
    {
     "name": "stderr",
     "output_type": "stream",
     "text": [
      "100%|██████████| 3/3 [00:01<00:00,  2.89it/s]\n"
     ]
    },
    {
     "name": "stdout",
     "output_type": "stream",
     "text": [
      "Training loss: 0.145\tTraining Accuracy: 94.35\n",
      "Validation loss: 0.430\tValidation Accuracy: 88.12\n",
      "Latest model saved as ./resnet18_outputs/latest.pth\n",
      "\n",
      "[INFO]: Epoch 207/300\n",
      "Training....\n"
     ]
    },
    {
     "name": "stderr",
     "output_type": "stream",
     "text": [
      "100%|██████████| 23/23 [00:34<00:00,  1.51s/it]\n"
     ]
    },
    {
     "name": "stdout",
     "output_type": "stream",
     "text": [
      "Validating....\n"
     ]
    },
    {
     "name": "stderr",
     "output_type": "stream",
     "text": [
      "100%|██████████| 3/3 [00:01<00:00,  2.87it/s]\n"
     ]
    },
    {
     "name": "stdout",
     "output_type": "stream",
     "text": [
      "Training loss: 0.127\tTraining Accuracy: 95.18\n",
      "Validation loss: 1.155\tValidation Accuracy: 69.03\n",
      "Latest model saved as ./resnet18_outputs/latest.pth\n",
      "\n",
      "[INFO]: Epoch 208/300\n",
      "Training....\n"
     ]
    },
    {
     "name": "stderr",
     "output_type": "stream",
     "text": [
      "100%|██████████| 23/23 [00:33<00:00,  1.47s/it]\n"
     ]
    },
    {
     "name": "stdout",
     "output_type": "stream",
     "text": [
      "Validating....\n"
     ]
    },
    {
     "name": "stderr",
     "output_type": "stream",
     "text": [
      "100%|██████████| 3/3 [00:01<00:00,  2.83it/s]\n"
     ]
    },
    {
     "name": "stdout",
     "output_type": "stream",
     "text": [
      "Training loss: 0.134\tTraining Accuracy: 94.72\n",
      "Validation loss: 0.596\tValidation Accuracy: 82.43\n",
      "Latest model saved as ./resnet18_outputs/latest.pth\n",
      "\n",
      "[INFO]: Epoch 209/300\n",
      "Training....\n"
     ]
    },
    {
     "name": "stderr",
     "output_type": "stream",
     "text": [
      "100%|██████████| 23/23 [00:38<00:00,  1.69s/it]\n"
     ]
    },
    {
     "name": "stdout",
     "output_type": "stream",
     "text": [
      "Validating....\n"
     ]
    },
    {
     "name": "stderr",
     "output_type": "stream",
     "text": [
      "100%|██████████| 3/3 [00:01<00:00,  2.90it/s]\n"
     ]
    },
    {
     "name": "stdout",
     "output_type": "stream",
     "text": [
      "Training loss: 0.121\tTraining Accuracy: 95.11\n",
      "Validation loss: 0.431\tValidation Accuracy: 87.01\n",
      "Latest model saved as ./resnet18_outputs/latest.pth\n",
      "\n",
      "[INFO]: Epoch 210/300\n",
      "Training....\n"
     ]
    },
    {
     "name": "stderr",
     "output_type": "stream",
     "text": [
      "100%|██████████| 23/23 [00:42<00:00,  1.84s/it]\n"
     ]
    },
    {
     "name": "stdout",
     "output_type": "stream",
     "text": [
      "Validating....\n"
     ]
    },
    {
     "name": "stderr",
     "output_type": "stream",
     "text": [
      "100%|██████████| 3/3 [00:01<00:00,  2.32it/s]\n"
     ]
    },
    {
     "name": "stdout",
     "output_type": "stream",
     "text": [
      "Training loss: 0.123\tTraining Accuracy: 94.96\n",
      "Validation loss: 1.287\tValidation Accuracy: 70.14\n",
      "Latest model saved as ./resnet18_outputs/latest.pth\n",
      "\n",
      "[INFO]: Epoch 211/300\n",
      "Training....\n"
     ]
    },
    {
     "name": "stderr",
     "output_type": "stream",
     "text": [
      "100%|██████████| 23/23 [00:37<00:00,  1.62s/it]\n"
     ]
    },
    {
     "name": "stdout",
     "output_type": "stream",
     "text": [
      "Validating....\n"
     ]
    },
    {
     "name": "stderr",
     "output_type": "stream",
     "text": [
      "100%|██████████| 3/3 [00:01<00:00,  2.87it/s]\n"
     ]
    },
    {
     "name": "stdout",
     "output_type": "stream",
     "text": [
      "Training loss: 0.123\tTraining Accuracy: 95.23\n",
      "Validation loss: 0.392\tValidation Accuracy: 88.06\n",
      "Latest model saved as ./resnet18_outputs/latest.pth\n",
      "\n",
      "[INFO]: Epoch 212/300\n",
      "Training....\n"
     ]
    },
    {
     "name": "stderr",
     "output_type": "stream",
     "text": [
      "100%|██████████| 23/23 [00:42<00:00,  1.86s/it]\n"
     ]
    },
    {
     "name": "stdout",
     "output_type": "stream",
     "text": [
      "Validating....\n"
     ]
    },
    {
     "name": "stderr",
     "output_type": "stream",
     "text": [
      "100%|██████████| 3/3 [00:01<00:00,  2.79it/s]\n"
     ]
    },
    {
     "name": "stdout",
     "output_type": "stream",
     "text": [
      "Training loss: 0.115\tTraining Accuracy: 95.38\n",
      "Validation loss: 0.330\tValidation Accuracy: 89.44\n",
      "Latest model saved as ./resnet18_outputs/latest.pth\n",
      "\n",
      "[INFO]: Epoch 213/300\n",
      "Training....\n"
     ]
    },
    {
     "name": "stderr",
     "output_type": "stream",
     "text": [
      "100%|██████████| 23/23 [00:36<00:00,  1.61s/it]\n"
     ]
    },
    {
     "name": "stdout",
     "output_type": "stream",
     "text": [
      "Validating....\n"
     ]
    },
    {
     "name": "stderr",
     "output_type": "stream",
     "text": [
      "100%|██████████| 3/3 [00:01<00:00,  2.13it/s]\n"
     ]
    },
    {
     "name": "stdout",
     "output_type": "stream",
     "text": [
      "Training loss: 0.117\tTraining Accuracy: 95.56\n",
      "Validation loss: 0.362\tValidation Accuracy: 89.10\n",
      "Latest model saved as ./resnet18_outputs/latest.pth\n",
      "\n",
      "[INFO]: Epoch 214/300\n",
      "Training....\n"
     ]
    },
    {
     "name": "stderr",
     "output_type": "stream",
     "text": [
      "100%|██████████| 23/23 [00:38<00:00,  1.68s/it]\n"
     ]
    },
    {
     "name": "stdout",
     "output_type": "stream",
     "text": [
      "Validating....\n"
     ]
    },
    {
     "name": "stderr",
     "output_type": "stream",
     "text": [
      "100%|██████████| 3/3 [00:01<00:00,  2.77it/s]\n"
     ]
    },
    {
     "name": "stdout",
     "output_type": "stream",
     "text": [
      "Training loss: 0.115\tTraining Accuracy: 95.64\n",
      "Validation loss: 0.803\tValidation Accuracy: 82.78\n",
      "Latest model saved as ./resnet18_outputs/latest.pth\n",
      "\n",
      "[INFO]: Epoch 215/300\n",
      "Training....\n"
     ]
    },
    {
     "name": "stderr",
     "output_type": "stream",
     "text": [
      "100%|██████████| 23/23 [00:42<00:00,  1.87s/it]\n"
     ]
    },
    {
     "name": "stdout",
     "output_type": "stream",
     "text": [
      "Validating....\n"
     ]
    },
    {
     "name": "stderr",
     "output_type": "stream",
     "text": [
      "100%|██████████| 3/3 [00:01<00:00,  2.53it/s]\n"
     ]
    },
    {
     "name": "stdout",
     "output_type": "stream",
     "text": [
      "Training loss: 0.119\tTraining Accuracy: 95.20\n",
      "Validation loss: 6.690\tValidation Accuracy: 25.42\n",
      "Latest model saved as ./resnet18_outputs/latest.pth\n",
      "\n",
      "[INFO]: Epoch 216/300\n",
      "Training....\n"
     ]
    },
    {
     "name": "stderr",
     "output_type": "stream",
     "text": [
      "100%|██████████| 23/23 [00:34<00:00,  1.49s/it]\n"
     ]
    },
    {
     "name": "stdout",
     "output_type": "stream",
     "text": [
      "Validating....\n"
     ]
    },
    {
     "name": "stderr",
     "output_type": "stream",
     "text": [
      "100%|██████████| 3/3 [00:01<00:00,  2.89it/s]\n"
     ]
    },
    {
     "name": "stdout",
     "output_type": "stream",
     "text": [
      "Training loss: 0.111\tTraining Accuracy: 95.79\n",
      "Validation loss: 0.435\tValidation Accuracy: 87.57\n",
      "Latest model saved as ./resnet18_outputs/latest.pth\n",
      "\n",
      "[INFO]: Epoch 217/300\n",
      "Training....\n"
     ]
    },
    {
     "name": "stderr",
     "output_type": "stream",
     "text": [
      "100%|██████████| 23/23 [00:38<00:00,  1.69s/it]\n"
     ]
    },
    {
     "name": "stdout",
     "output_type": "stream",
     "text": [
      "Validating....\n"
     ]
    },
    {
     "name": "stderr",
     "output_type": "stream",
     "text": [
      "100%|██████████| 3/3 [00:01<00:00,  2.88it/s]\n"
     ]
    },
    {
     "name": "stdout",
     "output_type": "stream",
     "text": [
      "Training loss: 0.125\tTraining Accuracy: 95.01\n",
      "Validation loss: 0.343\tValidation Accuracy: 91.60\n",
      "Latest model saved as ./resnet18_outputs/latest.pth\n",
      "\n",
      "[INFO]: Epoch 218/300\n",
      "Training....\n"
     ]
    },
    {
     "name": "stderr",
     "output_type": "stream",
     "text": [
      "100%|██████████| 23/23 [00:32<00:00,  1.41s/it]\n"
     ]
    },
    {
     "name": "stdout",
     "output_type": "stream",
     "text": [
      "Validating....\n"
     ]
    },
    {
     "name": "stderr",
     "output_type": "stream",
     "text": [
      "100%|██████████| 3/3 [00:01<00:00,  2.79it/s]\n"
     ]
    },
    {
     "name": "stdout",
     "output_type": "stream",
     "text": [
      "Training loss: 0.108\tTraining Accuracy: 95.85\n",
      "Validation loss: 0.388\tValidation Accuracy: 87.08\n",
      "Latest model saved as ./resnet18_outputs/latest.pth\n",
      "\n",
      "[INFO]: Epoch 219/300\n",
      "Training....\n"
     ]
    },
    {
     "name": "stderr",
     "output_type": "stream",
     "text": [
      "100%|██████████| 23/23 [00:35<00:00,  1.54s/it]\n"
     ]
    },
    {
     "name": "stdout",
     "output_type": "stream",
     "text": [
      "Validating....\n"
     ]
    },
    {
     "name": "stderr",
     "output_type": "stream",
     "text": [
      "100%|██████████| 3/3 [00:01<00:00,  2.36it/s]\n"
     ]
    },
    {
     "name": "stdout",
     "output_type": "stream",
     "text": [
      "Training loss: 0.111\tTraining Accuracy: 95.67\n",
      "Validation loss: 0.313\tValidation Accuracy: 89.44\n",
      "Best model saved as ./resnet18_outputs/best.pth\n",
      "Latest model saved as ./resnet18_outputs/latest.pth\n",
      "\n",
      "[INFO]: Epoch 220/300\n",
      "Training....\n"
     ]
    },
    {
     "name": "stderr",
     "output_type": "stream",
     "text": [
      "100%|██████████| 23/23 [00:37<00:00,  1.64s/it]\n"
     ]
    },
    {
     "name": "stdout",
     "output_type": "stream",
     "text": [
      "Validating....\n"
     ]
    },
    {
     "name": "stderr",
     "output_type": "stream",
     "text": [
      "100%|██████████| 3/3 [00:01<00:00,  2.38it/s]\n"
     ]
    },
    {
     "name": "stdout",
     "output_type": "stream",
     "text": [
      "Training loss: 0.124\tTraining Accuracy: 95.23\n",
      "Validation loss: 0.452\tValidation Accuracy: 88.82\n",
      "Latest model saved as ./resnet18_outputs/latest.pth\n",
      "\n",
      "[INFO]: Epoch 221/300\n",
      "Training....\n"
     ]
    },
    {
     "name": "stderr",
     "output_type": "stream",
     "text": [
      "100%|██████████| 23/23 [00:37<00:00,  1.63s/it]\n"
     ]
    },
    {
     "name": "stdout",
     "output_type": "stream",
     "text": [
      "Validating....\n"
     ]
    },
    {
     "name": "stderr",
     "output_type": "stream",
     "text": [
      "100%|██████████| 3/3 [00:01<00:00,  2.15it/s]\n"
     ]
    },
    {
     "name": "stdout",
     "output_type": "stream",
     "text": [
      "Training loss: 0.108\tTraining Accuracy: 95.64\n",
      "Validation loss: 0.453\tValidation Accuracy: 86.88\n",
      "Latest model saved as ./resnet18_outputs/latest.pth\n",
      "\n",
      "[INFO]: Epoch 222/300\n",
      "Training....\n"
     ]
    },
    {
     "name": "stderr",
     "output_type": "stream",
     "text": [
      "100%|██████████| 23/23 [00:35<00:00,  1.55s/it]\n"
     ]
    },
    {
     "name": "stdout",
     "output_type": "stream",
     "text": [
      "Validating....\n"
     ]
    },
    {
     "name": "stderr",
     "output_type": "stream",
     "text": [
      "100%|██████████| 3/3 [00:01<00:00,  2.12it/s]\n"
     ]
    },
    {
     "name": "stdout",
     "output_type": "stream",
     "text": [
      "Training loss: 0.117\tTraining Accuracy: 95.48\n",
      "Validation loss: 0.285\tValidation Accuracy: 91.25\n",
      "Best model saved as ./resnet18_outputs/best.pth\n",
      "Latest model saved as ./resnet18_outputs/latest.pth\n",
      "\n",
      "[INFO]: Epoch 223/300\n",
      "Training....\n"
     ]
    },
    {
     "name": "stderr",
     "output_type": "stream",
     "text": [
      "100%|██████████| 23/23 [00:33<00:00,  1.45s/it]\n"
     ]
    },
    {
     "name": "stdout",
     "output_type": "stream",
     "text": [
      "Validating....\n"
     ]
    },
    {
     "name": "stderr",
     "output_type": "stream",
     "text": [
      "100%|██████████| 3/3 [00:01<00:00,  2.85it/s]\n"
     ]
    },
    {
     "name": "stdout",
     "output_type": "stream",
     "text": [
      "Training loss: 0.122\tTraining Accuracy: 95.50\n",
      "Validation loss: 0.836\tValidation Accuracy: 76.53\n",
      "Latest model saved as ./resnet18_outputs/latest.pth\n",
      "\n",
      "[INFO]: Epoch 224/300\n",
      "Training....\n"
     ]
    },
    {
     "name": "stderr",
     "output_type": "stream",
     "text": [
      "100%|██████████| 23/23 [00:35<00:00,  1.53s/it]\n"
     ]
    },
    {
     "name": "stdout",
     "output_type": "stream",
     "text": [
      "Validating....\n"
     ]
    },
    {
     "name": "stderr",
     "output_type": "stream",
     "text": [
      "100%|██████████| 3/3 [00:01<00:00,  2.08it/s]\n"
     ]
    },
    {
     "name": "stdout",
     "output_type": "stream",
     "text": [
      "Training loss: 0.109\tTraining Accuracy: 95.80\n",
      "Validation loss: 0.447\tValidation Accuracy: 87.57\n",
      "Latest model saved as ./resnet18_outputs/latest.pth\n",
      "\n",
      "[INFO]: Epoch 225/300\n",
      "Training....\n"
     ]
    },
    {
     "name": "stderr",
     "output_type": "stream",
     "text": [
      "100%|██████████| 23/23 [00:37<00:00,  1.62s/it]\n"
     ]
    },
    {
     "name": "stdout",
     "output_type": "stream",
     "text": [
      "Validating....\n"
     ]
    },
    {
     "name": "stderr",
     "output_type": "stream",
     "text": [
      "100%|██████████| 3/3 [00:01<00:00,  2.90it/s]\n"
     ]
    },
    {
     "name": "stdout",
     "output_type": "stream",
     "text": [
      "Training loss: 0.103\tTraining Accuracy: 95.95\n",
      "Validation loss: 0.289\tValidation Accuracy: 92.43\n",
      "Latest model saved as ./resnet18_outputs/latest.pth\n",
      "\n",
      "[INFO]: Epoch 226/300\n",
      "Training....\n"
     ]
    },
    {
     "name": "stderr",
     "output_type": "stream",
     "text": [
      "100%|██████████| 23/23 [00:33<00:00,  1.44s/it]\n"
     ]
    },
    {
     "name": "stdout",
     "output_type": "stream",
     "text": [
      "Validating....\n"
     ]
    },
    {
     "name": "stderr",
     "output_type": "stream",
     "text": [
      "100%|██████████| 3/3 [00:01<00:00,  2.89it/s]\n"
     ]
    },
    {
     "name": "stdout",
     "output_type": "stream",
     "text": [
      "Training loss: 0.107\tTraining Accuracy: 95.82\n",
      "Validation loss: 0.336\tValidation Accuracy: 89.65\n",
      "Latest model saved as ./resnet18_outputs/latest.pth\n",
      "\n",
      "[INFO]: Epoch 227/300\n",
      "Training....\n"
     ]
    },
    {
     "name": "stderr",
     "output_type": "stream",
     "text": [
      "100%|██████████| 23/23 [00:41<00:00,  1.80s/it]\n"
     ]
    },
    {
     "name": "stdout",
     "output_type": "stream",
     "text": [
      "Validating....\n"
     ]
    },
    {
     "name": "stderr",
     "output_type": "stream",
     "text": [
      "100%|██████████| 3/3 [00:01<00:00,  2.90it/s]\n"
     ]
    },
    {
     "name": "stdout",
     "output_type": "stream",
     "text": [
      "Training loss: 0.110\tTraining Accuracy: 95.75\n",
      "Validation loss: 0.641\tValidation Accuracy: 82.99\n",
      "Latest model saved as ./resnet18_outputs/latest.pth\n",
      "\n",
      "[INFO]: Epoch 228/300\n",
      "Training....\n"
     ]
    },
    {
     "name": "stderr",
     "output_type": "stream",
     "text": [
      "100%|██████████| 23/23 [00:34<00:00,  1.48s/it]\n"
     ]
    },
    {
     "name": "stdout",
     "output_type": "stream",
     "text": [
      "Validating....\n"
     ]
    },
    {
     "name": "stderr",
     "output_type": "stream",
     "text": [
      "100%|██████████| 3/3 [00:01<00:00,  2.54it/s]\n"
     ]
    },
    {
     "name": "stdout",
     "output_type": "stream",
     "text": [
      "Training loss: 0.110\tTraining Accuracy: 95.72\n",
      "Validation loss: 1.037\tValidation Accuracy: 70.76\n",
      "Latest model saved as ./resnet18_outputs/latest.pth\n",
      "\n",
      "[INFO]: Epoch 229/300\n",
      "Training....\n"
     ]
    },
    {
     "name": "stderr",
     "output_type": "stream",
     "text": [
      "100%|██████████| 23/23 [00:31<00:00,  1.37s/it]\n"
     ]
    },
    {
     "name": "stdout",
     "output_type": "stream",
     "text": [
      "Validating....\n"
     ]
    },
    {
     "name": "stderr",
     "output_type": "stream",
     "text": [
      "100%|██████████| 3/3 [00:01<00:00,  2.92it/s]\n"
     ]
    },
    {
     "name": "stdout",
     "output_type": "stream",
     "text": [
      "Training loss: 0.099\tTraining Accuracy: 96.13\n",
      "Validation loss: 0.768\tValidation Accuracy: 78.75\n",
      "Latest model saved as ./resnet18_outputs/latest.pth\n",
      "\n",
      "[INFO]: Epoch 230/300\n",
      "Training....\n"
     ]
    },
    {
     "name": "stderr",
     "output_type": "stream",
     "text": [
      "100%|██████████| 23/23 [00:34<00:00,  1.50s/it]\n"
     ]
    },
    {
     "name": "stdout",
     "output_type": "stream",
     "text": [
      "Validating....\n"
     ]
    },
    {
     "name": "stderr",
     "output_type": "stream",
     "text": [
      "100%|██████████| 3/3 [00:01<00:00,  2.91it/s]\n"
     ]
    },
    {
     "name": "stdout",
     "output_type": "stream",
     "text": [
      "Training loss: 0.105\tTraining Accuracy: 95.96\n",
      "Validation loss: 1.303\tValidation Accuracy: 70.42\n",
      "Latest model saved as ./resnet18_outputs/latest.pth\n",
      "\n",
      "[INFO]: Epoch 231/300\n",
      "Training....\n"
     ]
    },
    {
     "name": "stderr",
     "output_type": "stream",
     "text": [
      "100%|██████████| 23/23 [00:36<00:00,  1.57s/it]\n"
     ]
    },
    {
     "name": "stdout",
     "output_type": "stream",
     "text": [
      "Validating....\n"
     ]
    },
    {
     "name": "stderr",
     "output_type": "stream",
     "text": [
      "100%|██████████| 3/3 [00:01<00:00,  2.91it/s]\n"
     ]
    },
    {
     "name": "stdout",
     "output_type": "stream",
     "text": [
      "Training loss: 0.097\tTraining Accuracy: 96.22\n",
      "Validation loss: 0.252\tValidation Accuracy: 92.64\n",
      "Best model saved as ./resnet18_outputs/best.pth\n",
      "Latest model saved as ./resnet18_outputs/latest.pth\n",
      "\n",
      "[INFO]: Epoch 232/300\n",
      "Training....\n"
     ]
    },
    {
     "name": "stderr",
     "output_type": "stream",
     "text": [
      "100%|██████████| 23/23 [00:39<00:00,  1.71s/it]\n"
     ]
    },
    {
     "name": "stdout",
     "output_type": "stream",
     "text": [
      "Validating....\n"
     ]
    },
    {
     "name": "stderr",
     "output_type": "stream",
     "text": [
      "100%|██████████| 3/3 [00:01<00:00,  2.87it/s]\n"
     ]
    },
    {
     "name": "stdout",
     "output_type": "stream",
     "text": [
      "Training loss: 0.105\tTraining Accuracy: 95.87\n",
      "Validation loss: 0.345\tValidation Accuracy: 89.31\n",
      "Latest model saved as ./resnet18_outputs/latest.pth\n",
      "\n",
      "[INFO]: Epoch 233/300\n",
      "Training....\n"
     ]
    },
    {
     "name": "stderr",
     "output_type": "stream",
     "text": [
      "100%|██████████| 23/23 [00:35<00:00,  1.54s/it]\n"
     ]
    },
    {
     "name": "stdout",
     "output_type": "stream",
     "text": [
      "Validating....\n"
     ]
    },
    {
     "name": "stderr",
     "output_type": "stream",
     "text": [
      "100%|██████████| 3/3 [00:01<00:00,  2.93it/s]\n"
     ]
    },
    {
     "name": "stdout",
     "output_type": "stream",
     "text": [
      "Training loss: 0.113\tTraining Accuracy: 95.85\n",
      "Validation loss: 0.795\tValidation Accuracy: 80.49\n",
      "Latest model saved as ./resnet18_outputs/latest.pth\n",
      "\n",
      "[INFO]: Epoch 234/300\n",
      "Training....\n"
     ]
    },
    {
     "name": "stderr",
     "output_type": "stream",
     "text": [
      "100%|██████████| 23/23 [00:36<00:00,  1.58s/it]\n"
     ]
    },
    {
     "name": "stdout",
     "output_type": "stream",
     "text": [
      "Validating....\n"
     ]
    },
    {
     "name": "stderr",
     "output_type": "stream",
     "text": [
      "100%|██████████| 3/3 [00:01<00:00,  2.89it/s]\n"
     ]
    },
    {
     "name": "stdout",
     "output_type": "stream",
     "text": [
      "Training loss: 0.112\tTraining Accuracy: 95.44\n",
      "Validation loss: 0.981\tValidation Accuracy: 75.42\n",
      "Latest model saved as ./resnet18_outputs/latest.pth\n",
      "\n",
      "[INFO]: Epoch 235/300\n",
      "Training....\n"
     ]
    },
    {
     "name": "stderr",
     "output_type": "stream",
     "text": [
      "100%|██████████| 23/23 [00:36<00:00,  1.57s/it]\n"
     ]
    },
    {
     "name": "stdout",
     "output_type": "stream",
     "text": [
      "Validating....\n"
     ]
    },
    {
     "name": "stderr",
     "output_type": "stream",
     "text": [
      "100%|██████████| 3/3 [00:01<00:00,  2.10it/s]\n"
     ]
    },
    {
     "name": "stdout",
     "output_type": "stream",
     "text": [
      "Training loss: 0.101\tTraining Accuracy: 95.79\n",
      "Validation loss: 0.413\tValidation Accuracy: 88.47\n",
      "Latest model saved as ./resnet18_outputs/latest.pth\n",
      "\n",
      "[INFO]: Epoch 236/300\n",
      "Training....\n"
     ]
    },
    {
     "name": "stderr",
     "output_type": "stream",
     "text": [
      "100%|██████████| 23/23 [00:39<00:00,  1.70s/it]\n"
     ]
    },
    {
     "name": "stdout",
     "output_type": "stream",
     "text": [
      "Validating....\n"
     ]
    },
    {
     "name": "stderr",
     "output_type": "stream",
     "text": [
      "100%|██████████| 3/3 [00:01<00:00,  2.56it/s]\n"
     ]
    },
    {
     "name": "stdout",
     "output_type": "stream",
     "text": [
      "Training loss: 0.095\tTraining Accuracy: 96.03\n",
      "Validation loss: 1.047\tValidation Accuracy: 75.83\n",
      "Latest model saved as ./resnet18_outputs/latest.pth\n",
      "\n",
      "[INFO]: Epoch 237/300\n",
      "Training....\n"
     ]
    },
    {
     "name": "stderr",
     "output_type": "stream",
     "text": [
      "100%|██████████| 23/23 [00:39<00:00,  1.72s/it]\n"
     ]
    },
    {
     "name": "stdout",
     "output_type": "stream",
     "text": [
      "Validating....\n"
     ]
    },
    {
     "name": "stderr",
     "output_type": "stream",
     "text": [
      "100%|██████████| 3/3 [00:01<00:00,  2.84it/s]\n"
     ]
    },
    {
     "name": "stdout",
     "output_type": "stream",
     "text": [
      "Training loss: 0.092\tTraining Accuracy: 96.16\n",
      "Validation loss: 0.159\tValidation Accuracy: 94.31\n",
      "Best model saved as ./resnet18_outputs/best.pth\n",
      "Latest model saved as ./resnet18_outputs/latest.pth\n",
      "\n",
      "[INFO]: Epoch 238/300\n",
      "Training....\n"
     ]
    },
    {
     "name": "stderr",
     "output_type": "stream",
     "text": [
      "100%|██████████| 23/23 [00:40<00:00,  1.76s/it]\n"
     ]
    },
    {
     "name": "stdout",
     "output_type": "stream",
     "text": [
      "Validating....\n"
     ]
    },
    {
     "name": "stderr",
     "output_type": "stream",
     "text": [
      "100%|██████████| 3/3 [00:01<00:00,  2.99it/s]\n"
     ]
    },
    {
     "name": "stdout",
     "output_type": "stream",
     "text": [
      "Training loss: 0.088\tTraining Accuracy: 96.48\n",
      "Validation loss: 0.893\tValidation Accuracy: 78.68\n",
      "Latest model saved as ./resnet18_outputs/latest.pth\n",
      "\n",
      "[INFO]: Epoch 239/300\n",
      "Training....\n"
     ]
    },
    {
     "name": "stderr",
     "output_type": "stream",
     "text": [
      "100%|██████████| 23/23 [00:39<00:00,  1.71s/it]\n"
     ]
    },
    {
     "name": "stdout",
     "output_type": "stream",
     "text": [
      "Validating....\n"
     ]
    },
    {
     "name": "stderr",
     "output_type": "stream",
     "text": [
      "100%|██████████| 3/3 [00:01<00:00,  2.86it/s]\n"
     ]
    },
    {
     "name": "stdout",
     "output_type": "stream",
     "text": [
      "Training loss: 0.111\tTraining Accuracy: 95.77\n",
      "Validation loss: 6.395\tValidation Accuracy: 28.40\n",
      "Latest model saved as ./resnet18_outputs/latest.pth\n",
      "\n",
      "[INFO]: Epoch 240/300\n",
      "Training....\n"
     ]
    },
    {
     "name": "stderr",
     "output_type": "stream",
     "text": [
      "100%|██████████| 23/23 [00:36<00:00,  1.58s/it]\n"
     ]
    },
    {
     "name": "stdout",
     "output_type": "stream",
     "text": [
      "Validating....\n"
     ]
    },
    {
     "name": "stderr",
     "output_type": "stream",
     "text": [
      "100%|██████████| 3/3 [00:01<00:00,  2.80it/s]\n"
     ]
    },
    {
     "name": "stdout",
     "output_type": "stream",
     "text": [
      "Training loss: 0.107\tTraining Accuracy: 95.80\n",
      "Validation loss: 0.756\tValidation Accuracy: 84.72\n",
      "Latest model saved as ./resnet18_outputs/latest.pth\n",
      "\n",
      "[INFO]: Epoch 241/300\n",
      "Training....\n"
     ]
    },
    {
     "name": "stderr",
     "output_type": "stream",
     "text": [
      "100%|██████████| 23/23 [00:43<00:00,  1.90s/it]\n"
     ]
    },
    {
     "name": "stdout",
     "output_type": "stream",
     "text": [
      "Validating....\n"
     ]
    },
    {
     "name": "stderr",
     "output_type": "stream",
     "text": [
      "100%|██████████| 3/3 [00:01<00:00,  2.30it/s]\n"
     ]
    },
    {
     "name": "stdout",
     "output_type": "stream",
     "text": [
      "Training loss: 0.106\tTraining Accuracy: 95.82\n",
      "Validation loss: 1.152\tValidation Accuracy: 69.79\n",
      "Latest model saved as ./resnet18_outputs/latest.pth\n",
      "\n",
      "[INFO]: Epoch 242/300\n",
      "Training....\n"
     ]
    },
    {
     "name": "stderr",
     "output_type": "stream",
     "text": [
      "100%|██████████| 23/23 [00:36<00:00,  1.58s/it]\n"
     ]
    },
    {
     "name": "stdout",
     "output_type": "stream",
     "text": [
      "Validating....\n"
     ]
    },
    {
     "name": "stderr",
     "output_type": "stream",
     "text": [
      "100%|██████████| 3/3 [00:01<00:00,  2.82it/s]\n"
     ]
    },
    {
     "name": "stdout",
     "output_type": "stream",
     "text": [
      "Training loss: 0.099\tTraining Accuracy: 95.90\n",
      "Validation loss: 0.283\tValidation Accuracy: 91.53\n",
      "Latest model saved as ./resnet18_outputs/latest.pth\n",
      "\n",
      "[INFO]: Epoch 243/300\n",
      "Training....\n"
     ]
    },
    {
     "name": "stderr",
     "output_type": "stream",
     "text": [
      "100%|██████████| 23/23 [00:37<00:00,  1.63s/it]\n"
     ]
    },
    {
     "name": "stdout",
     "output_type": "stream",
     "text": [
      "Validating....\n"
     ]
    },
    {
     "name": "stderr",
     "output_type": "stream",
     "text": [
      "100%|██████████| 3/3 [00:01<00:00,  2.87it/s]\n"
     ]
    },
    {
     "name": "stdout",
     "output_type": "stream",
     "text": [
      "Training loss: 0.096\tTraining Accuracy: 96.29\n",
      "Validation loss: 0.907\tValidation Accuracy: 78.68\n",
      "Latest model saved as ./resnet18_outputs/latest.pth\n",
      "\n",
      "[INFO]: Epoch 244/300\n",
      "Training....\n"
     ]
    },
    {
     "name": "stderr",
     "output_type": "stream",
     "text": [
      "100%|██████████| 23/23 [00:36<00:00,  1.59s/it]\n"
     ]
    },
    {
     "name": "stdout",
     "output_type": "stream",
     "text": [
      "Validating....\n"
     ]
    },
    {
     "name": "stderr",
     "output_type": "stream",
     "text": [
      "100%|██████████| 3/3 [00:01<00:00,  2.84it/s]\n"
     ]
    },
    {
     "name": "stdout",
     "output_type": "stream",
     "text": [
      "Training loss: 0.098\tTraining Accuracy: 96.00\n",
      "Validation loss: 0.422\tValidation Accuracy: 87.29\n",
      "Latest model saved as ./resnet18_outputs/latest.pth\n",
      "\n",
      "[INFO]: Epoch 245/300\n",
      "Training....\n"
     ]
    },
    {
     "name": "stderr",
     "output_type": "stream",
     "text": [
      "100%|██████████| 23/23 [00:35<00:00,  1.55s/it]\n"
     ]
    },
    {
     "name": "stdout",
     "output_type": "stream",
     "text": [
      "Validating....\n"
     ]
    },
    {
     "name": "stderr",
     "output_type": "stream",
     "text": [
      "100%|██████████| 3/3 [00:01<00:00,  2.86it/s]\n"
     ]
    },
    {
     "name": "stdout",
     "output_type": "stream",
     "text": [
      "Training loss: 0.087\tTraining Accuracy: 96.55\n",
      "Validation loss: 0.230\tValidation Accuracy: 93.06\n",
      "Latest model saved as ./resnet18_outputs/latest.pth\n",
      "\n",
      "[INFO]: Epoch 246/300\n",
      "Training....\n"
     ]
    },
    {
     "name": "stderr",
     "output_type": "stream",
     "text": [
      "100%|██████████| 23/23 [00:37<00:00,  1.62s/it]\n"
     ]
    },
    {
     "name": "stdout",
     "output_type": "stream",
     "text": [
      "Validating....\n"
     ]
    },
    {
     "name": "stderr",
     "output_type": "stream",
     "text": [
      "100%|██████████| 3/3 [00:01<00:00,  2.83it/s]\n"
     ]
    },
    {
     "name": "stdout",
     "output_type": "stream",
     "text": [
      "Training loss: 0.087\tTraining Accuracy: 96.54\n",
      "Validation loss: 0.362\tValidation Accuracy: 89.58\n",
      "Latest model saved as ./resnet18_outputs/latest.pth\n",
      "\n",
      "[INFO]: Epoch 247/300\n",
      "Training....\n"
     ]
    },
    {
     "name": "stderr",
     "output_type": "stream",
     "text": [
      "100%|██████████| 23/23 [00:38<00:00,  1.66s/it]\n"
     ]
    },
    {
     "name": "stdout",
     "output_type": "stream",
     "text": [
      "Validating....\n"
     ]
    },
    {
     "name": "stderr",
     "output_type": "stream",
     "text": [
      "100%|██████████| 3/3 [00:01<00:00,  2.92it/s]\n"
     ]
    },
    {
     "name": "stdout",
     "output_type": "stream",
     "text": [
      "Training loss: 0.086\tTraining Accuracy: 96.60\n",
      "Validation loss: 0.245\tValidation Accuracy: 92.85\n",
      "Latest model saved as ./resnet18_outputs/latest.pth\n",
      "\n",
      "[INFO]: Epoch 248/300\n",
      "Training....\n"
     ]
    },
    {
     "name": "stderr",
     "output_type": "stream",
     "text": [
      "100%|██████████| 23/23 [00:35<00:00,  1.53s/it]\n"
     ]
    },
    {
     "name": "stdout",
     "output_type": "stream",
     "text": [
      "Validating....\n"
     ]
    },
    {
     "name": "stderr",
     "output_type": "stream",
     "text": [
      "100%|██████████| 3/3 [00:01<00:00,  2.59it/s]\n"
     ]
    },
    {
     "name": "stdout",
     "output_type": "stream",
     "text": [
      "Training loss: 0.089\tTraining Accuracy: 96.51\n",
      "Validation loss: 0.789\tValidation Accuracy: 81.46\n",
      "Latest model saved as ./resnet18_outputs/latest.pth\n",
      "\n",
      "[INFO]: Epoch 249/300\n",
      "Training....\n"
     ]
    },
    {
     "name": "stderr",
     "output_type": "stream",
     "text": [
      "100%|██████████| 23/23 [00:34<00:00,  1.51s/it]\n"
     ]
    },
    {
     "name": "stdout",
     "output_type": "stream",
     "text": [
      "Validating....\n"
     ]
    },
    {
     "name": "stderr",
     "output_type": "stream",
     "text": [
      "100%|██████████| 3/3 [00:01<00:00,  2.34it/s]\n"
     ]
    },
    {
     "name": "stdout",
     "output_type": "stream",
     "text": [
      "Training loss: 0.091\tTraining Accuracy: 96.34\n",
      "Validation loss: 0.660\tValidation Accuracy: 82.08\n",
      "Latest model saved as ./resnet18_outputs/latest.pth\n",
      "\n",
      "[INFO]: Epoch 250/300\n",
      "Training....\n"
     ]
    },
    {
     "name": "stderr",
     "output_type": "stream",
     "text": [
      "100%|██████████| 23/23 [00:37<00:00,  1.62s/it]\n"
     ]
    },
    {
     "name": "stdout",
     "output_type": "stream",
     "text": [
      "Validating....\n"
     ]
    },
    {
     "name": "stderr",
     "output_type": "stream",
     "text": [
      "100%|██████████| 3/3 [00:01<00:00,  2.86it/s]\n"
     ]
    },
    {
     "name": "stdout",
     "output_type": "stream",
     "text": [
      "Training loss: 0.089\tTraining Accuracy: 96.45\n",
      "Validation loss: 0.277\tValidation Accuracy: 92.43\n",
      "Latest model saved as ./resnet18_outputs/latest.pth\n",
      "\n",
      "[INFO]: Epoch 251/300\n",
      "Training....\n"
     ]
    },
    {
     "name": "stderr",
     "output_type": "stream",
     "text": [
      "100%|██████████| 23/23 [00:32<00:00,  1.40s/it]\n"
     ]
    },
    {
     "name": "stdout",
     "output_type": "stream",
     "text": [
      "Validating....\n"
     ]
    },
    {
     "name": "stderr",
     "output_type": "stream",
     "text": [
      "100%|██████████| 3/3 [00:01<00:00,  2.95it/s]\n"
     ]
    },
    {
     "name": "stdout",
     "output_type": "stream",
     "text": [
      "Training loss: 0.081\tTraining Accuracy: 96.77\n",
      "Validation loss: 0.272\tValidation Accuracy: 92.64\n",
      "Latest model saved as ./resnet18_outputs/latest.pth\n",
      "\n",
      "[INFO]: Epoch 252/300\n",
      "Training....\n"
     ]
    },
    {
     "name": "stderr",
     "output_type": "stream",
     "text": [
      "100%|██████████| 23/23 [00:39<00:00,  1.73s/it]\n"
     ]
    },
    {
     "name": "stdout",
     "output_type": "stream",
     "text": [
      "Validating....\n"
     ]
    },
    {
     "name": "stderr",
     "output_type": "stream",
     "text": [
      "100%|██████████| 3/3 [00:01<00:00,  2.50it/s]\n"
     ]
    },
    {
     "name": "stdout",
     "output_type": "stream",
     "text": [
      "Training loss: 0.074\tTraining Accuracy: 96.96\n",
      "Validation loss: 0.339\tValidation Accuracy: 90.49\n",
      "Latest model saved as ./resnet18_outputs/latest.pth\n",
      "\n",
      "[INFO]: Epoch 253/300\n",
      "Training....\n"
     ]
    },
    {
     "name": "stderr",
     "output_type": "stream",
     "text": [
      "100%|██████████| 23/23 [00:36<00:00,  1.57s/it]\n"
     ]
    },
    {
     "name": "stdout",
     "output_type": "stream",
     "text": [
      "Validating....\n"
     ]
    },
    {
     "name": "stderr",
     "output_type": "stream",
     "text": [
      "100%|██████████| 3/3 [00:01<00:00,  2.07it/s]\n"
     ]
    },
    {
     "name": "stdout",
     "output_type": "stream",
     "text": [
      "Training loss: 0.075\tTraining Accuracy: 96.81\n",
      "Validation loss: 0.262\tValidation Accuracy: 91.60\n",
      "Latest model saved as ./resnet18_outputs/latest.pth\n",
      "\n",
      "[INFO]: Epoch 254/300\n",
      "Training....\n"
     ]
    },
    {
     "name": "stderr",
     "output_type": "stream",
     "text": [
      "100%|██████████| 23/23 [00:35<00:00,  1.56s/it]\n"
     ]
    },
    {
     "name": "stdout",
     "output_type": "stream",
     "text": [
      "Validating....\n"
     ]
    },
    {
     "name": "stderr",
     "output_type": "stream",
     "text": [
      "100%|██████████| 3/3 [00:01<00:00,  2.09it/s]\n"
     ]
    },
    {
     "name": "stdout",
     "output_type": "stream",
     "text": [
      "Training loss: 0.091\tTraining Accuracy: 96.43\n",
      "Validation loss: 0.248\tValidation Accuracy: 93.19\n",
      "Latest model saved as ./resnet18_outputs/latest.pth\n",
      "\n",
      "[INFO]: Epoch 255/300\n",
      "Training....\n"
     ]
    },
    {
     "name": "stderr",
     "output_type": "stream",
     "text": [
      "100%|██████████| 23/23 [00:37<00:00,  1.63s/it]\n"
     ]
    },
    {
     "name": "stdout",
     "output_type": "stream",
     "text": [
      "Validating....\n"
     ]
    },
    {
     "name": "stderr",
     "output_type": "stream",
     "text": [
      "100%|██████████| 3/3 [00:01<00:00,  2.85it/s]\n"
     ]
    },
    {
     "name": "stdout",
     "output_type": "stream",
     "text": [
      "Training loss: 0.085\tTraining Accuracy: 96.74\n",
      "Validation loss: 0.394\tValidation Accuracy: 90.90\n",
      "Latest model saved as ./resnet18_outputs/latest.pth\n",
      "\n",
      "[INFO]: Epoch 256/300\n",
      "Training....\n"
     ]
    },
    {
     "name": "stderr",
     "output_type": "stream",
     "text": [
      "100%|██████████| 23/23 [00:36<00:00,  1.58s/it]\n"
     ]
    },
    {
     "name": "stdout",
     "output_type": "stream",
     "text": [
      "Validating....\n"
     ]
    },
    {
     "name": "stderr",
     "output_type": "stream",
     "text": [
      "100%|██████████| 3/3 [00:01<00:00,  2.90it/s]\n"
     ]
    },
    {
     "name": "stdout",
     "output_type": "stream",
     "text": [
      "Training loss: 0.098\tTraining Accuracy: 96.15\n",
      "Validation loss: 0.740\tValidation Accuracy: 82.08\n",
      "Latest model saved as ./resnet18_outputs/latest.pth\n",
      "\n",
      "[INFO]: Epoch 257/300\n",
      "Training....\n"
     ]
    },
    {
     "name": "stderr",
     "output_type": "stream",
     "text": [
      "100%|██████████| 23/23 [00:36<00:00,  1.58s/it]\n"
     ]
    },
    {
     "name": "stdout",
     "output_type": "stream",
     "text": [
      "Validating....\n"
     ]
    },
    {
     "name": "stderr",
     "output_type": "stream",
     "text": [
      "100%|██████████| 3/3 [00:01<00:00,  2.35it/s]\n"
     ]
    },
    {
     "name": "stdout",
     "output_type": "stream",
     "text": [
      "Training loss: 0.098\tTraining Accuracy: 96.04\n",
      "Validation loss: 0.327\tValidation Accuracy: 90.21\n",
      "Latest model saved as ./resnet18_outputs/latest.pth\n",
      "\n",
      "[INFO]: Epoch 258/300\n",
      "Training....\n"
     ]
    },
    {
     "name": "stderr",
     "output_type": "stream",
     "text": [
      "100%|██████████| 23/23 [00:37<00:00,  1.64s/it]\n"
     ]
    },
    {
     "name": "stdout",
     "output_type": "stream",
     "text": [
      "Validating....\n"
     ]
    },
    {
     "name": "stderr",
     "output_type": "stream",
     "text": [
      "100%|██████████| 3/3 [00:01<00:00,  2.33it/s]\n"
     ]
    },
    {
     "name": "stdout",
     "output_type": "stream",
     "text": [
      "Training loss: 0.097\tTraining Accuracy: 96.19\n",
      "Validation loss: 0.367\tValidation Accuracy: 92.01\n",
      "Latest model saved as ./resnet18_outputs/latest.pth\n",
      "\n",
      "[INFO]: Epoch 259/300\n",
      "Training....\n"
     ]
    },
    {
     "name": "stderr",
     "output_type": "stream",
     "text": [
      "100%|██████████| 23/23 [00:37<00:00,  1.62s/it]\n"
     ]
    },
    {
     "name": "stdout",
     "output_type": "stream",
     "text": [
      "Validating....\n"
     ]
    },
    {
     "name": "stderr",
     "output_type": "stream",
     "text": [
      "100%|██████████| 3/3 [00:01<00:00,  2.95it/s]\n"
     ]
    },
    {
     "name": "stdout",
     "output_type": "stream",
     "text": [
      "Training loss: 0.097\tTraining Accuracy: 96.18\n",
      "Validation loss: 0.579\tValidation Accuracy: 82.71\n",
      "Latest model saved as ./resnet18_outputs/latest.pth\n",
      "\n",
      "[INFO]: Epoch 260/300\n",
      "Training....\n"
     ]
    },
    {
     "name": "stderr",
     "output_type": "stream",
     "text": [
      "100%|██████████| 23/23 [00:33<00:00,  1.45s/it]\n"
     ]
    },
    {
     "name": "stdout",
     "output_type": "stream",
     "text": [
      "Validating....\n"
     ]
    },
    {
     "name": "stderr",
     "output_type": "stream",
     "text": [
      "100%|██████████| 3/3 [00:01<00:00,  2.92it/s]\n"
     ]
    },
    {
     "name": "stdout",
     "output_type": "stream",
     "text": [
      "Training loss: 0.085\tTraining Accuracy: 96.61\n",
      "Validation loss: 0.291\tValidation Accuracy: 91.25\n",
      "Latest model saved as ./resnet18_outputs/latest.pth\n",
      "\n",
      "[INFO]: Epoch 261/300\n",
      "Training....\n"
     ]
    },
    {
     "name": "stderr",
     "output_type": "stream",
     "text": [
      "100%|██████████| 23/23 [00:32<00:00,  1.41s/it]\n"
     ]
    },
    {
     "name": "stdout",
     "output_type": "stream",
     "text": [
      "Validating....\n"
     ]
    },
    {
     "name": "stderr",
     "output_type": "stream",
     "text": [
      "100%|██████████| 3/3 [00:01<00:00,  2.53it/s]\n"
     ]
    },
    {
     "name": "stdout",
     "output_type": "stream",
     "text": [
      "Training loss: 0.085\tTraining Accuracy: 96.70\n",
      "Validation loss: 0.246\tValidation Accuracy: 94.10\n",
      "Latest model saved as ./resnet18_outputs/latest.pth\n",
      "\n",
      "[INFO]: Epoch 262/300\n",
      "Training....\n"
     ]
    },
    {
     "name": "stderr",
     "output_type": "stream",
     "text": [
      "100%|██████████| 23/23 [00:38<00:00,  1.67s/it]\n"
     ]
    },
    {
     "name": "stdout",
     "output_type": "stream",
     "text": [
      "Validating....\n"
     ]
    },
    {
     "name": "stderr",
     "output_type": "stream",
     "text": [
      "100%|██████████| 3/3 [00:01<00:00,  2.53it/s]\n"
     ]
    },
    {
     "name": "stdout",
     "output_type": "stream",
     "text": [
      "Training loss: 0.092\tTraining Accuracy: 96.51\n",
      "Validation loss: 0.294\tValidation Accuracy: 91.46\n",
      "Latest model saved as ./resnet18_outputs/latest.pth\n",
      "\n",
      "[INFO]: Epoch 263/300\n",
      "Training....\n"
     ]
    },
    {
     "name": "stderr",
     "output_type": "stream",
     "text": [
      "100%|██████████| 23/23 [00:37<00:00,  1.63s/it]\n"
     ]
    },
    {
     "name": "stdout",
     "output_type": "stream",
     "text": [
      "Validating....\n"
     ]
    },
    {
     "name": "stderr",
     "output_type": "stream",
     "text": [
      "100%|██████████| 3/3 [00:01<00:00,  2.89it/s]\n"
     ]
    },
    {
     "name": "stdout",
     "output_type": "stream",
     "text": [
      "Training loss: 0.099\tTraining Accuracy: 96.21\n",
      "Validation loss: 1.689\tValidation Accuracy: 70.07\n",
      "Latest model saved as ./resnet18_outputs/latest.pth\n",
      "\n",
      "[INFO]: Epoch 264/300\n",
      "Training....\n"
     ]
    },
    {
     "name": "stderr",
     "output_type": "stream",
     "text": [
      "100%|██████████| 23/23 [00:35<00:00,  1.54s/it]\n"
     ]
    },
    {
     "name": "stdout",
     "output_type": "stream",
     "text": [
      "Validating....\n"
     ]
    },
    {
     "name": "stderr",
     "output_type": "stream",
     "text": [
      "100%|██████████| 3/3 [00:01<00:00,  2.77it/s]\n"
     ]
    },
    {
     "name": "stdout",
     "output_type": "stream",
     "text": [
      "Training loss: 0.104\tTraining Accuracy: 95.89\n",
      "Validation loss: 0.148\tValidation Accuracy: 95.00\n",
      "Best model saved as ./resnet18_outputs/best.pth\n",
      "Latest model saved as ./resnet18_outputs/latest.pth\n",
      "\n",
      "[INFO]: Epoch 265/300\n",
      "Training....\n"
     ]
    },
    {
     "name": "stderr",
     "output_type": "stream",
     "text": [
      "100%|██████████| 23/23 [00:37<00:00,  1.63s/it]\n"
     ]
    },
    {
     "name": "stdout",
     "output_type": "stream",
     "text": [
      "Validating....\n"
     ]
    },
    {
     "name": "stderr",
     "output_type": "stream",
     "text": [
      "100%|██████████| 3/3 [00:01<00:00,  2.92it/s]\n"
     ]
    },
    {
     "name": "stdout",
     "output_type": "stream",
     "text": [
      "Training loss: 0.097\tTraining Accuracy: 96.33\n",
      "Validation loss: 0.384\tValidation Accuracy: 89.38\n",
      "Latest model saved as ./resnet18_outputs/latest.pth\n",
      "\n",
      "[INFO]: Epoch 266/300\n",
      "Training....\n"
     ]
    },
    {
     "name": "stderr",
     "output_type": "stream",
     "text": [
      "100%|██████████| 23/23 [00:31<00:00,  1.38s/it]\n"
     ]
    },
    {
     "name": "stdout",
     "output_type": "stream",
     "text": [
      "Validating....\n"
     ]
    },
    {
     "name": "stderr",
     "output_type": "stream",
     "text": [
      "100%|██████████| 3/3 [00:01<00:00,  2.90it/s]\n"
     ]
    },
    {
     "name": "stdout",
     "output_type": "stream",
     "text": [
      "Training loss: 0.079\tTraining Accuracy: 96.74\n",
      "Validation loss: 1.221\tValidation Accuracy: 72.78\n",
      "Latest model saved as ./resnet18_outputs/latest.pth\n",
      "\n",
      "[INFO]: Epoch 267/300\n",
      "Training....\n"
     ]
    },
    {
     "name": "stderr",
     "output_type": "stream",
     "text": [
      "100%|██████████| 23/23 [00:39<00:00,  1.72s/it]\n"
     ]
    },
    {
     "name": "stdout",
     "output_type": "stream",
     "text": [
      "Validating....\n"
     ]
    },
    {
     "name": "stderr",
     "output_type": "stream",
     "text": [
      "100%|██████████| 3/3 [00:01<00:00,  2.86it/s]\n"
     ]
    },
    {
     "name": "stdout",
     "output_type": "stream",
     "text": [
      "Training loss: 0.093\tTraining Accuracy: 96.37\n",
      "Validation loss: 1.500\tValidation Accuracy: 75.35\n",
      "Latest model saved as ./resnet18_outputs/latest.pth\n",
      "\n",
      "[INFO]: Epoch 268/300\n",
      "Training....\n"
     ]
    },
    {
     "name": "stderr",
     "output_type": "stream",
     "text": [
      "100%|██████████| 23/23 [00:35<00:00,  1.53s/it]\n"
     ]
    },
    {
     "name": "stdout",
     "output_type": "stream",
     "text": [
      "Validating....\n"
     ]
    },
    {
     "name": "stderr",
     "output_type": "stream",
     "text": [
      "100%|██████████| 3/3 [00:01<00:00,  2.91it/s]\n"
     ]
    },
    {
     "name": "stdout",
     "output_type": "stream",
     "text": [
      "Training loss: 0.080\tTraining Accuracy: 96.87\n",
      "Validation loss: 0.269\tValidation Accuracy: 92.29\n",
      "Latest model saved as ./resnet18_outputs/latest.pth\n",
      "\n",
      "[INFO]: Epoch 269/300\n",
      "Training....\n"
     ]
    },
    {
     "name": "stderr",
     "output_type": "stream",
     "text": [
      "100%|██████████| 23/23 [00:38<00:00,  1.68s/it]\n"
     ]
    },
    {
     "name": "stdout",
     "output_type": "stream",
     "text": [
      "Validating....\n"
     ]
    },
    {
     "name": "stderr",
     "output_type": "stream",
     "text": [
      "100%|██████████| 3/3 [00:01<00:00,  2.88it/s]\n"
     ]
    },
    {
     "name": "stdout",
     "output_type": "stream",
     "text": [
      "Training loss: 0.080\tTraining Accuracy: 96.87\n",
      "Validation loss: 0.204\tValidation Accuracy: 94.10\n",
      "Latest model saved as ./resnet18_outputs/latest.pth\n",
      "\n",
      "[INFO]: Epoch 270/300\n",
      "Training....\n"
     ]
    },
    {
     "name": "stderr",
     "output_type": "stream",
     "text": [
      "100%|██████████| 23/23 [00:35<00:00,  1.53s/it]\n"
     ]
    },
    {
     "name": "stdout",
     "output_type": "stream",
     "text": [
      "Validating....\n"
     ]
    },
    {
     "name": "stderr",
     "output_type": "stream",
     "text": [
      "100%|██████████| 3/3 [00:01<00:00,  2.86it/s]\n"
     ]
    },
    {
     "name": "stdout",
     "output_type": "stream",
     "text": [
      "Training loss: 0.078\tTraining Accuracy: 96.84\n",
      "Validation loss: 0.222\tValidation Accuracy: 94.44\n",
      "Latest model saved as ./resnet18_outputs/latest.pth\n",
      "\n",
      "[INFO]: Epoch 271/300\n",
      "Training....\n"
     ]
    },
    {
     "name": "stderr",
     "output_type": "stream",
     "text": [
      "100%|██████████| 23/23 [00:33<00:00,  1.46s/it]\n"
     ]
    },
    {
     "name": "stdout",
     "output_type": "stream",
     "text": [
      "Validating....\n"
     ]
    },
    {
     "name": "stderr",
     "output_type": "stream",
     "text": [
      "100%|██████████| 3/3 [00:01<00:00,  2.91it/s]\n"
     ]
    },
    {
     "name": "stdout",
     "output_type": "stream",
     "text": [
      "Training loss: 0.089\tTraining Accuracy: 96.47\n",
      "Validation loss: 0.707\tValidation Accuracy: 82.57\n",
      "Latest model saved as ./resnet18_outputs/latest.pth\n",
      "\n",
      "[INFO]: Epoch 272/300\n",
      "Training....\n"
     ]
    },
    {
     "name": "stderr",
     "output_type": "stream",
     "text": [
      "100%|██████████| 23/23 [00:31<00:00,  1.36s/it]\n"
     ]
    },
    {
     "name": "stdout",
     "output_type": "stream",
     "text": [
      "Validating....\n"
     ]
    },
    {
     "name": "stderr",
     "output_type": "stream",
     "text": [
      "100%|██████████| 3/3 [00:01<00:00,  2.57it/s]\n"
     ]
    },
    {
     "name": "stdout",
     "output_type": "stream",
     "text": [
      "Training loss: 0.079\tTraining Accuracy: 96.88\n",
      "Validation loss: 0.293\tValidation Accuracy: 90.97\n",
      "Latest model saved as ./resnet18_outputs/latest.pth\n",
      "\n",
      "[INFO]: Epoch 273/300\n",
      "Training....\n"
     ]
    },
    {
     "name": "stderr",
     "output_type": "stream",
     "text": [
      "100%|██████████| 23/23 [00:34<00:00,  1.51s/it]\n"
     ]
    },
    {
     "name": "stdout",
     "output_type": "stream",
     "text": [
      "Validating....\n"
     ]
    },
    {
     "name": "stderr",
     "output_type": "stream",
     "text": [
      "100%|██████████| 3/3 [00:01<00:00,  2.55it/s]\n"
     ]
    },
    {
     "name": "stdout",
     "output_type": "stream",
     "text": [
      "Training loss: 0.069\tTraining Accuracy: 97.40\n",
      "Validation loss: 1.088\tValidation Accuracy: 75.62\n",
      "Latest model saved as ./resnet18_outputs/latest.pth\n",
      "\n",
      "[INFO]: Epoch 274/300\n",
      "Training....\n"
     ]
    },
    {
     "name": "stderr",
     "output_type": "stream",
     "text": [
      "100%|██████████| 23/23 [00:34<00:00,  1.48s/it]\n"
     ]
    },
    {
     "name": "stdout",
     "output_type": "stream",
     "text": [
      "Validating....\n"
     ]
    },
    {
     "name": "stderr",
     "output_type": "stream",
     "text": [
      "100%|██████████| 3/3 [00:01<00:00,  2.92it/s]\n"
     ]
    },
    {
     "name": "stdout",
     "output_type": "stream",
     "text": [
      "Training loss: 0.067\tTraining Accuracy: 97.30\n",
      "Validation loss: 0.943\tValidation Accuracy: 79.65\n",
      "Latest model saved as ./resnet18_outputs/latest.pth\n",
      "\n",
      "[INFO]: Epoch 275/300\n",
      "Training....\n"
     ]
    },
    {
     "name": "stderr",
     "output_type": "stream",
     "text": [
      "100%|██████████| 23/23 [00:36<00:00,  1.59s/it]\n"
     ]
    },
    {
     "name": "stdout",
     "output_type": "stream",
     "text": [
      "Validating....\n"
     ]
    },
    {
     "name": "stderr",
     "output_type": "stream",
     "text": [
      "100%|██████████| 3/3 [00:01<00:00,  3.00it/s]\n"
     ]
    },
    {
     "name": "stdout",
     "output_type": "stream",
     "text": [
      "Training loss: 0.068\tTraining Accuracy: 97.19\n",
      "Validation loss: 0.732\tValidation Accuracy: 83.40\n",
      "Latest model saved as ./resnet18_outputs/latest.pth\n",
      "\n",
      "[INFO]: Epoch 276/300\n",
      "Training....\n"
     ]
    },
    {
     "name": "stderr",
     "output_type": "stream",
     "text": [
      "100%|██████████| 23/23 [00:34<00:00,  1.50s/it]\n"
     ]
    },
    {
     "name": "stdout",
     "output_type": "stream",
     "text": [
      "Validating....\n"
     ]
    },
    {
     "name": "stderr",
     "output_type": "stream",
     "text": [
      "100%|██████████| 3/3 [00:01<00:00,  2.93it/s]\n"
     ]
    },
    {
     "name": "stdout",
     "output_type": "stream",
     "text": [
      "Training loss: 0.074\tTraining Accuracy: 97.02\n",
      "Validation loss: 0.505\tValidation Accuracy: 85.76\n",
      "Latest model saved as ./resnet18_outputs/latest.pth\n",
      "\n",
      "[INFO]: Epoch 277/300\n",
      "Training....\n"
     ]
    },
    {
     "name": "stderr",
     "output_type": "stream",
     "text": [
      "100%|██████████| 23/23 [00:33<00:00,  1.44s/it]\n"
     ]
    },
    {
     "name": "stdout",
     "output_type": "stream",
     "text": [
      "Validating....\n"
     ]
    },
    {
     "name": "stderr",
     "output_type": "stream",
     "text": [
      "100%|██████████| 3/3 [00:01<00:00,  2.86it/s]\n"
     ]
    },
    {
     "name": "stdout",
     "output_type": "stream",
     "text": [
      "Training loss: 0.077\tTraining Accuracy: 97.12\n",
      "Validation loss: 0.375\tValidation Accuracy: 89.44\n",
      "Latest model saved as ./resnet18_outputs/latest.pth\n",
      "\n",
      "[INFO]: Epoch 278/300\n",
      "Training....\n"
     ]
    },
    {
     "name": "stderr",
     "output_type": "stream",
     "text": [
      "100%|██████████| 23/23 [00:35<00:00,  1.55s/it]\n"
     ]
    },
    {
     "name": "stdout",
     "output_type": "stream",
     "text": [
      "Validating....\n"
     ]
    },
    {
     "name": "stderr",
     "output_type": "stream",
     "text": [
      "100%|██████████| 3/3 [00:01<00:00,  2.86it/s]\n"
     ]
    },
    {
     "name": "stdout",
     "output_type": "stream",
     "text": [
      "Training loss: 0.075\tTraining Accuracy: 97.11\n",
      "Validation loss: 0.780\tValidation Accuracy: 78.89\n",
      "Latest model saved as ./resnet18_outputs/latest.pth\n",
      "\n",
      "[INFO]: Epoch 279/300\n",
      "Training....\n"
     ]
    },
    {
     "name": "stderr",
     "output_type": "stream",
     "text": [
      "100%|██████████| 23/23 [00:30<00:00,  1.33s/it]\n"
     ]
    },
    {
     "name": "stdout",
     "output_type": "stream",
     "text": [
      "Validating....\n"
     ]
    },
    {
     "name": "stderr",
     "output_type": "stream",
     "text": [
      "100%|██████████| 3/3 [00:01<00:00,  2.87it/s]\n"
     ]
    },
    {
     "name": "stdout",
     "output_type": "stream",
     "text": [
      "Training loss: 0.080\tTraining Accuracy: 96.81\n",
      "Validation loss: 3.462\tValidation Accuracy: 49.93\n",
      "Latest model saved as ./resnet18_outputs/latest.pth\n",
      "\n",
      "[INFO]: Epoch 280/300\n",
      "Training....\n"
     ]
    },
    {
     "name": "stderr",
     "output_type": "stream",
     "text": [
      "100%|██████████| 23/23 [00:33<00:00,  1.45s/it]\n"
     ]
    },
    {
     "name": "stdout",
     "output_type": "stream",
     "text": [
      "Validating....\n"
     ]
    },
    {
     "name": "stderr",
     "output_type": "stream",
     "text": [
      "100%|██████████| 3/3 [00:01<00:00,  2.89it/s]\n"
     ]
    },
    {
     "name": "stdout",
     "output_type": "stream",
     "text": [
      "Training loss: 0.094\tTraining Accuracy: 96.44\n",
      "Validation loss: 1.161\tValidation Accuracy: 77.36\n",
      "Latest model saved as ./resnet18_outputs/latest.pth\n",
      "\n",
      "[INFO]: Epoch 281/300\n",
      "Training....\n"
     ]
    },
    {
     "name": "stderr",
     "output_type": "stream",
     "text": [
      "100%|██████████| 23/23 [00:27<00:00,  1.22s/it]\n"
     ]
    },
    {
     "name": "stdout",
     "output_type": "stream",
     "text": [
      "Validating....\n"
     ]
    },
    {
     "name": "stderr",
     "output_type": "stream",
     "text": [
      "100%|██████████| 3/3 [00:00<00:00,  3.08it/s]\n"
     ]
    },
    {
     "name": "stdout",
     "output_type": "stream",
     "text": [
      "Training loss: 0.098\tTraining Accuracy: 96.29\n",
      "Validation loss: 0.703\tValidation Accuracy: 84.03\n",
      "Latest model saved as ./resnet18_outputs/latest.pth\n",
      "\n",
      "[INFO]: Epoch 282/300\n",
      "Training....\n"
     ]
    },
    {
     "name": "stderr",
     "output_type": "stream",
     "text": [
      "100%|██████████| 23/23 [00:36<00:00,  1.60s/it]\n"
     ]
    },
    {
     "name": "stdout",
     "output_type": "stream",
     "text": [
      "Validating....\n"
     ]
    },
    {
     "name": "stderr",
     "output_type": "stream",
     "text": [
      "100%|██████████| 3/3 [00:01<00:00,  2.94it/s]\n"
     ]
    },
    {
     "name": "stdout",
     "output_type": "stream",
     "text": [
      "Training loss: 0.091\tTraining Accuracy: 96.51\n",
      "Validation loss: 1.586\tValidation Accuracy: 62.92\n",
      "Latest model saved as ./resnet18_outputs/latest.pth\n",
      "\n",
      "[INFO]: Epoch 283/300\n",
      "Training....\n"
     ]
    },
    {
     "name": "stderr",
     "output_type": "stream",
     "text": [
      "100%|██████████| 23/23 [00:33<00:00,  1.45s/it]\n"
     ]
    },
    {
     "name": "stdout",
     "output_type": "stream",
     "text": [
      "Validating....\n"
     ]
    },
    {
     "name": "stderr",
     "output_type": "stream",
     "text": [
      "100%|██████████| 3/3 [00:01<00:00,  2.96it/s]\n"
     ]
    },
    {
     "name": "stdout",
     "output_type": "stream",
     "text": [
      "Training loss: 0.079\tTraining Accuracy: 96.86\n",
      "Validation loss: 0.993\tValidation Accuracy: 76.46\n",
      "Latest model saved as ./resnet18_outputs/latest.pth\n",
      "\n",
      "[INFO]: Epoch 284/300\n",
      "Training....\n"
     ]
    },
    {
     "name": "stderr",
     "output_type": "stream",
     "text": [
      "100%|██████████| 23/23 [00:37<00:00,  1.65s/it]\n"
     ]
    },
    {
     "name": "stdout",
     "output_type": "stream",
     "text": [
      "Validating....\n"
     ]
    },
    {
     "name": "stderr",
     "output_type": "stream",
     "text": [
      "100%|██████████| 3/3 [00:01<00:00,  2.71it/s]\n"
     ]
    },
    {
     "name": "stdout",
     "output_type": "stream",
     "text": [
      "Training loss: 0.074\tTraining Accuracy: 97.07\n",
      "Validation loss: 0.364\tValidation Accuracy: 90.28\n",
      "Latest model saved as ./resnet18_outputs/latest.pth\n",
      "\n",
      "[INFO]: Epoch 285/300\n",
      "Training....\n"
     ]
    },
    {
     "name": "stderr",
     "output_type": "stream",
     "text": [
      "100%|██████████| 23/23 [00:34<00:00,  1.50s/it]\n"
     ]
    },
    {
     "name": "stdout",
     "output_type": "stream",
     "text": [
      "Validating....\n"
     ]
    },
    {
     "name": "stderr",
     "output_type": "stream",
     "text": [
      "100%|██████████| 3/3 [00:01<00:00,  2.57it/s]\n"
     ]
    },
    {
     "name": "stdout",
     "output_type": "stream",
     "text": [
      "Training loss: 0.068\tTraining Accuracy: 97.37\n",
      "Validation loss: 0.338\tValidation Accuracy: 90.62\n",
      "Latest model saved as ./resnet18_outputs/latest.pth\n",
      "\n",
      "[INFO]: Epoch 286/300\n",
      "Training....\n"
     ]
    },
    {
     "name": "stderr",
     "output_type": "stream",
     "text": [
      "100%|██████████| 23/23 [00:38<00:00,  1.67s/it]\n"
     ]
    },
    {
     "name": "stdout",
     "output_type": "stream",
     "text": [
      "Validating....\n"
     ]
    },
    {
     "name": "stderr",
     "output_type": "stream",
     "text": [
      "100%|██████████| 3/3 [00:01<00:00,  2.28it/s]\n"
     ]
    },
    {
     "name": "stdout",
     "output_type": "stream",
     "text": [
      "Training loss: 0.074\tTraining Accuracy: 97.00\n",
      "Validation loss: 0.223\tValidation Accuracy: 92.78\n",
      "Latest model saved as ./resnet18_outputs/latest.pth\n",
      "\n",
      "[INFO]: Epoch 287/300\n",
      "Training....\n"
     ]
    },
    {
     "name": "stderr",
     "output_type": "stream",
     "text": [
      "100%|██████████| 23/23 [00:33<00:00,  1.48s/it]\n"
     ]
    },
    {
     "name": "stdout",
     "output_type": "stream",
     "text": [
      "Validating....\n"
     ]
    },
    {
     "name": "stderr",
     "output_type": "stream",
     "text": [
      "100%|██████████| 3/3 [00:01<00:00,  2.91it/s]\n"
     ]
    },
    {
     "name": "stdout",
     "output_type": "stream",
     "text": [
      "Training loss: 0.074\tTraining Accuracy: 97.11\n",
      "Validation loss: 0.291\tValidation Accuracy: 92.64\n",
      "Latest model saved as ./resnet18_outputs/latest.pth\n",
      "\n",
      "[INFO]: Epoch 288/300\n",
      "Training....\n"
     ]
    },
    {
     "name": "stderr",
     "output_type": "stream",
     "text": [
      "100%|██████████| 23/23 [00:36<00:00,  1.57s/it]\n"
     ]
    },
    {
     "name": "stdout",
     "output_type": "stream",
     "text": [
      "Validating....\n"
     ]
    },
    {
     "name": "stderr",
     "output_type": "stream",
     "text": [
      "100%|██████████| 3/3 [00:01<00:00,  2.94it/s]\n"
     ]
    },
    {
     "name": "stdout",
     "output_type": "stream",
     "text": [
      "Training loss: 0.072\tTraining Accuracy: 97.21\n",
      "Validation loss: 0.475\tValidation Accuracy: 87.50\n",
      "Latest model saved as ./resnet18_outputs/latest.pth\n",
      "\n",
      "[INFO]: Epoch 289/300\n",
      "Training....\n"
     ]
    },
    {
     "name": "stderr",
     "output_type": "stream",
     "text": [
      "100%|██████████| 23/23 [00:37<00:00,  1.63s/it]\n"
     ]
    },
    {
     "name": "stdout",
     "output_type": "stream",
     "text": [
      "Validating....\n"
     ]
    },
    {
     "name": "stderr",
     "output_type": "stream",
     "text": [
      "100%|██████████| 3/3 [00:01<00:00,  2.37it/s]\n"
     ]
    },
    {
     "name": "stdout",
     "output_type": "stream",
     "text": [
      "Training loss: 0.081\tTraining Accuracy: 97.04\n",
      "Validation loss: 0.680\tValidation Accuracy: 84.03\n",
      "Latest model saved as ./resnet18_outputs/latest.pth\n",
      "\n",
      "[INFO]: Epoch 290/300\n",
      "Training....\n"
     ]
    },
    {
     "name": "stderr",
     "output_type": "stream",
     "text": [
      "100%|██████████| 23/23 [00:33<00:00,  1.45s/it]\n"
     ]
    },
    {
     "name": "stdout",
     "output_type": "stream",
     "text": [
      "Validating....\n"
     ]
    },
    {
     "name": "stderr",
     "output_type": "stream",
     "text": [
      "100%|██████████| 3/3 [00:01<00:00,  2.87it/s]\n"
     ]
    },
    {
     "name": "stdout",
     "output_type": "stream",
     "text": [
      "Training loss: 0.083\tTraining Accuracy: 96.98\n",
      "Validation loss: 0.186\tValidation Accuracy: 94.24\n",
      "Latest model saved as ./resnet18_outputs/latest.pth\n",
      "\n",
      "[INFO]: Epoch 291/300\n",
      "Training....\n"
     ]
    },
    {
     "name": "stderr",
     "output_type": "stream",
     "text": [
      "100%|██████████| 23/23 [00:35<00:00,  1.56s/it]\n"
     ]
    },
    {
     "name": "stdout",
     "output_type": "stream",
     "text": [
      "Validating....\n"
     ]
    },
    {
     "name": "stderr",
     "output_type": "stream",
     "text": [
      "100%|██████████| 3/3 [00:01<00:00,  2.55it/s]\n"
     ]
    },
    {
     "name": "stdout",
     "output_type": "stream",
     "text": [
      "Training loss: 0.088\tTraining Accuracy: 96.70\n",
      "Validation loss: 2.828\tValidation Accuracy: 58.82\n",
      "Latest model saved as ./resnet18_outputs/latest.pth\n",
      "\n",
      "[INFO]: Epoch 292/300\n",
      "Training....\n"
     ]
    },
    {
     "name": "stderr",
     "output_type": "stream",
     "text": [
      "100%|██████████| 23/23 [00:39<00:00,  1.73s/it]\n"
     ]
    },
    {
     "name": "stdout",
     "output_type": "stream",
     "text": [
      "Validating....\n"
     ]
    },
    {
     "name": "stderr",
     "output_type": "stream",
     "text": [
      "100%|██████████| 3/3 [00:01<00:00,  2.90it/s]\n"
     ]
    },
    {
     "name": "stdout",
     "output_type": "stream",
     "text": [
      "Training loss: 0.082\tTraining Accuracy: 96.90\n",
      "Validation loss: 0.359\tValidation Accuracy: 89.31\n",
      "Latest model saved as ./resnet18_outputs/latest.pth\n",
      "\n",
      "[INFO]: Epoch 293/300\n",
      "Training....\n"
     ]
    },
    {
     "name": "stderr",
     "output_type": "stream",
     "text": [
      "100%|██████████| 23/23 [00:40<00:00,  1.74s/it]\n"
     ]
    },
    {
     "name": "stdout",
     "output_type": "stream",
     "text": [
      "Validating....\n"
     ]
    },
    {
     "name": "stderr",
     "output_type": "stream",
     "text": [
      "100%|██████████| 3/3 [00:01<00:00,  2.77it/s]\n"
     ]
    },
    {
     "name": "stdout",
     "output_type": "stream",
     "text": [
      "Training loss: 0.072\tTraining Accuracy: 97.35\n",
      "Validation loss: 0.240\tValidation Accuracy: 93.75\n",
      "Latest model saved as ./resnet18_outputs/latest.pth\n",
      "\n",
      "[INFO]: Epoch 294/300\n",
      "Training....\n"
     ]
    },
    {
     "name": "stderr",
     "output_type": "stream",
     "text": [
      "100%|██████████| 23/23 [00:31<00:00,  1.36s/it]\n"
     ]
    },
    {
     "name": "stdout",
     "output_type": "stream",
     "text": [
      "Validating....\n"
     ]
    },
    {
     "name": "stderr",
     "output_type": "stream",
     "text": [
      "100%|██████████| 3/3 [00:01<00:00,  2.91it/s]\n"
     ]
    },
    {
     "name": "stdout",
     "output_type": "stream",
     "text": [
      "Training loss: 0.069\tTraining Accuracy: 97.41\n",
      "Validation loss: 0.375\tValidation Accuracy: 89.51\n",
      "Latest model saved as ./resnet18_outputs/latest.pth\n",
      "\n",
      "[INFO]: Epoch 295/300\n",
      "Training....\n"
     ]
    },
    {
     "name": "stderr",
     "output_type": "stream",
     "text": [
      "100%|██████████| 23/23 [00:37<00:00,  1.63s/it]\n"
     ]
    },
    {
     "name": "stdout",
     "output_type": "stream",
     "text": [
      "Validating....\n"
     ]
    },
    {
     "name": "stderr",
     "output_type": "stream",
     "text": [
      "100%|██████████| 3/3 [00:01<00:00,  2.91it/s]\n"
     ]
    },
    {
     "name": "stdout",
     "output_type": "stream",
     "text": [
      "Training loss: 0.072\tTraining Accuracy: 97.24\n",
      "Validation loss: 0.320\tValidation Accuracy: 92.43\n",
      "Latest model saved as ./resnet18_outputs/latest.pth\n",
      "\n",
      "[INFO]: Epoch 296/300\n",
      "Training....\n"
     ]
    },
    {
     "name": "stderr",
     "output_type": "stream",
     "text": [
      "100%|██████████| 23/23 [00:31<00:00,  1.37s/it]\n"
     ]
    },
    {
     "name": "stdout",
     "output_type": "stream",
     "text": [
      "Validating....\n"
     ]
    },
    {
     "name": "stderr",
     "output_type": "stream",
     "text": [
      "100%|██████████| 3/3 [00:01<00:00,  2.86it/s]\n"
     ]
    },
    {
     "name": "stdout",
     "output_type": "stream",
     "text": [
      "Training loss: 0.059\tTraining Accuracy: 97.66\n",
      "Validation loss: 0.434\tValidation Accuracy: 88.68\n",
      "Latest model saved as ./resnet18_outputs/latest.pth\n",
      "\n",
      "[INFO]: Epoch 297/300\n",
      "Training....\n"
     ]
    },
    {
     "name": "stderr",
     "output_type": "stream",
     "text": [
      "100%|██████████| 23/23 [00:38<00:00,  1.70s/it]\n"
     ]
    },
    {
     "name": "stdout",
     "output_type": "stream",
     "text": [
      "Validating....\n"
     ]
    },
    {
     "name": "stderr",
     "output_type": "stream",
     "text": [
      "100%|██████████| 3/3 [00:01<00:00,  2.82it/s]\n"
     ]
    },
    {
     "name": "stdout",
     "output_type": "stream",
     "text": [
      "Training loss: 0.065\tTraining Accuracy: 97.48\n",
      "Validation loss: 0.208\tValidation Accuracy: 93.75\n",
      "Latest model saved as ./resnet18_outputs/latest.pth\n",
      "\n",
      "[INFO]: Epoch 298/300\n",
      "Training....\n"
     ]
    },
    {
     "name": "stderr",
     "output_type": "stream",
     "text": [
      "100%|██████████| 23/23 [00:36<00:00,  1.60s/it]\n"
     ]
    },
    {
     "name": "stdout",
     "output_type": "stream",
     "text": [
      "Validating....\n"
     ]
    },
    {
     "name": "stderr",
     "output_type": "stream",
     "text": [
      "100%|██████████| 3/3 [00:01<00:00,  2.07it/s]\n"
     ]
    },
    {
     "name": "stdout",
     "output_type": "stream",
     "text": [
      "Training loss: 0.072\tTraining Accuracy: 97.22\n",
      "Validation loss: 0.138\tValidation Accuracy: 96.18\n",
      "Best model saved as ./resnet18_outputs/best.pth\n",
      "Latest model saved as ./resnet18_outputs/latest.pth\n",
      "\n",
      "[INFO]: Epoch 299/300\n",
      "Training....\n"
     ]
    },
    {
     "name": "stderr",
     "output_type": "stream",
     "text": [
      "100%|██████████| 23/23 [00:36<00:00,  1.58s/it]\n"
     ]
    },
    {
     "name": "stdout",
     "output_type": "stream",
     "text": [
      "Validating....\n"
     ]
    },
    {
     "name": "stderr",
     "output_type": "stream",
     "text": [
      "100%|██████████| 3/3 [00:01<00:00,  2.96it/s]\n"
     ]
    },
    {
     "name": "stdout",
     "output_type": "stream",
     "text": [
      "Training loss: 0.073\tTraining Accuracy: 97.10\n",
      "Validation loss: 0.276\tValidation Accuracy: 92.64\n",
      "Latest model saved as ./resnet18_outputs/latest.pth\n",
      "\n",
      "[INFO]: Epoch 300/300\n",
      "Training....\n"
     ]
    },
    {
     "name": "stderr",
     "output_type": "stream",
     "text": [
      "100%|██████████| 23/23 [00:38<00:00,  1.67s/it]\n"
     ]
    },
    {
     "name": "stdout",
     "output_type": "stream",
     "text": [
      "Validating....\n"
     ]
    },
    {
     "name": "stderr",
     "output_type": "stream",
     "text": [
      "100%|██████████| 3/3 [00:01<00:00,  2.89it/s]\n"
     ]
    },
    {
     "name": "stdout",
     "output_type": "stream",
     "text": [
      "Training loss: 0.073\tTraining Accuracy: 97.14\n",
      "Validation loss: 0.382\tValidation Accuracy: 90.49\n",
      "Latest model saved as ./resnet18_outputs/latest.pth\n",
      "\n",
      "TRAINING COMPLETE\n"
     ]
    },
    {
     "data": {
      "image/png": "[encoded data removed]",
      "text/plain": [
       "<Figure size 1000x700 with 1 Axes>"
      ]
     },
     "metadata": {},
     "output_type": "display_data"
    },
    {
     "data": {
      "image/png": "[encoded data removed]",
      "text/plain": [
       "<Figure size 1000x700 with 1 Axes>"
      ]
     },
     "metadata": {},
     "output_type": "display_data"
    }
   ],
   "source": [
    "def train_model():\n",
    "    train_loss, valid_loss = [], []\n",
    "    train_acc, valid_acc = [], []\n",
    "\n",
    "    min_valid_loss = 2**31-1\n",
    "\n",
    "    for epoch in range(epochs):\n",
    "        print(f'[INFO]: Epoch {epoch+1}/{epochs}')\n",
    "        train_epoch_loss, train_epoch_acc = train(model, train_loader, optimizer, criterion)\n",
    "        valid_epoch_loss, valid_epoch_acc = validate(model, valid_loader, criterion)\n",
    "\n",
    "        train_loss.append(train_epoch_loss)\n",
    "        valid_loss.append(valid_epoch_loss)\n",
    "        train_acc.append(train_epoch_acc)\n",
    "        valid_acc.append(valid_epoch_acc)\n",
    "\n",
    "        print(f'Training loss: {train_epoch_loss:.3f}\\tTraining Accuracy: {train_epoch_acc:.2f}')\n",
    "        print(f'Validation loss: {valid_epoch_loss:.3f}\\tValidation Accuracy: {valid_epoch_acc:.2f}')\n",
    "        if valid_epoch_loss < min_valid_loss:\n",
    "            min_valid_loss = valid_epoch_loss\n",
    "            save_model(epochs, model, optimizer, criterion, save_dir, is_best=True)\n",
    "        save_model(epochs, model, optimizer, criterion, save_dir, is_best=False)\n",
    "        print()\n",
    "    save_plots(train_acc, valid_acc, train_loss, valid_loss, save_dir)\n",
    "    print('TRAINING COMPLETE')\n",
    "\n",
    "train_model()\n"
   ]
  },
  {
   "cell_type": "markdown",
   "metadata": {},
   "source": [
    "### Load the trained model"
   ]
  },
  {
   "cell_type": "code",
   "execution_count": 76,
   "metadata": {},
   "outputs": [],
   "source": [
    "# Load the pretrained model\n",
    "model = ResNetModel18(num_classes=144, weights=True)\n",
    "model.to(device);\n",
    "model.load_state_dict(torch.load('resnet18_outputs/best.pth', map_location=device)['state_dict'])\n",
    "model.eval();"
   ]
  },
  {
   "cell_type": "markdown",
   "metadata": {},
   "source": [
    "### Evaluation Functions"
   ]
  },
  {
   "cell_type": "code",
   "execution_count": 77,
   "metadata": {},
   "outputs": [],
   "source": [
    "def plot_confusion_matrix(conf_matrix):\n",
    "    plt.figure(figsize=(8, 6))\n",
    "    row_sums = conf_matrix.sum(axis=1, keepdims=True)\n",
    "    conf_matrix_norm = np.divide(conf_matrix, row_sums, where=row_sums != 0)\n",
    "    \n",
    "    sns.heatmap(conf_matrix_norm, annot=True, fmt=\".2%\", cmap=\"crest\")\n",
    "    plt.xlabel('Predicted Labels')\n",
    "    plt.ylabel('True Labels')\n",
    "    plt.title('Confusion Matrix')\n",
    "    plt.show()"
   ]
  },
  {
   "cell_type": "code",
   "execution_count": 78,
   "metadata": {},
   "outputs": [],
   "source": [
    "def evaluate_model(model, dataloader, device):\n",
    "    model.eval()  # Set the model to evaluation mode\n",
    "    y_true = []\n",
    "    y_pred = []\n",
    "    \n",
    "    with torch.no_grad():\n",
    "        for inputs, labels in tqdm(dataloader):\n",
    "            inputs, labels = inputs.to(device), labels.to(device)\n",
    "            outputs = model(inputs)\n",
    "            _, preds = torch.max(outputs, 1)\n",
    "            y_true.extend(labels.cpu().numpy())\n",
    "            y_pred.extend(preds.cpu().numpy())\n",
    "    \n",
    "    y_true = np.array(y_true)\n",
    "    y_pred = np.array(y_pred)\n",
    "    \n",
    "    # Calculate precision, recall, and F1 score for each class\n",
    "    precision = precision_score(y_true, y_pred, average=None)\n",
    "    recall = recall_score(y_true, y_pred, average=None)\n",
    "    f1 = f1_score(y_true, y_pred, average=None)\n",
    "    \n",
    "    # Calculate confusion matrix\n",
    "    conf_matrix = confusion_matrix(y_true, y_pred)\n",
    "    # plot_confusion_matrix(conf_matrix)\n",
    "    print(f'Average Precision: {np.mean(precision):.4f}')\n",
    "    print(f'Average Recall: {np.mean(recall):.4f}')\n",
    "    print(f'Average F1 score: {np.mean(f1):.4f}')\n",
    "\n",
    "    # Print the results\n",
    "    for i in range(len(precision)):\n",
    "        print(f\"Class {i} - Precision: {precision[i]:.4f}, Recall: {recall[i]:.4f}, F1 Score: {f1[i]:.4f}\")\n",
    "    \n",
    "    return precision, recall, f1, conf_matrix"
   ]
  },
  {
   "cell_type": "code",
   "execution_count": 79,
   "metadata": {},
   "outputs": [
    {
     "name": "stderr",
     "output_type": "stream",
     "text": [
      "100%|██████████| 23/23 [00:40<00:00,  1.77s/it]"
     ]
    },
    {
     "name": "stdout",
     "output_type": "stream",
     "text": [
      "Average Precision: 0.9526\n",
      "Average Recall: 0.9491\n",
      "Average F1 score: 0.9494\n",
      "Class 0 - Precision: 0.9398, Recall: 0.9750, F1 Score: 0.9571\n",
      "Class 1 - Precision: 0.9595, Recall: 0.8875, F1 Score: 0.9221\n",
      "Class 2 - Precision: 1.0000, Recall: 0.8875, F1 Score: 0.9404\n",
      "Class 3 - Precision: 0.9872, Recall: 0.9625, F1 Score: 0.9747\n",
      "Class 4 - Precision: 0.9865, Recall: 0.9125, F1 Score: 0.9481\n",
      "Class 5 - Precision: 1.0000, Recall: 0.9625, F1 Score: 0.9809\n",
      "Class 6 - Precision: 1.0000, Recall: 0.9875, F1 Score: 0.9937\n",
      "Class 7 - Precision: 0.9870, Recall: 0.9500, F1 Score: 0.9682\n",
      "Class 8 - Precision: 0.9872, Recall: 0.9625, F1 Score: 0.9747\n",
      "Class 9 - Precision: 0.9872, Recall: 0.9625, F1 Score: 0.9747\n",
      "Class 10 - Precision: 1.0000, Recall: 0.9125, F1 Score: 0.9542\n",
      "Class 11 - Precision: 0.9620, Recall: 0.9500, F1 Score: 0.9560\n",
      "Class 12 - Precision: 0.9870, Recall: 0.9500, F1 Score: 0.9682\n",
      "Class 13 - Precision: 1.0000, Recall: 0.9000, F1 Score: 0.9474\n",
      "Class 14 - Precision: 0.9744, Recall: 0.9500, F1 Score: 0.9620\n",
      "Class 15 - Precision: 0.9744, Recall: 0.9500, F1 Score: 0.9620\n",
      "Class 16 - Precision: 1.0000, Recall: 0.9375, F1 Score: 0.9677\n",
      "Class 17 - Precision: 0.9610, Recall: 0.9250, F1 Score: 0.9427\n",
      "Class 18 - Precision: 0.8778, Recall: 0.9875, F1 Score: 0.9294\n",
      "Class 19 - Precision: 0.9865, Recall: 0.9125, F1 Score: 0.9481\n",
      "Class 20 - Precision: 1.0000, Recall: 0.9125, F1 Score: 0.9542\n",
      "Class 21 - Precision: 0.8876, Recall: 0.9875, F1 Score: 0.9349\n",
      "Class 22 - Precision: 0.9737, Recall: 0.9250, F1 Score: 0.9487\n",
      "Class 23 - Precision: 1.0000, Recall: 0.9125, F1 Score: 0.9542\n",
      "Class 24 - Precision: 0.9302, Recall: 1.0000, F1 Score: 0.9639\n",
      "Class 25 - Precision: 1.0000, Recall: 0.9375, F1 Score: 0.9677\n",
      "Class 26 - Precision: 0.9863, Recall: 0.9000, F1 Score: 0.9412\n",
      "Class 27 - Precision: 0.9512, Recall: 0.9750, F1 Score: 0.9630\n",
      "Class 28 - Precision: 0.9873, Recall: 0.9750, F1 Score: 0.9811\n",
      "Class 29 - Precision: 1.0000, Recall: 0.9875, F1 Score: 0.9937\n",
      "Class 30 - Precision: 0.9639, Recall: 1.0000, F1 Score: 0.9816\n",
      "Class 31 - Precision: 1.0000, Recall: 0.9375, F1 Score: 0.9677\n",
      "Class 32 - Precision: 0.9753, Recall: 0.9875, F1 Score: 0.9814\n",
      "Class 33 - Precision: 0.8511, Recall: 1.0000, F1 Score: 0.9195\n",
      "Class 34 - Precision: 0.9494, Recall: 0.9375, F1 Score: 0.9434\n",
      "Class 35 - Precision: 0.9398, Recall: 0.9750, F1 Score: 0.9571\n",
      "Class 36 - Precision: 0.8791, Recall: 1.0000, F1 Score: 0.9357\n",
      "Class 37 - Precision: 0.9241, Recall: 0.9125, F1 Score: 0.9182\n",
      "Class 38 - Precision: 0.9176, Recall: 0.9750, F1 Score: 0.9455\n",
      "Class 39 - Precision: 0.8404, Recall: 0.9875, F1 Score: 0.9080\n",
      "Class 40 - Precision: 0.9747, Recall: 0.9625, F1 Score: 0.9686\n",
      "Class 41 - Precision: 0.9195, Recall: 1.0000, F1 Score: 0.9581\n",
      "Class 42 - Precision: 0.9875, Recall: 0.9875, F1 Score: 0.9875\n",
      "Class 43 - Precision: 0.9630, Recall: 0.9750, F1 Score: 0.9689\n",
      "Class 44 - Precision: 0.9865, Recall: 0.9125, F1 Score: 0.9481\n",
      "Class 45 - Precision: 0.9625, Recall: 0.9625, F1 Score: 0.9625\n",
      "Class 46 - Precision: 0.9610, Recall: 0.9250, F1 Score: 0.9427\n",
      "Class 47 - Precision: 0.9875, Recall: 0.9875, F1 Score: 0.9875\n",
      "Class 48 - Precision: 0.9091, Recall: 1.0000, F1 Score: 0.9524\n",
      "Class 49 - Precision: 0.9855, Recall: 0.8500, F1 Score: 0.9128\n",
      "Class 50 - Precision: 0.9710, Recall: 0.8375, F1 Score: 0.8993\n",
      "Class 51 - Precision: 0.8421, Recall: 1.0000, F1 Score: 0.9143\n",
      "Class 52 - Precision: 0.9737, Recall: 0.9250, F1 Score: 0.9487\n",
      "Class 53 - Precision: 0.9737, Recall: 0.9250, F1 Score: 0.9487\n",
      "Class 54 - Precision: 0.9186, Recall: 0.9875, F1 Score: 0.9518\n",
      "Class 55 - Precision: 0.9747, Recall: 0.9625, F1 Score: 0.9686\n",
      "Class 56 - Precision: 1.0000, Recall: 0.9250, F1 Score: 0.9610\n",
      "Class 57 - Precision: 0.9487, Recall: 0.9250, F1 Score: 0.9367\n",
      "Class 58 - Precision: 0.9620, Recall: 0.9500, F1 Score: 0.9560\n",
      "Class 59 - Precision: 0.9747, Recall: 0.9625, F1 Score: 0.9686\n",
      "Class 60 - Precision: 0.8539, Recall: 0.9500, F1 Score: 0.8994\n",
      "Class 61 - Precision: 0.9740, Recall: 0.9375, F1 Score: 0.9554\n",
      "Class 62 - Precision: 0.8876, Recall: 0.9875, F1 Score: 0.9349\n",
      "Class 63 - Precision: 0.8125, Recall: 0.9750, F1 Score: 0.8864\n",
      "Class 64 - Precision: 0.9494, Recall: 0.9375, F1 Score: 0.9434\n",
      "Class 65 - Precision: 0.9625, Recall: 0.9625, F1 Score: 0.9625\n",
      "Class 66 - Precision: 0.9615, Recall: 0.9375, F1 Score: 0.9494\n",
      "Class 67 - Precision: 0.9512, Recall: 0.9750, F1 Score: 0.9630\n",
      "Class 68 - Precision: 0.9630, Recall: 0.9750, F1 Score: 0.9689\n",
      "Class 69 - Precision: 0.9753, Recall: 0.9875, F1 Score: 0.9814\n",
      "Class 70 - Precision: 0.9277, Recall: 0.9625, F1 Score: 0.9448\n",
      "Class 71 - Precision: 1.0000, Recall: 0.9625, F1 Score: 0.9809\n",
      "Class 72 - Precision: 0.9195, Recall: 1.0000, F1 Score: 0.9581\n",
      "Class 73 - Precision: 1.0000, Recall: 0.9250, F1 Score: 0.9610\n",
      "Class 74 - Precision: 0.9740, Recall: 0.9375, F1 Score: 0.9554\n",
      "Class 75 - Precision: 0.9753, Recall: 0.9875, F1 Score: 0.9814\n",
      "Class 76 - Precision: 1.0000, Recall: 0.8750, F1 Score: 0.9333\n",
      "Class 77 - Precision: 1.0000, Recall: 0.8375, F1 Score: 0.9116\n",
      "Class 78 - Precision: 0.9398, Recall: 0.9750, F1 Score: 0.9571\n",
      "Class 79 - Precision: 1.0000, Recall: 0.9250, F1 Score: 0.9610\n",
      "Class 80 - Precision: 0.9740, Recall: 0.9375, F1 Score: 0.9554\n",
      "Class 81 - Precision: 1.0000, Recall: 0.9375, F1 Score: 0.9677\n",
      "Class 82 - Precision: 0.9870, Recall: 0.9500, F1 Score: 0.9682\n",
      "Class 83 - Precision: 1.0000, Recall: 0.8875, F1 Score: 0.9404\n",
      "Class 84 - Precision: 0.9872, Recall: 0.9625, F1 Score: 0.9747\n",
      "Class 85 - Precision: 0.9867, Recall: 0.9250, F1 Score: 0.9548\n",
      "Class 86 - Precision: 0.9872, Recall: 0.9625, F1 Score: 0.9747\n",
      "Class 87 - Precision: 0.8667, Recall: 0.9750, F1 Score: 0.9176\n",
      "Class 88 - Precision: 0.9620, Recall: 0.9500, F1 Score: 0.9560\n",
      "Class 89 - Precision: 0.9583, Recall: 0.8625, F1 Score: 0.9079\n",
      "Class 90 - Precision: 0.9176, Recall: 0.9750, F1 Score: 0.9455\n",
      "Class 91 - Precision: 0.9481, Recall: 0.9125, F1 Score: 0.9299\n",
      "Class 92 - Precision: 0.9610, Recall: 0.9250, F1 Score: 0.9427\n",
      "Class 93 - Precision: 0.9747, Recall: 0.9625, F1 Score: 0.9686\n",
      "Class 94 - Precision: 0.9286, Recall: 0.9750, F1 Score: 0.9512\n",
      "Class 95 - Precision: 0.9625, Recall: 0.9625, F1 Score: 0.9625\n",
      "Class 96 - Precision: 0.8889, Recall: 1.0000, F1 Score: 0.9412\n",
      "Class 97 - Precision: 0.9277, Recall: 0.9625, F1 Score: 0.9448\n",
      "Class 98 - Precision: 0.9873, Recall: 0.9750, F1 Score: 0.9811\n",
      "Class 99 - Precision: 0.9639, Recall: 1.0000, F1 Score: 0.9816\n",
      "Class 100 - Precision: 0.9610, Recall: 0.9250, F1 Score: 0.9427\n",
      "Class 101 - Precision: 0.9740, Recall: 0.9375, F1 Score: 0.9554\n",
      "Class 102 - Precision: 0.9080, Recall: 0.9875, F1 Score: 0.9461\n",
      "Class 103 - Precision: 0.9744, Recall: 0.9500, F1 Score: 0.9620\n",
      "Class 104 - Precision: 0.9867, Recall: 0.9250, F1 Score: 0.9548\n",
      "Class 105 - Precision: 0.8778, Recall: 0.9875, F1 Score: 0.9294\n",
      "Class 106 - Precision: 0.9625, Recall: 0.9625, F1 Score: 0.9625\n",
      "Class 107 - Precision: 0.9875, Recall: 0.9875, F1 Score: 0.9875\n",
      "Class 108 - Precision: 0.8966, Recall: 0.9750, F1 Score: 0.9341\n",
      "Class 109 - Precision: 0.9494, Recall: 0.9375, F1 Score: 0.9434\n",
      "Class 110 - Precision: 1.0000, Recall: 0.9500, F1 Score: 0.9744\n",
      "Class 111 - Precision: 0.9412, Recall: 1.0000, F1 Score: 0.9697\n",
      "Class 112 - Precision: 0.9868, Recall: 0.9375, F1 Score: 0.9615\n",
      "Class 113 - Precision: 0.9577, Recall: 0.8500, F1 Score: 0.9007\n",
      "Class 114 - Precision: 0.9518, Recall: 0.9875, F1 Score: 0.9693\n",
      "Class 115 - Precision: 0.9268, Recall: 0.9500, F1 Score: 0.9383\n",
      "Class 116 - Precision: 0.9211, Recall: 0.8750, F1 Score: 0.8974\n",
      "Class 117 - Precision: 0.9512, Recall: 0.9750, F1 Score: 0.9630\n",
      "Class 118 - Precision: 1.0000, Recall: 0.8625, F1 Score: 0.9262\n",
      "Class 119 - Precision: 0.9634, Recall: 0.9875, F1 Score: 0.9753\n",
      "Class 120 - Precision: 0.9506, Recall: 0.9625, F1 Score: 0.9565\n",
      "Class 121 - Precision: 0.9867, Recall: 0.9250, F1 Score: 0.9548\n",
      "Class 122 - Precision: 0.9867, Recall: 0.9250, F1 Score: 0.9548\n",
      "Class 123 - Precision: 0.9753, Recall: 0.9875, F1 Score: 0.9814\n",
      "Class 124 - Precision: 0.9500, Recall: 0.9500, F1 Score: 0.9500\n",
      "Class 125 - Precision: 0.9494, Recall: 0.9375, F1 Score: 0.9434\n",
      "Class 126 - Precision: 0.8041, Recall: 0.9750, F1 Score: 0.8814\n",
      "Class 127 - Precision: 0.9398, Recall: 0.9750, F1 Score: 0.9571\n",
      "Class 128 - Precision: 0.9836, Recall: 0.7500, F1 Score: 0.8511\n",
      "Class 129 - Precision: 0.7843, Recall: 1.0000, F1 Score: 0.8791\n",
      "Class 130 - Precision: 0.9487, Recall: 0.9250, F1 Score: 0.9367\n",
      "Class 131 - Precision: 0.9390, Recall: 0.9625, F1 Score: 0.9506\n",
      "Class 132 - Precision: 0.8298, Recall: 0.9750, F1 Score: 0.8966\n",
      "Class 133 - Precision: 0.9630, Recall: 0.9750, F1 Score: 0.9689\n",
      "Class 134 - Precision: 0.8791, Recall: 1.0000, F1 Score: 0.9357\n",
      "Class 135 - Precision: 0.8764, Recall: 0.9750, F1 Score: 0.9231\n",
      "Class 136 - Precision: 0.9195, Recall: 1.0000, F1 Score: 0.9581\n",
      "Class 137 - Precision: 0.9737, Recall: 0.9250, F1 Score: 0.9487\n",
      "Class 138 - Precision: 0.9398, Recall: 0.9750, F1 Score: 0.9571\n",
      "Class 139 - Precision: 0.9136, Recall: 0.9250, F1 Score: 0.9193\n",
      "Class 140 - Precision: 0.9726, Recall: 0.8875, F1 Score: 0.9281\n",
      "Class 141 - Precision: 0.7778, Recall: 0.9625, F1 Score: 0.8603\n",
      "Class 142 - Precision: 0.9861, Recall: 0.8875, F1 Score: 0.9342\n",
      "Class 143 - Precision: 0.9740, Recall: 0.9375, F1 Score: 0.9554\n"
     ]
    },
    {
     "name": "stderr",
     "output_type": "stream",
     "text": [
      "\n"
     ]
    }
   ],
   "source": [
    "# Evaluate uring train dataset\n",
    "precision, recall, f1, cm = evaluate_model(model, train_loader, device=device)"
   ]
  },
  {
   "cell_type": "code",
   "execution_count": 80,
   "metadata": {},
   "outputs": [
    {
     "name": "stderr",
     "output_type": "stream",
     "text": [
      "100%|██████████| 3/3 [00:01<00:00,  2.28it/s]"
     ]
    },
    {
     "name": "stdout",
     "output_type": "stream",
     "text": [
      "Average Precision: 0.9662\n",
      "Average Recall: 0.9618\n",
      "Average F1 score: 0.9616\n",
      "Class 0 - Precision: 1.0000, Recall: 1.0000, F1 Score: 1.0000\n",
      "Class 1 - Precision: 0.7692, Recall: 1.0000, F1 Score: 0.8696\n",
      "Class 2 - Precision: 0.9091, Recall: 1.0000, F1 Score: 0.9524\n",
      "Class 3 - Precision: 0.9091, Recall: 1.0000, F1 Score: 0.9524\n",
      "Class 4 - Precision: 0.9091, Recall: 1.0000, F1 Score: 0.9524\n",
      "Class 5 - Precision: 1.0000, Recall: 1.0000, F1 Score: 1.0000\n",
      "Class 6 - Precision: 1.0000, Recall: 0.8000, F1 Score: 0.8889\n",
      "Class 7 - Precision: 1.0000, Recall: 1.0000, F1 Score: 1.0000\n",
      "Class 8 - Precision: 0.9091, Recall: 1.0000, F1 Score: 0.9524\n",
      "Class 9 - Precision: 0.9000, Recall: 0.9000, F1 Score: 0.9000\n",
      "Class 10 - Precision: 1.0000, Recall: 1.0000, F1 Score: 1.0000\n",
      "Class 11 - Precision: 0.9091, Recall: 1.0000, F1 Score: 0.9524\n",
      "Class 12 - Precision: 1.0000, Recall: 1.0000, F1 Score: 1.0000\n",
      "Class 13 - Precision: 1.0000, Recall: 0.8000, F1 Score: 0.8889\n",
      "Class 14 - Precision: 1.0000, Recall: 1.0000, F1 Score: 1.0000\n",
      "Class 15 - Precision: 1.0000, Recall: 0.9000, F1 Score: 0.9474\n",
      "Class 16 - Precision: 1.0000, Recall: 0.9000, F1 Score: 0.9474\n",
      "Class 17 - Precision: 1.0000, Recall: 1.0000, F1 Score: 1.0000\n",
      "Class 18 - Precision: 0.9091, Recall: 1.0000, F1 Score: 0.9524\n",
      "Class 19 - Precision: 1.0000, Recall: 1.0000, F1 Score: 1.0000\n",
      "Class 20 - Precision: 1.0000, Recall: 0.8000, F1 Score: 0.8889\n",
      "Class 21 - Precision: 0.9091, Recall: 1.0000, F1 Score: 0.9524\n",
      "Class 22 - Precision: 1.0000, Recall: 1.0000, F1 Score: 1.0000\n",
      "Class 23 - Precision: 1.0000, Recall: 1.0000, F1 Score: 1.0000\n",
      "Class 24 - Precision: 0.9091, Recall: 1.0000, F1 Score: 0.9524\n",
      "Class 25 - Precision: 1.0000, Recall: 0.9000, F1 Score: 0.9474\n",
      "Class 26 - Precision: 1.0000, Recall: 1.0000, F1 Score: 1.0000\n",
      "Class 27 - Precision: 1.0000, Recall: 0.9000, F1 Score: 0.9474\n",
      "Class 28 - Precision: 1.0000, Recall: 1.0000, F1 Score: 1.0000\n",
      "Class 29 - Precision: 1.0000, Recall: 0.8000, F1 Score: 0.8889\n",
      "Class 30 - Precision: 1.0000, Recall: 1.0000, F1 Score: 1.0000\n",
      "Class 31 - Precision: 0.9091, Recall: 1.0000, F1 Score: 0.9524\n",
      "Class 32 - Precision: 1.0000, Recall: 0.9000, F1 Score: 0.9474\n",
      "Class 33 - Precision: 0.9091, Recall: 1.0000, F1 Score: 0.9524\n",
      "Class 34 - Precision: 1.0000, Recall: 1.0000, F1 Score: 1.0000\n",
      "Class 35 - Precision: 1.0000, Recall: 1.0000, F1 Score: 1.0000\n",
      "Class 36 - Precision: 1.0000, Recall: 1.0000, F1 Score: 1.0000\n",
      "Class 37 - Precision: 1.0000, Recall: 1.0000, F1 Score: 1.0000\n",
      "Class 38 - Precision: 1.0000, Recall: 1.0000, F1 Score: 1.0000\n",
      "Class 39 - Precision: 1.0000, Recall: 0.9000, F1 Score: 0.9474\n",
      "Class 40 - Precision: 0.9091, Recall: 1.0000, F1 Score: 0.9524\n",
      "Class 41 - Precision: 1.0000, Recall: 0.9000, F1 Score: 0.9474\n",
      "Class 42 - Precision: 1.0000, Recall: 1.0000, F1 Score: 1.0000\n",
      "Class 43 - Precision: 0.9091, Recall: 1.0000, F1 Score: 0.9524\n",
      "Class 44 - Precision: 1.0000, Recall: 0.9000, F1 Score: 0.9474\n",
      "Class 45 - Precision: 0.9091, Recall: 1.0000, F1 Score: 0.9524\n",
      "Class 46 - Precision: 1.0000, Recall: 0.9000, F1 Score: 0.9474\n",
      "Class 47 - Precision: 0.9091, Recall: 1.0000, F1 Score: 0.9524\n",
      "Class 48 - Precision: 0.9000, Recall: 0.9000, F1 Score: 0.9000\n",
      "Class 49 - Precision: 1.0000, Recall: 1.0000, F1 Score: 1.0000\n",
      "Class 50 - Precision: 0.8889, Recall: 0.8000, F1 Score: 0.8421\n",
      "Class 51 - Precision: 0.9091, Recall: 1.0000, F1 Score: 0.9524\n",
      "Class 52 - Precision: 1.0000, Recall: 1.0000, F1 Score: 1.0000\n",
      "Class 53 - Precision: 1.0000, Recall: 1.0000, F1 Score: 1.0000\n",
      "Class 54 - Precision: 1.0000, Recall: 1.0000, F1 Score: 1.0000\n",
      "Class 55 - Precision: 0.8333, Recall: 1.0000, F1 Score: 0.9091\n",
      "Class 56 - Precision: 1.0000, Recall: 0.9000, F1 Score: 0.9474\n",
      "Class 57 - Precision: 1.0000, Recall: 1.0000, F1 Score: 1.0000\n",
      "Class 58 - Precision: 1.0000, Recall: 0.9000, F1 Score: 0.9474\n",
      "Class 59 - Precision: 1.0000, Recall: 1.0000, F1 Score: 1.0000\n",
      "Class 60 - Precision: 0.8333, Recall: 1.0000, F1 Score: 0.9091\n",
      "Class 61 - Precision: 1.0000, Recall: 0.9000, F1 Score: 0.9474\n",
      "Class 62 - Precision: 1.0000, Recall: 0.9000, F1 Score: 0.9474\n",
      "Class 63 - Precision: 0.9000, Recall: 0.9000, F1 Score: 0.9000\n",
      "Class 64 - Precision: 1.0000, Recall: 1.0000, F1 Score: 1.0000\n",
      "Class 65 - Precision: 1.0000, Recall: 0.9000, F1 Score: 0.9474\n",
      "Class 66 - Precision: 1.0000, Recall: 0.9000, F1 Score: 0.9474\n",
      "Class 67 - Precision: 1.0000, Recall: 1.0000, F1 Score: 1.0000\n",
      "Class 68 - Precision: 1.0000, Recall: 0.9000, F1 Score: 0.9474\n",
      "Class 69 - Precision: 1.0000, Recall: 0.9000, F1 Score: 0.9474\n",
      "Class 70 - Precision: 1.0000, Recall: 1.0000, F1 Score: 1.0000\n",
      "Class 71 - Precision: 1.0000, Recall: 0.9000, F1 Score: 0.9474\n",
      "Class 72 - Precision: 1.0000, Recall: 0.9000, F1 Score: 0.9474\n",
      "Class 73 - Precision: 0.9091, Recall: 1.0000, F1 Score: 0.9524\n",
      "Class 74 - Precision: 0.9091, Recall: 1.0000, F1 Score: 0.9524\n",
      "Class 75 - Precision: 0.9091, Recall: 1.0000, F1 Score: 0.9524\n",
      "Class 76 - Precision: 1.0000, Recall: 0.9000, F1 Score: 0.9474\n",
      "Class 77 - Precision: 1.0000, Recall: 0.9000, F1 Score: 0.9474\n",
      "Class 78 - Precision: 1.0000, Recall: 0.9000, F1 Score: 0.9474\n",
      "Class 79 - Precision: 1.0000, Recall: 0.8000, F1 Score: 0.8889\n",
      "Class 80 - Precision: 1.0000, Recall: 1.0000, F1 Score: 1.0000\n",
      "Class 81 - Precision: 1.0000, Recall: 1.0000, F1 Score: 1.0000\n",
      "Class 82 - Precision: 0.9091, Recall: 1.0000, F1 Score: 0.9524\n",
      "Class 83 - Precision: 1.0000, Recall: 1.0000, F1 Score: 1.0000\n",
      "Class 84 - Precision: 1.0000, Recall: 1.0000, F1 Score: 1.0000\n",
      "Class 85 - Precision: 1.0000, Recall: 1.0000, F1 Score: 1.0000\n",
      "Class 86 - Precision: 1.0000, Recall: 0.9000, F1 Score: 0.9474\n",
      "Class 87 - Precision: 1.0000, Recall: 1.0000, F1 Score: 1.0000\n",
      "Class 88 - Precision: 1.0000, Recall: 1.0000, F1 Score: 1.0000\n",
      "Class 89 - Precision: 1.0000, Recall: 1.0000, F1 Score: 1.0000\n",
      "Class 90 - Precision: 0.8889, Recall: 0.8000, F1 Score: 0.8421\n",
      "Class 91 - Precision: 1.0000, Recall: 0.9000, F1 Score: 0.9474\n",
      "Class 92 - Precision: 0.9091, Recall: 1.0000, F1 Score: 0.9524\n",
      "Class 93 - Precision: 1.0000, Recall: 0.8000, F1 Score: 0.8889\n",
      "Class 94 - Precision: 1.0000, Recall: 1.0000, F1 Score: 1.0000\n",
      "Class 95 - Precision: 1.0000, Recall: 1.0000, F1 Score: 1.0000\n",
      "Class 96 - Precision: 0.9091, Recall: 1.0000, F1 Score: 0.9524\n",
      "Class 97 - Precision: 1.0000, Recall: 1.0000, F1 Score: 1.0000\n",
      "Class 98 - Precision: 1.0000, Recall: 1.0000, F1 Score: 1.0000\n",
      "Class 99 - Precision: 0.9000, Recall: 0.9000, F1 Score: 0.9000\n",
      "Class 100 - Precision: 1.0000, Recall: 0.8000, F1 Score: 0.8889\n",
      "Class 101 - Precision: 0.9091, Recall: 1.0000, F1 Score: 0.9524\n",
      "Class 102 - Precision: 1.0000, Recall: 0.9000, F1 Score: 0.9474\n",
      "Class 103 - Precision: 1.0000, Recall: 1.0000, F1 Score: 1.0000\n",
      "Class 104 - Precision: 1.0000, Recall: 1.0000, F1 Score: 1.0000\n",
      "Class 105 - Precision: 1.0000, Recall: 1.0000, F1 Score: 1.0000\n",
      "Class 106 - Precision: 0.9091, Recall: 1.0000, F1 Score: 0.9524\n",
      "Class 107 - Precision: 1.0000, Recall: 1.0000, F1 Score: 1.0000\n",
      "Class 108 - Precision: 0.8333, Recall: 1.0000, F1 Score: 0.9091\n",
      "Class 109 - Precision: 1.0000, Recall: 1.0000, F1 Score: 1.0000\n",
      "Class 110 - Precision: 1.0000, Recall: 0.9000, F1 Score: 0.9474\n",
      "Class 111 - Precision: 1.0000, Recall: 1.0000, F1 Score: 1.0000\n",
      "Class 112 - Precision: 1.0000, Recall: 1.0000, F1 Score: 1.0000\n",
      "Class 113 - Precision: 0.9091, Recall: 1.0000, F1 Score: 0.9524\n",
      "Class 114 - Precision: 1.0000, Recall: 1.0000, F1 Score: 1.0000\n",
      "Class 115 - Precision: 1.0000, Recall: 1.0000, F1 Score: 1.0000\n",
      "Class 116 - Precision: 1.0000, Recall: 1.0000, F1 Score: 1.0000\n",
      "Class 117 - Precision: 1.0000, Recall: 1.0000, F1 Score: 1.0000\n",
      "Class 118 - Precision: 1.0000, Recall: 1.0000, F1 Score: 1.0000\n",
      "Class 119 - Precision: 1.0000, Recall: 0.9000, F1 Score: 0.9474\n",
      "Class 120 - Precision: 0.9091, Recall: 1.0000, F1 Score: 0.9524\n",
      "Class 121 - Precision: 1.0000, Recall: 1.0000, F1 Score: 1.0000\n",
      "Class 122 - Precision: 1.0000, Recall: 1.0000, F1 Score: 1.0000\n",
      "Class 123 - Precision: 0.9091, Recall: 1.0000, F1 Score: 0.9524\n",
      "Class 124 - Precision: 0.8333, Recall: 1.0000, F1 Score: 0.9091\n",
      "Class 125 - Precision: 1.0000, Recall: 1.0000, F1 Score: 1.0000\n",
      "Class 126 - Precision: 0.8333, Recall: 1.0000, F1 Score: 0.9091\n",
      "Class 127 - Precision: 1.0000, Recall: 1.0000, F1 Score: 1.0000\n",
      "Class 128 - Precision: 1.0000, Recall: 1.0000, F1 Score: 1.0000\n",
      "Class 129 - Precision: 0.9091, Recall: 1.0000, F1 Score: 0.9524\n",
      "Class 130 - Precision: 0.9091, Recall: 1.0000, F1 Score: 0.9524\n",
      "Class 131 - Precision: 1.0000, Recall: 1.0000, F1 Score: 1.0000\n",
      "Class 132 - Precision: 0.9091, Recall: 1.0000, F1 Score: 0.9524\n",
      "Class 133 - Precision: 1.0000, Recall: 1.0000, F1 Score: 1.0000\n",
      "Class 134 - Precision: 0.7143, Recall: 1.0000, F1 Score: 0.8333\n",
      "Class 135 - Precision: 1.0000, Recall: 0.9000, F1 Score: 0.9474\n",
      "Class 136 - Precision: 0.9091, Recall: 1.0000, F1 Score: 0.9524\n",
      "Class 137 - Precision: 1.0000, Recall: 0.7000, F1 Score: 0.8235\n",
      "Class 138 - Precision: 1.0000, Recall: 1.0000, F1 Score: 1.0000\n",
      "Class 139 - Precision: 0.8333, Recall: 1.0000, F1 Score: 0.9091\n",
      "Class 140 - Precision: 1.0000, Recall: 1.0000, F1 Score: 1.0000\n",
      "Class 141 - Precision: 1.0000, Recall: 1.0000, F1 Score: 1.0000\n",
      "Class 142 - Precision: 1.0000, Recall: 0.8000, F1 Score: 0.8889\n",
      "Class 143 - Precision: 1.0000, Recall: 1.0000, F1 Score: 1.0000\n"
     ]
    },
    {
     "name": "stderr",
     "output_type": "stream",
     "text": [
      "\n"
     ]
    }
   ],
   "source": [
    "# Evaluate uring validation dataset\n",
    "precision, recall, f1, cm = evaluate_model(model, valid_loader, device=device)"
   ]
  },
  {
   "cell_type": "code",
   "execution_count": 81,
   "metadata": {},
   "outputs": [
    {
     "name": "stderr",
     "output_type": "stream",
     "text": [
      "100%|██████████| 3/3 [00:01<00:00,  2.23it/s]"
     ]
    },
    {
     "name": "stdout",
     "output_type": "stream",
     "text": [
      "Average Precision: 0.9401\n",
      "Average Recall: 0.9340\n",
      "Average F1 score: 0.9332\n",
      "Class 0 - Precision: 1.0000, Recall: 0.8000, F1 Score: 0.8889\n",
      "Class 1 - Precision: 0.9000, Recall: 0.9000, F1 Score: 0.9000\n",
      "Class 2 - Precision: 1.0000, Recall: 1.0000, F1 Score: 1.0000\n",
      "Class 3 - Precision: 1.0000, Recall: 0.8000, F1 Score: 0.8889\n",
      "Class 4 - Precision: 0.9091, Recall: 1.0000, F1 Score: 0.9524\n",
      "Class 5 - Precision: 0.9000, Recall: 0.9000, F1 Score: 0.9000\n",
      "Class 6 - Precision: 1.0000, Recall: 0.8000, F1 Score: 0.8889\n",
      "Class 7 - Precision: 1.0000, Recall: 0.9000, F1 Score: 0.9474\n",
      "Class 8 - Precision: 1.0000, Recall: 0.7000, F1 Score: 0.8235\n",
      "Class 9 - Precision: 0.8333, Recall: 1.0000, F1 Score: 0.9091\n",
      "Class 10 - Precision: 1.0000, Recall: 0.9000, F1 Score: 0.9474\n",
      "Class 11 - Precision: 0.9000, Recall: 0.9000, F1 Score: 0.9000\n",
      "Class 12 - Precision: 1.0000, Recall: 0.9000, F1 Score: 0.9474\n",
      "Class 13 - Precision: 1.0000, Recall: 0.9000, F1 Score: 0.9474\n",
      "Class 14 - Precision: 0.9091, Recall: 1.0000, F1 Score: 0.9524\n",
      "Class 15 - Precision: 1.0000, Recall: 0.7000, F1 Score: 0.8235\n",
      "Class 16 - Precision: 0.9000, Recall: 0.9000, F1 Score: 0.9000\n",
      "Class 17 - Precision: 1.0000, Recall: 1.0000, F1 Score: 1.0000\n",
      "Class 18 - Precision: 1.0000, Recall: 1.0000, F1 Score: 1.0000\n",
      "Class 19 - Precision: 0.9091, Recall: 1.0000, F1 Score: 0.9524\n",
      "Class 20 - Precision: 0.9000, Recall: 0.9000, F1 Score: 0.9000\n",
      "Class 21 - Precision: 0.8000, Recall: 0.8000, F1 Score: 0.8000\n",
      "Class 22 - Precision: 1.0000, Recall: 1.0000, F1 Score: 1.0000\n",
      "Class 23 - Precision: 0.9000, Recall: 0.9000, F1 Score: 0.9000\n",
      "Class 24 - Precision: 0.8333, Recall: 1.0000, F1 Score: 0.9091\n",
      "Class 25 - Precision: 1.0000, Recall: 0.9000, F1 Score: 0.9474\n",
      "Class 26 - Precision: 0.8750, Recall: 0.7000, F1 Score: 0.7778\n",
      "Class 27 - Precision: 1.0000, Recall: 1.0000, F1 Score: 1.0000\n",
      "Class 28 - Precision: 0.9000, Recall: 0.9000, F1 Score: 0.9000\n",
      "Class 29 - Precision: 1.0000, Recall: 0.9000, F1 Score: 0.9474\n",
      "Class 30 - Precision: 0.9091, Recall: 1.0000, F1 Score: 0.9524\n",
      "Class 31 - Precision: 1.0000, Recall: 1.0000, F1 Score: 1.0000\n",
      "Class 32 - Precision: 1.0000, Recall: 1.0000, F1 Score: 1.0000\n",
      "Class 33 - Precision: 0.8333, Recall: 1.0000, F1 Score: 0.9091\n",
      "Class 34 - Precision: 1.0000, Recall: 1.0000, F1 Score: 1.0000\n",
      "Class 35 - Precision: 1.0000, Recall: 1.0000, F1 Score: 1.0000\n",
      "Class 36 - Precision: 1.0000, Recall: 1.0000, F1 Score: 1.0000\n",
      "Class 37 - Precision: 1.0000, Recall: 1.0000, F1 Score: 1.0000\n",
      "Class 38 - Precision: 1.0000, Recall: 1.0000, F1 Score: 1.0000\n",
      "Class 39 - Precision: 1.0000, Recall: 1.0000, F1 Score: 1.0000\n",
      "Class 40 - Precision: 1.0000, Recall: 1.0000, F1 Score: 1.0000\n",
      "Class 41 - Precision: 0.8333, Recall: 1.0000, F1 Score: 0.9091\n",
      "Class 42 - Precision: 0.9091, Recall: 1.0000, F1 Score: 0.9524\n",
      "Class 43 - Precision: 1.0000, Recall: 0.9000, F1 Score: 0.9474\n",
      "Class 44 - Precision: 0.8889, Recall: 0.8000, F1 Score: 0.8421\n",
      "Class 45 - Precision: 1.0000, Recall: 0.9000, F1 Score: 0.9474\n",
      "Class 46 - Precision: 0.7273, Recall: 0.8000, F1 Score: 0.7619\n",
      "Class 47 - Precision: 0.9091, Recall: 1.0000, F1 Score: 0.9524\n",
      "Class 48 - Precision: 0.9091, Recall: 1.0000, F1 Score: 0.9524\n",
      "Class 49 - Precision: 0.8333, Recall: 1.0000, F1 Score: 0.9091\n",
      "Class 50 - Precision: 0.8333, Recall: 1.0000, F1 Score: 0.9091\n",
      "Class 51 - Precision: 0.8333, Recall: 1.0000, F1 Score: 0.9091\n",
      "Class 52 - Precision: 0.9091, Recall: 1.0000, F1 Score: 0.9524\n",
      "Class 53 - Precision: 0.9091, Recall: 1.0000, F1 Score: 0.9524\n",
      "Class 54 - Precision: 1.0000, Recall: 1.0000, F1 Score: 1.0000\n",
      "Class 55 - Precision: 1.0000, Recall: 0.9000, F1 Score: 0.9474\n",
      "Class 56 - Precision: 1.0000, Recall: 1.0000, F1 Score: 1.0000\n",
      "Class 57 - Precision: 1.0000, Recall: 0.8000, F1 Score: 0.8889\n",
      "Class 58 - Precision: 0.9000, Recall: 0.9000, F1 Score: 0.9000\n",
      "Class 59 - Precision: 0.8889, Recall: 0.8000, F1 Score: 0.8421\n",
      "Class 60 - Precision: 0.8333, Recall: 1.0000, F1 Score: 0.9091\n",
      "Class 61 - Precision: 1.0000, Recall: 0.8000, F1 Score: 0.8889\n",
      "Class 62 - Precision: 0.9091, Recall: 1.0000, F1 Score: 0.9524\n",
      "Class 63 - Precision: 0.8889, Recall: 0.8000, F1 Score: 0.8421\n",
      "Class 64 - Precision: 1.0000, Recall: 1.0000, F1 Score: 1.0000\n",
      "Class 65 - Precision: 0.9091, Recall: 1.0000, F1 Score: 0.9524\n",
      "Class 66 - Precision: 1.0000, Recall: 1.0000, F1 Score: 1.0000\n",
      "Class 67 - Precision: 1.0000, Recall: 1.0000, F1 Score: 1.0000\n",
      "Class 68 - Precision: 0.9091, Recall: 1.0000, F1 Score: 0.9524\n",
      "Class 69 - Precision: 0.9091, Recall: 1.0000, F1 Score: 0.9524\n",
      "Class 70 - Precision: 0.9091, Recall: 1.0000, F1 Score: 0.9524\n",
      "Class 71 - Precision: 1.0000, Recall: 0.9000, F1 Score: 0.9474\n",
      "Class 72 - Precision: 1.0000, Recall: 0.9000, F1 Score: 0.9474\n",
      "Class 73 - Precision: 0.9091, Recall: 1.0000, F1 Score: 0.9524\n",
      "Class 74 - Precision: 0.8333, Recall: 1.0000, F1 Score: 0.9091\n",
      "Class 75 - Precision: 0.9000, Recall: 0.9000, F1 Score: 0.9000\n",
      "Class 76 - Precision: 0.8750, Recall: 0.7000, F1 Score: 0.7778\n",
      "Class 77 - Precision: 1.0000, Recall: 0.8000, F1 Score: 0.8889\n",
      "Class 78 - Precision: 0.9000, Recall: 0.9000, F1 Score: 0.9000\n",
      "Class 79 - Precision: 1.0000, Recall: 0.7000, F1 Score: 0.8235\n",
      "Class 80 - Precision: 0.9091, Recall: 1.0000, F1 Score: 0.9524\n",
      "Class 81 - Precision: 1.0000, Recall: 0.8000, F1 Score: 0.8889\n",
      "Class 82 - Precision: 0.9091, Recall: 1.0000, F1 Score: 0.9524\n",
      "Class 83 - Precision: 1.0000, Recall: 1.0000, F1 Score: 1.0000\n",
      "Class 84 - Precision: 1.0000, Recall: 1.0000, F1 Score: 1.0000\n",
      "Class 85 - Precision: 0.9091, Recall: 1.0000, F1 Score: 0.9524\n",
      "Class 86 - Precision: 1.0000, Recall: 0.9000, F1 Score: 0.9474\n",
      "Class 87 - Precision: 0.7692, Recall: 1.0000, F1 Score: 0.8696\n",
      "Class 88 - Precision: 0.9000, Recall: 0.9000, F1 Score: 0.9000\n",
      "Class 89 - Precision: 0.8333, Recall: 1.0000, F1 Score: 0.9091\n",
      "Class 90 - Precision: 0.8889, Recall: 0.8000, F1 Score: 0.8421\n",
      "Class 91 - Precision: 1.0000, Recall: 0.9000, F1 Score: 0.9474\n",
      "Class 92 - Precision: 1.0000, Recall: 0.9000, F1 Score: 0.9474\n",
      "Class 93 - Precision: 0.8182, Recall: 0.9000, F1 Score: 0.8571\n",
      "Class 94 - Precision: 1.0000, Recall: 1.0000, F1 Score: 1.0000\n",
      "Class 95 - Precision: 1.0000, Recall: 1.0000, F1 Score: 1.0000\n",
      "Class 96 - Precision: 0.8333, Recall: 1.0000, F1 Score: 0.9091\n",
      "Class 97 - Precision: 0.9091, Recall: 1.0000, F1 Score: 0.9524\n",
      "Class 98 - Precision: 1.0000, Recall: 1.0000, F1 Score: 1.0000\n",
      "Class 99 - Precision: 0.9091, Recall: 1.0000, F1 Score: 0.9524\n",
      "Class 100 - Precision: 1.0000, Recall: 0.9000, F1 Score: 0.9474\n",
      "Class 101 - Precision: 1.0000, Recall: 1.0000, F1 Score: 1.0000\n",
      "Class 102 - Precision: 1.0000, Recall: 0.8000, F1 Score: 0.8889\n",
      "Class 103 - Precision: 1.0000, Recall: 0.9000, F1 Score: 0.9474\n",
      "Class 104 - Precision: 0.9091, Recall: 1.0000, F1 Score: 0.9524\n",
      "Class 105 - Precision: 1.0000, Recall: 0.8000, F1 Score: 0.8889\n",
      "Class 106 - Precision: 0.8333, Recall: 1.0000, F1 Score: 0.9091\n",
      "Class 107 - Precision: 1.0000, Recall: 0.9000, F1 Score: 0.9474\n",
      "Class 108 - Precision: 1.0000, Recall: 1.0000, F1 Score: 1.0000\n",
      "Class 109 - Precision: 1.0000, Recall: 1.0000, F1 Score: 1.0000\n",
      "Class 110 - Precision: 1.0000, Recall: 0.9000, F1 Score: 0.9474\n",
      "Class 111 - Precision: 0.8333, Recall: 1.0000, F1 Score: 0.9091\n",
      "Class 112 - Precision: 1.0000, Recall: 0.9000, F1 Score: 0.9474\n",
      "Class 113 - Precision: 0.9091, Recall: 1.0000, F1 Score: 0.9524\n",
      "Class 114 - Precision: 1.0000, Recall: 1.0000, F1 Score: 1.0000\n",
      "Class 115 - Precision: 0.9091, Recall: 1.0000, F1 Score: 0.9524\n",
      "Class 116 - Precision: 0.9000, Recall: 0.9000, F1 Score: 0.9000\n",
      "Class 117 - Precision: 0.9091, Recall: 1.0000, F1 Score: 0.9524\n",
      "Class 118 - Precision: 1.0000, Recall: 1.0000, F1 Score: 1.0000\n",
      "Class 119 - Precision: 1.0000, Recall: 0.9000, F1 Score: 0.9474\n",
      "Class 120 - Precision: 0.9091, Recall: 1.0000, F1 Score: 0.9524\n",
      "Class 121 - Precision: 0.9091, Recall: 1.0000, F1 Score: 0.9524\n",
      "Class 122 - Precision: 0.9000, Recall: 0.9000, F1 Score: 0.9000\n",
      "Class 123 - Precision: 1.0000, Recall: 0.9000, F1 Score: 0.9474\n",
      "Class 124 - Precision: 1.0000, Recall: 0.9000, F1 Score: 0.9474\n",
      "Class 125 - Precision: 1.0000, Recall: 0.9000, F1 Score: 0.9474\n",
      "Class 126 - Precision: 1.0000, Recall: 0.9000, F1 Score: 0.9474\n",
      "Class 127 - Precision: 0.8333, Recall: 1.0000, F1 Score: 0.9091\n",
      "Class 128 - Precision: 1.0000, Recall: 1.0000, F1 Score: 1.0000\n",
      "Class 129 - Precision: 0.9091, Recall: 1.0000, F1 Score: 0.9524\n",
      "Class 130 - Precision: 1.0000, Recall: 0.9000, F1 Score: 0.9474\n",
      "Class 131 - Precision: 0.7692, Recall: 1.0000, F1 Score: 0.8696\n",
      "Class 132 - Precision: 0.9091, Recall: 1.0000, F1 Score: 0.9524\n",
      "Class 133 - Precision: 0.8182, Recall: 0.9000, F1 Score: 0.8571\n",
      "Class 134 - Precision: 0.8333, Recall: 1.0000, F1 Score: 0.9091\n",
      "Class 135 - Precision: 0.9000, Recall: 0.9000, F1 Score: 0.9000\n",
      "Class 136 - Precision: 1.0000, Recall: 1.0000, F1 Score: 1.0000\n",
      "Class 137 - Precision: 0.9091, Recall: 1.0000, F1 Score: 0.9524\n",
      "Class 138 - Precision: 1.0000, Recall: 0.7000, F1 Score: 0.8235\n",
      "Class 139 - Precision: 1.0000, Recall: 0.9000, F1 Score: 0.9474\n",
      "Class 140 - Precision: 1.0000, Recall: 0.7000, F1 Score: 0.8235\n",
      "Class 141 - Precision: 0.9091, Recall: 1.0000, F1 Score: 0.9524\n",
      "Class 142 - Precision: 1.0000, Recall: 1.0000, F1 Score: 1.0000\n",
      "Class 143 - Precision: 1.0000, Recall: 0.8000, F1 Score: 0.8889\n"
     ]
    },
    {
     "name": "stderr",
     "output_type": "stream",
     "text": [
      "\n"
     ]
    }
   ],
   "source": [
    "# Evaluate uring test dataset\n",
    "precision, recall, f1, cm = evaluate_model(model, test_loader, device=device)"
   ]
  },
  {
   "cell_type": "markdown",
   "metadata": {},
   "source": [
    "### Inference"
   ]
  },
  {
   "cell_type": "code",
   "execution_count": 82,
   "metadata": {},
   "outputs": [],
   "source": [
    "labels = train_dataset.classes"
   ]
  },
  {
   "cell_type": "code",
   "execution_count": 87,
   "metadata": {},
   "outputs": [],
   "source": [
    "inference_transform = transforms.Compose([\n",
    "    transforms.ToPILImage(),\n",
    "    transforms.Resize(224),\n",
    "    transforms.ToTensor(),\n",
    "    transforms.Normalize(mean=[0.485, 0.456, 0.406], std=[0.229, 0.224, 0.225])\n",
    "]) "
   ]
  },
  {
   "cell_type": "code",
   "execution_count": 88,
   "metadata": {},
   "outputs": [],
   "source": [
    "def inference(path, save_dir='./outputs'):\n",
    "    # If the path is a image file\n",
    "    if os.path.isfile(path):\n",
    "        if path.endswith('.jpg') or path.endswith('.png') or filename.path('.jpeg') \\\n",
    "                or path.endswith('.JPG') or path.endswith('.PNG') or path.endswith('.JPEG'):\n",
    "            image = cv2.imread(path)\n",
    "            gt_class = path.split('/')[-2]\n",
    "            orig_image = image.copy()\n",
    "            # convert to RGB format\n",
    "            image = cv2.cvtColor(image, cv2.COLOR_BGR2RGB)\n",
    "            image = inference_transform(image)\n",
    "            image = torch.unsqueeze(image, 0)\n",
    "            with torch.no_grad():\n",
    "                outputs = model(image.to(device))\n",
    "            output_label = torch.topk(outputs, 1)\n",
    "            pred_class = labels[int(output_label.indices)]\n",
    "            cv2.putText(orig_image, \n",
    "                f\"GT: {gt_class}\",\n",
    "                (10, 20),\n",
    "                cv2.FONT_HERSHEY_SIMPLEX, \n",
    "                0.6, (255, 255, 255), 2, cv2.LINE_AA\n",
    "            )\n",
    "            cv2.putText(orig_image, \n",
    "                f\"Pred: {pred_class}\",\n",
    "                (10, 40),\n",
    "                cv2.FONT_HERSHEY_SIMPLEX, \n",
    "                0.6, (255, 255, 255), 2, cv2.LINE_AA\n",
    "            )\n",
    "            print(f\"GT: {gt_class}, pred: {pred_class}\")\n",
    "            cv2.imwrite(f\"outputs/{path.split('/')[-1]}\", orig_image)\n",
    "    # If the file is a directory\n",
    "    elif os.path.isdir(path):\n",
    "        save_dir = os.path.join(save_dir, os.path.basename(os.path.normpath(path)))\n",
    "        os.makedirs(save_dir, exist_ok=True)\n",
    "        files = os.listdir(path)\n",
    "        correct_prediction = 0\n",
    "        incorrect_prediction = 0\n",
    "        for filename in tqdm(files):\n",
    "            if filename.endswith('.jpg') or filename.endswith('.png') or filename.endswith('.jpeg') \\\n",
    "                or filename.endswith('.JPG') or filename.endswith('.PNG') or filename.endswith('.JPEG'):\n",
    "                image_path = os.path.join(path, filename)\n",
    "                save_image_path = os.path.join(save_dir, filename)\n",
    "                image = cv2.imread(image_path)\n",
    "                gt_class = image_path.split('/')[-2]\n",
    "\n",
    "                orig_image = image.copy()\n",
    "                # convert to RGB format\n",
    "                image = cv2.cvtColor(image, cv2.COLOR_BGR2RGB)\n",
    "                image = inference_transform(image)\n",
    "                image = torch.unsqueeze(image, 0)\n",
    "                with torch.no_grad():\n",
    "                    outputs = model(image.to(device))\n",
    "                output_label = torch.topk(outputs, 1)\n",
    "                pred_class = labels[int(output_label.indices)]\n",
    "                cv2.putText(orig_image, \n",
    "                    f\"GT: {gt_class}\",\n",
    "                    (10, 20),\n",
    "                    cv2.FONT_HERSHEY_SIMPLEX, \n",
    "                    0.6, (0, 255, 0), 2, cv2.LINE_AA\n",
    "                )\n",
    "                cv2.putText(orig_image, \n",
    "                    f\"Pred: {pred_class}\",\n",
    "                    (10, 40),\n",
    "                    cv2.FONT_HERSHEY_SIMPLEX, \n",
    "                    0.6, (255, 0, 0), 2, cv2.LINE_AA\n",
    "                )\n",
    "                if gt_class == pred_class:\n",
    "                    correct_prediction+=1\n",
    "                else:\n",
    "                    incorrect_prediction+=1\n",
    "                cv2.imwrite(save_image_path, orig_image)\n",
    "        print(f'Total images: {correct_prediction + incorrect_prediction}')\n",
    "        print(f'Correct prediction: {correct_prediction}')\n",
    "        print(f'Incorrect prediction: {incorrect_prediction}')"
   ]
  },
  {
   "cell_type": "code",
   "execution_count": 93,
   "metadata": {},
   "outputs": [
    {
     "name": "stderr",
     "output_type": "stream",
     "text": [
      "100%|██████████| 10/10 [00:00<00:00, 274.96it/s]"
     ]
    },
    {
     "name": "stdout",
     "output_type": "stream",
     "text": [
      "Total images: 10\n",
      "Correct prediction: 10\n",
      "Incorrect prediction: 0\n"
     ]
    },
    {
     "name": "stderr",
     "output_type": "stream",
     "text": [
      "\n"
     ]
    }
   ],
   "source": [
    "image_dir = '/media/imran4070/SSD/imran/datasets/classification/time/test/1-20'\n",
    "save_dir = 'resnet18_outputs/test/'\n",
    "inference(image_dir, save_dir)"
   ]
  }
 ],
 "metadata": {
  "kernelspec": {
   "display_name": "torch_tf",
   "language": "python",
   "name": "python3"
  },
  "language_info": {
   "codemirror_mode": {
    "name": "ipython",
    "version": 3
   },
   "file_extension": ".py",
   "mimetype": "text/x-python",
   "name": "python",
   "nbconvert_exporter": "python",
   "pygments_lexer": "ipython3",
   "version": "3.10.14"
  }
 },
 "nbformat": 4,
 "nbformat_minor": 2
}
